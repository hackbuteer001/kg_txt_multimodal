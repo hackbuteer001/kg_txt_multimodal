{
 "cells": [
  {
   "cell_type": "code",
   "execution_count": 1,
   "id": "paperback-light",
   "metadata": {},
   "outputs": [],
   "source": [
    "import subprocess\n",
    "import json\n",
    "import os\n",
    "\n",
    "import torch"
   ]
  },
  {
   "cell_type": "code",
   "execution_count": 2,
   "id": "plain-aquatic",
   "metadata": {},
   "outputs": [],
   "source": [
    "os.chdir('/home/ssbae/bae/kg_txt_multimodal/lxmert/src/')\n",
    "EXP_PATH = os.path.abspath('..')"
   ]
  },
  {
   "cell_type": "markdown",
   "id": "stylish-video",
   "metadata": {},
   "source": [
    "# prescriptions"
   ]
  },
  {
   "cell_type": "code",
   "execution_count": 3,
   "id": "awful-extension",
   "metadata": {},
   "outputs": [],
   "source": [
    "# ======================= CONFIG ==================== #\n",
    "## GPU setting\n",
    "os.environ[\"CUDA_VISIBLE_DEVICES\"] = '0'\n",
    "## TASK & DB\n",
    "TASK_NAME = 'generation'\n",
    "DB = 'px'\n",
    "DB_size = 1000\n",
    "MODEL_TYPE = 'both'\n",
    "Unified = True\n",
    "Align = False\n",
    "Relation_Classification = False\n",
    "Scratch_Downstream = False\n",
    "## Important Model Config\n",
    "Dim_Hidden = 128\n",
    "NUM_Layers = {'lang':2, 'kg':2, 'cross':4}\n",
    "Dropout = 0.1\n",
    "Num_Negatives = 1\n",
    "Margin = 1.0\n",
    "# ======================= CONFIG ==================== #\n",
    "# Variables\n",
    "Var_TASK = {}\n",
    "Var_MODEL = {'both':'KGenc_LMinit', 'lm':'LMinit', 'kg':'KGenc', 'rand':'Randinit'}\n",
    "Var_Unified = 'Unified' if Unified else ''\n",
    "Var_Align = 'Align_' if Align else ''\n",
    "Var_RC = 'RC_' if Relation_Classification else ''\n",
    "assert MODEL_TYPE in Var_MODEL, \"Model not supported\"\n",
    "assert DB in ['px','dx,prx'], \"DB not supported\"\n",
    "assert TASK_NAME in ['pretrain', 'binary_retrieval', 'generation', 'single_pretrain', 'single_binary_retrieval', 'single_generation'], \"Task not supported\"\n",
    "if Scratch_Downstream is True:\n",
    "    assert Align is False and Relation_Classification is False, \"Scratch start downstream task must turn off alignment prediction & relation classification\"\n",
    "\n",
    "# Model Name\n",
    "## <LMinit & KGenc> : both, <LMinit only> : lm, <KGenc only> : kg, <RandomInit> : rand\n",
    "## Unified(Placeholder) for Abstract Node : True or False\n",
    "MODEL_NAME = f'{DB}_{Var_Unified}{\"Uni\" if MODEL_TYPE in [\"both\",\"kg\"] else \"No\"}KGenc'\n",
    "RUN_NAME = f'{DB}/{Var_MODEL[MODEL_TYPE]}_H{Dim_Hidden}_L{NUM_Layers[\"lang\"]},{NUM_Layers[\"kg\"]},{NUM_Layers[\"cross\"]}_{Var_Align}{Var_RC}{Var_Unified}{DB_size}'"
   ]
  },
  {
   "cell_type": "code",
   "execution_count": 4,
   "id": "cellular-vocabulary",
   "metadata": {},
   "outputs": [],
   "source": [
    "TRAINING_CONFIG = {\n",
    "    \"seed\":1234,\n",
    "    \"model_type\":\"lxmert\",\n",
    "    \"do_train\": True,\n",
    "    \"evaluate_during_training\": True,\n",
    "    \"do_eval\": True,\n",
    "    \"edge_cls\": Relation_Classification,\n",
    "    \"align\": Align,\n",
    "    \"n_negatives\": Num_Negatives,\n",
    "    \"prediction_loss_only\": False,\n",
    "    \"overwrite_output_dir\": False,\n",
    "    \"mlm_probability\": 0.15,\n",
    "    \"block_size\": 512,\n",
    "    \"per_device_train_batch_size\": 1,\n",
    "    \"per_device_eval_batch_size\": 1,\n",
    "    \"learning_rate\": 1e-4,\n",
    "    \"num_train_epochs\": 40,\n",
    "    \"num_log_per_epoch\": 20,\n",
    "    \"num_save_per_epoch\": -1,\n",
    "    \"num_eval_per_epoch\": 2,\n",
    "    \"task\" : TASK_NAME,\n",
    "    \"train_data_file\":os.path.join(EXP_PATH,f\"data/{DB}_{DB_size}/{MODEL_NAME}/train\"),\n",
    "    \"eval_data_file\": os.path.join(EXP_PATH,f\"data/{DB}_{DB_size}/{MODEL_NAME}/valid\"),\n",
    "    \"test_data_file\": os.path.join(EXP_PATH,f\"data/{DB}_{DB_size}/{MODEL_NAME}/test\"),\n",
    "    \"run_name\": f\"{TASK_NAME}_{RUN_NAME}\"\n",
    "}"
   ]
  },
  {
   "cell_type": "code",
   "execution_count": 5,
   "id": "meaningful-corruption",
   "metadata": {},
   "outputs": [],
   "source": [
    "import easydict\n",
    "args = easydict.EasyDict(TRAINING_CONFIG)"
   ]
  },
  {
   "cell_type": "code",
   "execution_count": 24,
   "id": "pursuant-uncertainty",
   "metadata": {},
   "outputs": [],
   "source": [
    "temp_model_name_or_path = '/home/ssbae/bae/kg_txt_multimodal/lxmert/pretrained_models/\\\n",
    "generation/px/KGenc_LMinit_H128_L2,2,4_Unified1000'"
   ]
  },
  {
   "cell_type": "code",
   "execution_count": 25,
   "id": "urban-equipment",
   "metadata": {},
   "outputs": [
    {
     "name": "stderr",
     "output_type": "stream",
     "text": [
      "Some weights of the model checkpoint at /home/ssbae/bae/kg_txt_multimodal/lxmert/pretrained_models/generation/px/KGenc_LMinit_H128_L2,2,4_Unified1000 were not used when initializing LxmertForGeneration: ['classifier.weight', 'classifier.bias', 'edge_classifier.0.weight', 'edge_classifier.0.bias', 'edge_classifier.2.weight', 'edge_classifier.2.bias']\n",
      "- This IS expected if you are initializing LxmertForGeneration from the checkpoint of a model trained on another task or with another architecture (e.g. initializing a BertForSequenceClassification model from a BertForPreTraining model).\n",
      "- This IS NOT expected if you are initializing LxmertForGeneration from the checkpoint of a model that you expect to be exactly identical (initializing a BertForSequenceClassification model from a BertForSequenceClassification model).\n",
      "Some weights of LxmertForGeneration were not initialized from the model checkpoint at /home/ssbae/bae/kg_txt_multimodal/lxmert/pretrained_models/generation/px/KGenc_LMinit_H128_L2,2,4_Unified1000 and are newly initialized: ['rand_embeds.weight']\n",
      "You should probably TRAIN this model on a down-stream task to be able to use it for predictions and inference.\n"
     ]
    }
   ],
   "source": [
    "from transformers import AutoTokenizer\n",
    "tokenizer = AutoTokenizer.from_pretrained(temp_model_name_or_path)\n",
    "\n",
    "from transformers import AutoConfig\n",
    "config = AutoConfig.from_pretrained(temp_model_name_or_path)\n",
    "\n",
    "from model import LxmertForGeneration\n",
    "model = LxmertForGeneration.from_pretrained(\n",
    "    temp_model_name_or_path,\n",
    "    tokenizer=tokenizer\n",
    ")"
   ]
  },
  {
   "cell_type": "code",
   "execution_count": 26,
   "id": "charitable-pizza",
   "metadata": {},
   "outputs": [],
   "source": [
    "from utils.dataset import get_dataset\n",
    "\n",
    "# Get datasets\n",
    "# train_dataset = get_dataset(args,\n",
    "#                             tokenizer=tokenizer,\n",
    "#                             token_type_vocab=config.token_type_vocab,\n",
    "#                             )\n",
    "eval_dataset = get_dataset(args,\n",
    "                           tokenizer=tokenizer,\n",
    "                           token_type_vocab=config.token_type_vocab,\n",
    "                           evaluate=True\n",
    "                           )\n",
    "# test_dataset = get_dataset(args,\n",
    "#                            tokenizer=tokenizer,\n",
    "#                            token_type_vocab=config.token_type_vocab,\n",
    "#                            test=True\n",
    "#                            ) if training_args.do_eval else None"
   ]
  },
  {
   "cell_type": "code",
   "execution_count": 27,
   "id": "going-monster",
   "metadata": {},
   "outputs": [],
   "source": [
    "from utils.data_collator import UniLM_DataCollator\n",
    "\n",
    "data_collator = UniLM_DataCollator(tokenizer=tokenizer,\n",
    "                                       kg_special_token_ids=config.kg_special_token_ids,\n",
    "                                       prediction=True)"
   ]
  },
  {
   "cell_type": "code",
   "execution_count": 28,
   "id": "hired-variance",
   "metadata": {},
   "outputs": [],
   "source": [
    "node2id = torch.load(os.path.join(args.eval_data_file.replace('/valid',''), 'unified_node'))\n",
    "id2node = {v:k.split('^^')[0] for k,v in node2id.items()}"
   ]
  },
  {
   "cell_type": "markdown",
   "id": "numerous-vision",
   "metadata": {},
   "source": [
    "# generation"
   ]
  },
  {
   "cell_type": "code",
   "execution_count": 29,
   "id": "stone-ground",
   "metadata": {},
   "outputs": [],
   "source": [
    "def _prepare_inputs(inputs, device):\n",
    "    if isinstance(inputs, dict):\n",
    "        for k,v in inputs.items():\n",
    "            if isinstance(v, torch.Tensor):\n",
    "                inputs[k] = v.to(device)\n",
    "    return inputs\n",
    "\n",
    "def _prepare_model(model, device):\n",
    "    model.to(device)\n",
    "    return model"
   ]
  },
  {
   "cell_type": "markdown",
   "id": "mysterious-essay",
   "metadata": {},
   "source": [
    "<br/>\n",
    "<br/>\n",
    "<br/>\n",
    "<br/>\n",
    "<br/>\n",
    "<br/>\n",
    "<br/>\n",
    "<br/>\n",
    "<br/>"
   ]
  },
  {
   "cell_type": "markdown",
   "id": "rental-rally",
   "metadata": {},
   "source": [
    "## sample1: eval_dataset, idx=0"
   ]
  },
  {
   "cell_type": "code",
   "execution_count": 30,
   "id": "enabling-secretariat",
   "metadata": {},
   "outputs": [],
   "source": [
    "base_idx = 0\n",
    "sample = data_collator(eval_dataset[base_idx:base_idx+1])"
   ]
  },
  {
   "cell_type": "code",
   "execution_count": 31,
   "id": "moderate-rally",
   "metadata": {},
   "outputs": [],
   "source": [
    "device = 'cuda' if torch.cuda.is_available() else 'cpu'\n",
    "sample = _prepare_inputs(sample, device)\n",
    "model = _prepare_model(model, device)"
   ]
  },
  {
   "cell_type": "markdown",
   "id": "constitutional-remainder",
   "metadata": {},
   "source": [
    "### normal case"
   ]
  },
  {
   "cell_type": "code",
   "execution_count": 32,
   "id": "colonial-scottish",
   "metadata": {},
   "outputs": [],
   "source": [
    "results = model(**sample, given_lang_tokens=1, know_gt_leng=False)"
   ]
  },
  {
   "cell_type": "markdown",
   "id": "complex-midwest",
   "metadata": {},
   "source": [
    "original graph"
   ]
  },
  {
   "cell_type": "code",
   "execution_count": 33,
   "id": "civil-saskatchewan",
   "metadata": {},
   "outputs": [
    {
     "data": {
      "text/plain": [
       "[[111, '\"ih\"'],\n",
       " [93, '\"1neb\"'],\n",
       " [333, '\"albuterol 0.083% neb soln\"'],\n",
       " [628, '\"albu3h\"'],\n",
       " [320, '\"lact30l\"'],\n",
       " [128, '\"30ml\"'],\n",
       " [372, '\"lactulose\"'],\n",
       " [16, '\"1000ml\"'],\n",
       " [17, '\"iv\"'],\n",
       " [259, '\"lr1000\"'],\n",
       " [24, '\"base\"'],\n",
       " [427, '\"lr\"'],\n",
       " [295, '\"15mmol\"'],\n",
       " [626, '\"kpho45i\"'],\n",
       " [17, '\"iv\"'],\n",
       " [160, '\"potassium phosphate\"'],\n",
       " [223, '\"morp2i\"'],\n",
       " [17, '\"iv\"'],\n",
       " [177, '\"morphine sulfate\"'],\n",
       " [45, '\"1mg\"'],\n",
       " [280, '\"hald5i\"'],\n",
       " [17, '\"iv\"'],\n",
       " [522, '\"haloperidol\"'],\n",
       " [1045, '\"0.25mg\"'],\n",
       " [223, '\"morp2i\"'],\n",
       " [17, '\"iv\"'],\n",
       " [177, '\"morphine sulfate\"'],\n",
       " [108, '\"2-4mg\"'],\n",
       " [35, '\"250ml\"'],\n",
       " [188, '\"ns\"'],\n",
       " [24, '\"base\"'],\n",
       " [139, '\"ns250\"'],\n",
       " [17, '\"iv\"'],\n",
       " [115, '\"25mg\"'],\n",
       " [1182, '\"quetiapine fumarate\"'],\n",
       " [398, '\"quet25\"'],\n",
       " [62, '\"insulin\"'],\n",
       " [33, '\"sc\"'],\n",
       " [62, '\"insulin\"'],\n",
       " [53, '\"0unit\"'],\n",
       " [1707, '\"morphine sulfate (concentrated oral soln)\"'],\n",
       " [1586, '\"morpconc\"'],\n",
       " [597, '\"5-10mg\"'],\n",
       " [33, '\"sc\"'],\n",
       " [391, '\"hepa5i\"'],\n",
       " [263, '\"heparin\"'],\n",
       " [112, '\"5000unit\"'],\n",
       " [30, '\"lidocaine jelly 2% (urojet)\"'],\n",
       " [60, '\"tp\"'],\n",
       " [847, '\"lid2j\"'],\n",
       " [47, '\"1appl\"'],\n",
       " [17, '\"iv\"'],\n",
       " [70, '\"furo40i\"'],\n",
       " [49, '\"furosemide\"'],\n",
       " [159, '\"10mg\"'],\n",
       " [50, '\"vancomycin\"'],\n",
       " [127, '\"1000mg\"'],\n",
       " [233, '\"vanc1f\"'],\n",
       " [17, '\"iv\"'],\n",
       " [39, '\"2.5mg\"'],\n",
       " [791, '\"olan5dtb\"'],\n",
       " [197, '\"olanzapine (disintegrating tablet)\"'],\n",
       " [49, '\"furosemide\"'],\n",
       " [494, '\"furo40\"'],\n",
       " [59, '\"40mg\"'],\n",
       " [522, '\"haloperidol\"'],\n",
       " [811, '\"halo1\"'],\n",
       " [709, '\"0.25-0.5mg\"'],\n",
       " [16, '\"1000ml\"'],\n",
       " [17, '\"iv\"'],\n",
       " [36, '\"kcl20/1000d51/2ns\"'],\n",
       " [514, '\"potassium chl 20 meq / 1000 ml d5 1/2 ns\"'],\n",
       " [24, '\"base\"'],\n",
       " [370, '\"captopril\"'],\n",
       " [302, '\"6.25mg\"'],\n",
       " [586, '\"capt125\"'],\n",
       " [17, '\"iv\"'],\n",
       " [300, '\"frbd50\"'],\n",
       " [57, '\"50ml\"'],\n",
       " [24, '\"base\"'],\n",
       " [24, '\"base\"'],\n",
       " [17, '\"iv\"'],\n",
       " [16, '\"1000ml\"'],\n",
       " [36, '\"kcl20/1000d51/2ns\"'],\n",
       " [514, '\"potassium chl 20 meq / 1000 ml d5 1/2 ns\"'],\n",
       " [44, '\"ng\"'],\n",
       " [147, '\"asa81\"'],\n",
       " [194, '\"aspirin\"'],\n",
       " [265, '\"81mg\"'],\n",
       " [16, '\"1000ml\"'],\n",
       " [17, '\"iv\"'],\n",
       " [24, '\"base\"'],\n",
       " [837, '\"d545ns1000\"'],\n",
       " [207, '\"d5 1/2ns\"'],\n",
       " [266, '\"furo20\"'],\n",
       " [49, '\"furosemide\"'],\n",
       " [43, '\"20mg\"'],\n",
       " [58, '\"magnesium sulfate\"'],\n",
       " [46, '\"mag2pm\"'],\n",
       " [17, '\"iv\"'],\n",
       " [338, '\"4gm\"'],\n",
       " [152, '\"25-100mcg\"'],\n",
       " [17, '\"iv\"'],\n",
       " [134, '\"fentanyl citrate\"'],\n",
       " [456, '\"fent2i\"'],\n",
       " [225, '\"calg1i\"'],\n",
       " [17, '\"iv\"'],\n",
       " [554, '\"3gm\"'],\n",
       " [342, '\"calcium gluconate\"'],\n",
       " [17, '\"iv\"'],\n",
       " [58, '\"magnesium sulfate\"'],\n",
       " [338, '\"4gm\"'],\n",
       " [46, '\"mag2pm\"'],\n",
       " [129, '\"kcl20p\"'],\n",
       " [85, '\"40meq\"'],\n",
       " [44, '\"ng\"'],\n",
       " [157, '\"potassium chloride\"'],\n",
       " [280, '\"hald5i\"'],\n",
       " [522, '\"haloperidol\"'],\n",
       " [1045, '\"0.25mg\"'],\n",
       " [17, '\"iv\"'],\n",
       " [597, '\"5-10mg\"'],\n",
       " [947, '\"oxycodone liquid\"'],\n",
       " [549, '\"oxyco5l\"'],\n",
       " [277, '\"influenza virus vaccine\"'],\n",
       " [205, '\"infv\"'],\n",
       " [105, '\"0.5ml\"'],\n",
       " [42, '\"im\"'],\n",
       " [240, '\"100ml\"'],\n",
       " [368, '\"sw\"'],\n",
       " [484, '\"sw50\"'],\n",
       " [24, '\"base\"'],\n",
       " [17, '\"iv\"'],\n",
       " [240, '\"100ml\"'],\n",
       " [24, '\"base\"'],\n",
       " [17, '\"iv\"'],\n",
       " [188, '\"ns\"'],\n",
       " [182, '\"metrbase\"'],\n",
       " [17, '\"iv\"'],\n",
       " [737, '\"metr500pm\"'],\n",
       " [241, '\"metronidazole (flagyl)\"'],\n",
       " [154, '\"500mg\"'],\n",
       " [214, '\"chlorhexidine gluconate 0.12% oral rinse\"'],\n",
       " [371, '\"chlo15l\"'],\n",
       " [167, '\"oral\"'],\n",
       " [405, '\"15ml\"'],\n",
       " [259, '\"lr1000\"'],\n",
       " [16, '\"1000ml\"'],\n",
       " [17, '\"iv\"'],\n",
       " [24, '\"base\"'],\n",
       " [427, '\"lr\"'],\n",
       " [17, '\"iv\"'],\n",
       " [32, '\"sodium chloride 0.9%  flush\"'],\n",
       " [26, '\"3ml\"'],\n",
       " [101, '\"naclflush\"'],\n",
       " [280, '\"hald5i\"'],\n",
       " [17, '\"iv\"'],\n",
       " [709, '\"0.25-0.5mg\"'],\n",
       " [522, '\"haloperidol\"'],\n",
       " [159, '\"10mg\"'],\n",
       " [17, '\"iv\"'],\n",
       " [70, '\"furo40i\"'],\n",
       " [49, '\"furosemide\"'],\n",
       " [32, '\"sodium chloride 0.9%  flush\"'],\n",
       " [101, '\"naclflush\"'],\n",
       " [26, '\"3ml\"'],\n",
       " [17, '\"iv\"'],\n",
       " [178, '\"propofol\"'],\n",
       " [15, '\"iv drip\"'],\n",
       " [215, '\"prop100ig\"'],\n",
       " [127, '\"1000mg\"'],\n",
       " [17, '\"iv\"'],\n",
       " [35, '\"250ml\"'],\n",
       " [188, '\"ns\"'],\n",
       " [24, '\"base\"'],\n",
       " [139, '\"ns250\"'],\n",
       " [60, '\"tp\"'],\n",
       " [847, '\"lid2j\"'],\n",
       " [47, '\"1appl\"'],\n",
       " [30, '\"lidocaine jelly 2% (urojet)\"'],\n",
       " [17, '\"iv\"'],\n",
       " [629, '\"1g\"'],\n",
       " [124, '\"cefazolin\"'],\n",
       " [501, '\"cefa1f\"'],\n",
       " [994, '\"tams.4\"'],\n",
       " [879, '\"0.4mg\"'],\n",
       " [144, '\"tamsulosin\"'],\n",
       " [49, '\"furosemide\"'],\n",
       " [494, '\"furo40\"'],\n",
       " [59, '\"40mg\"'],\n",
       " [352, '\"pr\"'],\n",
       " [126, '\"bisa10r\"'],\n",
       " [159, '\"10mg\"'],\n",
       " [87, '\"bisacodyl\"'],\n",
       " [240, '\"100ml\"'],\n",
       " [484, '\"sw50\"'],\n",
       " [24, '\"base\"'],\n",
       " [17, '\"iv\"'],\n",
       " [368, '\"sw\"'],\n",
       " [393, '\"acetaminophen (liquid)\"'],\n",
       " [135, '\"650mg\"'],\n",
       " [384, '\"acet650l\"'],\n",
       " [947, '\"oxycodone liquid\"'],\n",
       " [549, '\"oxyco5l\"'],\n",
       " [39, '\"2.5mg\"'],\n",
       " [24, '\"base\"'],\n",
       " [17, '\"iv\"'],\n",
       " [188, '\"ns\"'],\n",
       " [145, '\"ns1000\"'],\n",
       " [16, '\"1000ml\"'],\n",
       " [391, '\"hepa5i\"'],\n",
       " [263, '\"heparin\"'],\n",
       " [33, '\"sc\"'],\n",
       " [112, '\"5000unit\"'],\n",
       " [162, '\"5mg\"'],\n",
       " [791, '\"olan5dtb\"'],\n",
       " [197, '\"olanzapine (disintegrating tablet)\"'],\n",
       " [17, '\"iv\"'],\n",
       " [58, '\"magnesium sulfate\"'],\n",
       " [46, '\"mag2pm\"'],\n",
       " [28, '\"2gm\"'],\n",
       " [370, '\"captopril\"'],\n",
       " [586, '\"capt125\"'],\n",
       " [302, '\"6.25mg\"'],\n",
       " [670, '\"150ml\"'],\n",
       " [17, '\"iv\"'],\n",
       " [607, '\"dextrose 5%\"'],\n",
       " [24, '\"base\"'],\n",
       " [1126, '\"levobase3\"'],\n",
       " [301, '\"0.5-1mg\"'],\n",
       " [280, '\"hald5i\"'],\n",
       " [522, '\"haloperidol\"'],\n",
       " [17, '\"iv\"'],\n",
       " [368, '\"sw\"'],\n",
       " [57, '\"50ml\"'],\n",
       " [484, '\"sw50\"'],\n",
       " [24, '\"base\"'],\n",
       " [17, '\"iv\"'],\n",
       " [216, '\"750mg\"'],\n",
       " [1109, '\"levo750pm\"'],\n",
       " [17, '\"iv\"'],\n",
       " [432, '\"levofloxacin\"'],\n",
       " [32, '\"sodium chloride 0.9%  flush\"'],\n",
       " [26, '\"3ml\"'],\n",
       " [17, '\"iv\"'],\n",
       " [101, '\"naclflush\"'],\n",
       " [162, '\"5mg\"'],\n",
       " [947, '\"oxycodone liquid\"'],\n",
       " [549, '\"oxyco5l\"'],\n",
       " [70, '\"furo40i\"'],\n",
       " [49, '\"furosemide\"'],\n",
       " [43, '\"20mg\"'],\n",
       " [17, '\"iv\"'],\n",
       " [17, '\"iv\"'],\n",
       " [301, '\"0.5-1mg\"'],\n",
       " [280, '\"hald5i\"'],\n",
       " [522, '\"haloperidol\"'],\n",
       " [947, '\"oxycodone liquid\"'],\n",
       " [162, '\"5mg\"'],\n",
       " [549, '\"oxyco5l\"'],\n",
       " [284, '\"ipra2h\"'],\n",
       " [93, '\"1neb\"'],\n",
       " [111, '\"ih\"'],\n",
       " [460, '\"ipratropium bromide neb\"'],\n",
       " [427, '\"lr\"'],\n",
       " [259, '\"lr1000\"'],\n",
       " [117, '\"500ml\"'],\n",
       " [17, '\"iv\"'],\n",
       " [24, '\"base\"'],\n",
       " [17, '\"iv\"'],\n",
       " [159, '\"10mg\"'],\n",
       " [70, '\"furo40i\"'],\n",
       " [49, '\"furosemide\"'],\n",
       " [17, '\"iv\"'],\n",
       " [692, '\"albumin 5% (25g / 500ml)\"'],\n",
       " [774, '\"25gm\"'],\n",
       " [739, '\"albu5500\"'],\n",
       " [58, '\"magnesium sulfate\"'],\n",
       " [46, '\"mag2pm\"'],\n",
       " [17, '\"iv\"'],\n",
       " [28, '\"2gm\"'],\n",
       " [28, '\"2gm\"'],\n",
       " [225, '\"calg1i\"'],\n",
       " [342, '\"calcium gluconate\"'],\n",
       " [17, '\"iv\"'],\n",
       " [774, '\"25gm\"'],\n",
       " [17, '\"iv\"'],\n",
       " [264, '\"dex50sy\"'],\n",
       " [285, '\"dextrose 50%\"'],\n",
       " [1492, '\"halo05\"'],\n",
       " [709, '\"0.25-0.5mg\"'],\n",
       " [522, '\"haloperidol\"'],\n",
       " [117, '\"500ml\"'],\n",
       " [17, '\"iv\"'],\n",
       " [259, '\"lr1000\"'],\n",
       " [24, '\"base\"'],\n",
       " [427, '\"lr\"'],\n",
       " [96, '\"100mg\"'],\n",
       " [219, '\"docu100l\"'],\n",
       " [158, '\"docusate sodium (liquid)\"'],\n",
       " [17, '\"iv\"'],\n",
       " [342, '\"calcium gluconate\"'],\n",
       " [338, '\"4gm\"'],\n",
       " [225, '\"calg1i\"'],\n",
       " [115, '\"25mg\"'],\n",
       " [235, '\"metoprolol\"'],\n",
       " [68, '\"meto25\"'],\n",
       " [157, '\"potassium chloride\"'],\n",
       " [689, '\"kcl20i\"'],\n",
       " [200, '\"20meq\"'],\n",
       " [17, '\"iv\"'],\n",
       " [263, '\"heparin\"'],\n",
       " [112, '\"5000unit\"'],\n",
       " [391, '\"hepa5i\"'],\n",
       " [33, '\"sc\"'],\n",
       " [647, '\"15-30mmol\"'],\n",
       " [626, '\"kpho45i\"'],\n",
       " [160, '\"potassium phosphate\"'],\n",
       " [17, '\"iv\"'],\n",
       " [138, '\"acetaminophen\"'],\n",
       " [352, '\"pr\"'],\n",
       " [135, '\"650mg\"'],\n",
       " [399, '\"acet650r\"'],\n",
       " [49, '\"furosemide\"'],\n",
       " [43, '\"20mg\"'],\n",
       " [17, '\"iv\"'],\n",
       " [70, '\"furo40i\"'],\n",
       " [16, '\"1000ml\"'],\n",
       " [17, '\"iv\"'],\n",
       " [514, '\"potassium chl 20 meq / 1000 ml d5 1/2 ns\"'],\n",
       " [24, '\"base\"'],\n",
       " [36, '\"kcl20/1000d51/2ns\"'],\n",
       " [90, '\"pant40i\"'],\n",
       " [17, '\"iv\"'],\n",
       " [59, '\"40mg\"'],\n",
       " [603, '\"pantoprazole sodium\"'],\n",
       " [1182, '\"quetiapine fumarate\"'],\n",
       " [398, '\"quet25\"'],\n",
       " [94, '\"12.5mg\"'],\n",
       " [169, '\"vancobase\"'],\n",
       " [24, '\"base\"'],\n",
       " [17, '\"iv\"'],\n",
       " [71, '\"200ml\"'],\n",
       " [38, '\"famotidine\"'],\n",
       " [17, '\"iv\"'],\n",
       " [440, '\"famo20pm\"'],\n",
       " [43, '\"20mg\"'],\n",
       " [177, '\"morphine sulfate\"'],\n",
       " [17, '\"iv\"'],\n",
       " [108, '\"2-4mg\"'],\n",
       " [521, '\"morp4i\"'],\n",
       " [709, '\"0.25-0.5mg\"'],\n",
       " [1492, '\"halo05\"'],\n",
       " [522, '\"haloperidol\"'],\n",
       " [17, '\"iv\"'],\n",
       " [70, '\"furo40i\"'],\n",
       " [49, '\"furosemide\"'],\n",
       " [43, '\"20mg\"'],\n",
       " [57, '\"50ml\"'],\n",
       " [17, '\"iv\"'],\n",
       " [368, '\"sw\"'],\n",
       " [484, '\"sw50\"'],\n",
       " [24, '\"base\"'],\n",
       " [188, '\"ns\"'],\n",
       " [117, '\"500ml\"'],\n",
       " [17, '\"iv\"'],\n",
       " [24, '\"base\"'],\n",
       " [97, '\"ns500\"'],\n",
       " [35, '\"250ml\"'],\n",
       " [139, '\"ns250\"'],\n",
       " [24, '\"base\"'],\n",
       " [17, '\"iv\"'],\n",
       " [188, '\"ns\"'],\n",
       " [42, '\"im\"'],\n",
       " [522, '\"haloperidol\"'],\n",
       " [280, '\"hald5i\"'],\n",
       " [72, '\"0.5mg\"'],\n",
       " [1043, '\"simethicone\"'],\n",
       " [44, '\"ng\"'],\n",
       " [835, '\"sime80\"'],\n",
       " [230, '\"80mg\"'],\n",
       " [70, '\"furo40i\"'],\n",
       " [49, '\"furosemide\"'],\n",
       " [43, '\"20mg\"'],\n",
       " [17, '\"iv\"'],\n",
       " [42, '\"im\"'],\n",
       " [301, '\"0.5-1mg\"'],\n",
       " [522, '\"haloperidol\"'],\n",
       " [280, '\"hald5i\"'],\n",
       " [171, '\"1vial\"'],\n",
       " [229, '\"vial\"'],\n",
       " [24, '\"base\"'],\n",
       " [229, '\"vial\"'],\n",
       " [17, '\"iv\"'],\n",
       " [57, '\"50ml\"'],\n",
       " [24, '\"base\"'],\n",
       " [249, '\"iso-osmotic sodium chloride\"'],\n",
       " [17, '\"iv\"'],\n",
       " [898, '\"isonacl\"'],\n",
       " [177, '\"morphine sulfate\"'],\n",
       " [33, '\"sc\"'],\n",
       " [181, '\"2mg\"'],\n",
       " [223, '\"morp2i\"'],\n",
       " [24, '\"base\"'],\n",
       " [97, '\"ns500\"'],\n",
       " [117, '\"500ml\"'],\n",
       " [17, '\"iv\"'],\n",
       " [188, '\"ns\"'],\n",
       " [393, '\"acetaminophen (liquid)\"'],\n",
       " [135, '\"650mg\"'],\n",
       " [384, '\"acet650l\"'],\n",
       " [48, '\"meto5i\"'],\n",
       " [162, '\"5mg\"'],\n",
       " [235, '\"metoprolol\"'],\n",
       " [17, '\"iv\"'],\n",
       " [17, '\"iv\"'],\n",
       " [159, '\"10mg\"'],\n",
       " [70, '\"furo40i\"'],\n",
       " [49, '\"furosemide\"'],\n",
       " [15, '\"iv drip\"'],\n",
       " [178, '\"propofol\"'],\n",
       " [518, '\"200mg\"'],\n",
       " [210, '\"prop200ig\"'],\n",
       " [219, '\"docu100l\"'],\n",
       " [158, '\"docusate sodium (liquid)\"'],\n",
       " [96, '\"100mg\"'],\n",
       " [145, '\"ns1000\"'],\n",
       " [24, '\"base\"'],\n",
       " [17, '\"iv\"'],\n",
       " [188, '\"ns\"'],\n",
       " [16, '\"1000ml\"'],\n",
       " [17, '\"iv\"'],\n",
       " [188, '\"ns\"'],\n",
       " [117, '\"500ml\"'],\n",
       " [24, '\"base\"'],\n",
       " [97, '\"ns500\"']]"
      ]
     },
     "execution_count": 33,
     "metadata": {},
     "output_type": "execute_result"
    }
   ],
   "source": [
    "# [[t.item(),id2node[t.item()]] for t in sample['kg_input_ids'][0] if t > 0]\n",
    "[[t.item(), id2node[t.item()]] for t in sample['kg_input_ids'][0] if t > config.num_relations]"
   ]
  },
  {
   "cell_type": "markdown",
   "id": "quick-sixth",
   "metadata": {},
   "source": [
    "original text"
   ]
  },
  {
   "cell_type": "code",
   "execution_count": 34,
   "id": "polish-speaking",
   "metadata": {},
   "outputs": [
    {
     "data": {
      "text/plain": [
       "'[CLS] 1. bisacodyl 10 mg suppository sig : suppositorys rectal daily ( daily ) as needed for constipation. 2. ipratropium bromide 0. 02 % solution sig : one ( 1 ) nebulizer inhalation q6h ( every 6 hours ) as needed for wheezing. 3. albuterol sulfate 2. 5 mg / 3 ml solution for nebulization sig : one ( 1 ) solution inhalation q6h ( every 6 hours ) as needed for wheezing. 4. morphine concentrate 20 mg / ml solution sig : 5 - 10 mg po q4h ( every 4 hours ) as needed for pain : may shorten interval as needed to control pain. 5. olanzapine 5 mg tablet, rapid dissolve sig : 0. 5 tablet, rapid dissolve po qhs ( once a day ( at bedtime ) ) as needed for agitation. 6. tamsulosin 0. 4 mg capsule, sust. release 24 hr sig : one ( 1 ) capsule, sust. release 24 hr po daily ( daily ) : may be discontinued if patient not tolerating pills or refusing to take. [SEP]'"
      ]
     },
     "execution_count": 34,
     "metadata": {},
     "output_type": "execute_result"
    }
   ],
   "source": [
    "temp = results[2][0]\n",
    "tokenizer.decode(temp[:sum(temp.not_equal(0))])"
   ]
  },
  {
   "cell_type": "markdown",
   "id": "inappropriate-mobile",
   "metadata": {},
   "source": [
    "generation output"
   ]
  },
  {
   "cell_type": "code",
   "execution_count": 35,
   "id": "clean-elite",
   "metadata": {},
   "outputs": [
    {
     "data": {
      "text/plain": [
       "'[CLS] 1. acetaminophen 325 mg tablet sig : 1 - 2 tablets po q6h ( every 6 hours ) as needed. 2. docusate sodium 50 mg / 5 ml liquid sig : one ( 650 ) mg po bid ( 2 times a day ). 3. senna 8. mg tablet sig : one ( 1 ) tablet po bid ( 2 times a day as.. 3. senna 8. 6 mg tablet si bid ( 2 ) tablet bid ( 2 times a day ) as needed. 4. bis. bisacodyl 5 mg tablet, delayed release ( e. c. ) sig : one ( 1 ) tablet, delayed release ( e. c. c. ) po daily ( daily ). 5. ) 5. docusate sodium 6 mg / 5 ml liquid sig : one ( 1 ) po bid ( 2 times a day as.. 6. bisacodyl 5 mg tablet, sig : one ( 1 tablet, delayed release ( e. c. ) po daily ( daily ). 7. bis. bisacodyl 5 mg tablet sig : one ( 1 ) tablet po daily ( daily ) 7. bis. 6. ace 6 mg tablet sig'"
      ]
     },
     "execution_count": 35,
     "metadata": {},
     "output_type": "execute_result"
    }
   ],
   "source": [
    "temp = results[0][0]\n",
    "tokenizer.decode(temp[:sum(temp.not_equal(0))])"
   ]
  },
  {
   "cell_type": "markdown",
   "id": "expressed-belfast",
   "metadata": {},
   "source": [
    "<br/>\n",
    "<br/>\n",
    "<br/>\n",
    "<br/>\n",
    "<br/>\n",
    "<br/>\n",
    "<br/>\n",
    "<br/>\n",
    "<br/>"
   ]
  },
  {
   "cell_type": "markdown",
   "id": "liked-shower",
   "metadata": {},
   "source": [
    "## sample2: eval_dataset, idx=822"
   ]
  },
  {
   "cell_type": "code",
   "execution_count": 73,
   "id": "curious-clause",
   "metadata": {},
   "outputs": [],
   "source": [
    "base_idx = 822\n",
    "sample = data_collator(eval_dataset[base_idx:base_idx+1])"
   ]
  },
  {
   "cell_type": "code",
   "execution_count": 74,
   "id": "worse-fields",
   "metadata": {},
   "outputs": [],
   "source": [
    "device = 'cuda' if torch.cuda.is_available() else 'cpu'\n",
    "sample = _prepare_inputs(sample, device)\n",
    "model = _prepare_model(model, device)"
   ]
  },
  {
   "cell_type": "markdown",
   "id": "checked-vacation",
   "metadata": {},
   "source": [
    "### normal case"
   ]
  },
  {
   "cell_type": "code",
   "execution_count": 75,
   "id": "stock-accordance",
   "metadata": {},
   "outputs": [],
   "source": [
    "results = model(**sample, given_lang_tokens=1, know_gt_leng=False)"
   ]
  },
  {
   "cell_type": "markdown",
   "id": "noble-fight",
   "metadata": {},
   "source": [
    "original graph"
   ]
  },
  {
   "cell_type": "code",
   "execution_count": 76,
   "id": "still-bacon",
   "metadata": {},
   "outputs": [
    {
     "data": {
      "text/plain": [
       "[[20, '\"atorvastatin\"'],\n",
       " [43, '\"20mg\"'],\n",
       " [576, '\"ator20\"'],\n",
       " [39, '\"2.5mg\"'],\n",
       " [63, '\"warf25\"'],\n",
       " [419, '\"warfarin\"'],\n",
       " [873, '\"ezetimibe\"'],\n",
       " [159, '\"10mg\"'],\n",
       " [1496, '\"ezet10\"'],\n",
       " [3248, '\"penicillin v potassium\"'],\n",
       " [29, '\"250mg\"'],\n",
       " [3637, '\"penv250\"'],\n",
       " [364, '\"325mg\"'],\n",
       " [798, '\"ferr325\"'],\n",
       " [477, '\"ferrous sulfate\"'],\n",
       " [873, '\"ezetimibe\"'],\n",
       " [159, '\"10mg\"'],\n",
       " [1496, '\"ezet10\"'],\n",
       " [1057, '\"amiodarone hcl\"'],\n",
       " [315, '\"amio150i\"'],\n",
       " [281, '\"150mg\"'],\n",
       " [199, '\"iv bolus\"'],\n",
       " [17, '\"iv\"'],\n",
       " [127, '\"1000mg\"'],\n",
       " [244, '\"vancomycin hcl\"'],\n",
       " [233, '\"vanc1f\"'],\n",
       " [490, '\"aspirin ec\"'],\n",
       " [265, '\"81mg\"'],\n",
       " [25, '\"asa81ec\"'],\n",
       " [70, '\"furo40i\"'],\n",
       " [59, '\"40mg\"'],\n",
       " [49, '\"furosemide\"'],\n",
       " [17, '\"iv\"'],\n",
       " [328, '\"ranitidine\"'],\n",
       " [505, '\"rani150\"'],\n",
       " [281, '\"150mg\"'],\n",
       " [98, '\"docusate sodium\"'],\n",
       " [19, '\"docu100\"'],\n",
       " [96, '\"100mg\"'],\n",
       " [419, '\"warfarin\"'],\n",
       " [261, '\"1dose\"'],\n",
       " [829, '\"warf0\"'],\n",
       " [127, '\"1000mg\"'],\n",
       " [244, '\"vancomycin hcl\"'],\n",
       " [233, '\"vanc1f\"'],\n",
       " [17, '\"iv\"'],\n",
       " [508, '\"calc500\"'],\n",
       " [154, '\"500mg\"'],\n",
       " [278, '\"calcium carbonate\"'],\n",
       " [505, '\"rani150\"'],\n",
       " [281, '\"150mg\"'],\n",
       " [328, '\"ranitidine\"'],\n",
       " [154, '\"500mg\"'],\n",
       " [178, '\"propofol\"'],\n",
       " [1408, '\"prop500ig\"'],\n",
       " [15, '\"iv drip\"'],\n",
       " [337, '\"syringe\"'],\n",
       " [125, '\"syr60ml\"'],\n",
       " [15, '\"iv drip\"'],\n",
       " [24, '\"base\"'],\n",
       " [208, '\"1syr\"'],\n",
       " [352, '\"pr\"'],\n",
       " [126, '\"bisa10r\"'],\n",
       " [87, '\"bisacodyl\"'],\n",
       " [159, '\"10mg\"'],\n",
       " [665, '\"glyc1i\"'],\n",
       " [17, '\"iv\"'],\n",
       " [312, '\"glycopyrrolate\"'],\n",
       " [571, '\"0.6mg\"'],\n",
       " [41, '\"kcl20pm\"'],\n",
       " [157, '\"potassium chloride\"'],\n",
       " [200, '\"20meq\"'],\n",
       " [17, '\"iv\"'],\n",
       " [494, '\"furo40\"'],\n",
       " [49, '\"furosemide\"'],\n",
       " [59, '\"40mg\"'],\n",
       " [17, '\"iv\"'],\n",
       " [1017, '\"prot50i\"'],\n",
       " [306, '\"50mg\"'],\n",
       " [1276, '\"protamine sulfate\"'],\n",
       " [33, '\"sc\"'],\n",
       " [62, '\"insulin\"'],\n",
       " [53, '\"0unit\"'],\n",
       " [62, '\"insulin\"'],\n",
       " [35, '\"250ml\"'],\n",
       " [720, '\"d5w (excel bag)\"'],\n",
       " [15, '\"iv drip\"'],\n",
       " [726, '\"d5w250e\"'],\n",
       " [24, '\"base\"'],\n",
       " [798, '\"ferr325\"'],\n",
       " [477, '\"ferrous sulfate\"'],\n",
       " [364, '\"325mg\"'],\n",
       " [127, '\"1000mg\"'],\n",
       " [215, '\"prop100ig\"'],\n",
       " [178, '\"propofol\"'],\n",
       " [15, '\"iv drip\"'],\n",
       " [43, '\"20mg\"'],\n",
       " [515, '\"lisi20\"'],\n",
       " [530, '\"lisinopril\"'],\n",
       " [235, '\"metoprolol\"'],\n",
       " [17, '\"iv\"'],\n",
       " [39, '\"2.5mg\"'],\n",
       " [48, '\"meto5i\"'],\n",
       " [35, '\"250ml\"'],\n",
       " [15, '\"iv drip\"'],\n",
       " [321, '\"d5w250\"'],\n",
       " [24, '\"base\"'],\n",
       " [14, '\"d5w\"'],\n",
       " [200, '\"20meq\"'],\n",
       " [170, '\"microk10\"'],\n",
       " [157, '\"potassium chloride\"'],\n",
       " [339, '\"milk of magnesia\"'],\n",
       " [74, '\"mom30l\"'],\n",
       " [128, '\"30ml\"'],\n",
       " [333, '\"albuterol 0.083% neb soln\"'],\n",
       " [628, '\"albu3h\"'],\n",
       " [111, '\"ih\"'],\n",
       " [93, '\"1neb\"'],\n",
       " [552, '\"amlodipine\"'],\n",
       " [245, '\"amlo5\"'],\n",
       " [162, '\"5mg\"'],\n",
       " [259, '\"lr1000\"'],\n",
       " [16, '\"1000ml\"'],\n",
       " [24, '\"base\"'],\n",
       " [17, '\"iv\"'],\n",
       " [427, '\"lr\"'],\n",
       " [17, '\"iv\"'],\n",
       " [28, '\"2gm\"'],\n",
       " [58, '\"magnesium sulfate\"'],\n",
       " [669, '\"mags1i\"'],\n",
       " [68, '\"meto25\"'],\n",
       " [94, '\"12.5mg\"'],\n",
       " [235, '\"metoprolol\"'],\n",
       " [703, '\"neostigmine\"'],\n",
       " [17, '\"iv\"'],\n",
       " [292, '\"3mg\"'],\n",
       " [625, '\"neosi\"'],\n",
       " [708, '\"warf1\"'],\n",
       " [419, '\"warfarin\"'],\n",
       " [292, '\"3mg\"'],\n",
       " [282, '\"insulin human regular\"'],\n",
       " [15, '\"iv drip\"'],\n",
       " [559, '\"inhriv\"'],\n",
       " [390, '\"100unit\"'],\n",
       " [399, '\"acet650r\"'],\n",
       " [352, '\"pr\"'],\n",
       " [138, '\"acetaminophen\"'],\n",
       " [135, '\"650mg\"'],\n",
       " [798, '\"ferr325\"'],\n",
       " [364, '\"325mg\"'],\n",
       " [477, '\"ferrous sulfate\"'],\n",
       " [98, '\"docusate sodium\"'],\n",
       " [19, '\"docu100\"'],\n",
       " [96, '\"100mg\"'],\n",
       " [688, '\"hespan\"'],\n",
       " [117, '\"500ml\"'],\n",
       " [2576, '\"hesp500i\"'],\n",
       " [17, '\"iv\"'],\n",
       " [43, '\"20mg\"'],\n",
       " [17, '\"iv\"'],\n",
       " [49, '\"furosemide\"'],\n",
       " [70, '\"furo40i\"'],\n",
       " [183, '\"nitroglycerin\"'],\n",
       " [15, '\"iv drip\"'],\n",
       " [852, '\"nitr20syr\"'],\n",
       " [43, '\"20mg\"'],\n",
       " [264, '\"dex50sy\"'],\n",
       " [285, '\"dextrose 50%\"'],\n",
       " [232, '\"12.5gm\"'],\n",
       " [17, '\"iv\"'],\n",
       " [15, '\"iv drip\"'],\n",
       " [1057, '\"amiodarone hcl\"'],\n",
       " [315, '\"amio150i\"'],\n",
       " [228, '\"600mg\"'],\n",
       " [24, '\"base\"'],\n",
       " [117, '\"500ml\"'],\n",
       " [17, '\"iv\"'],\n",
       " [188, '\"ns\"'],\n",
       " [2298, '\"hespbase\"'],\n",
       " [15, '\"iv drip\"'],\n",
       " [720, '\"d5w (excel bag)\"'],\n",
       " [726, '\"d5w250e\"'],\n",
       " [35, '\"250ml\"'],\n",
       " [24, '\"base\"'],\n",
       " [186, '\"400mg\"'],\n",
       " [336, '\"amid200\"'],\n",
       " [1057, '\"amiodarone hcl\"'],\n",
       " [419, '\"warfarin\"'],\n",
       " [708, '\"warf1\"'],\n",
       " [45, '\"1mg\"'],\n",
       " [873, '\"ezetimibe\"'],\n",
       " [159, '\"10mg\"'],\n",
       " [1496, '\"ezet10\"'],\n",
       " [477, '\"ferrous sulfate\"'],\n",
       " [798, '\"ferr325\"'],\n",
       " [364, '\"325mg\"'],\n",
       " [1270, '\"levo100\"'],\n",
       " [76, '\"levothyroxine sodium\"'],\n",
       " [299, '\"100mcg\"'],\n",
       " [2583, '\"320mg\"'],\n",
       " [260, '\"valsartan\"'],\n",
       " [1470, '\"vals160\"'],\n",
       " [28, '\"2gm\"'],\n",
       " [58, '\"magnesium sulfate\"'],\n",
       " [669, '\"mags1i\"'],\n",
       " [17, '\"iv\"'],\n",
       " [26, '\"3ml\"'],\n",
       " [32, '\"sodium chloride 0.9%  flush\"'],\n",
       " [101, '\"naclflush\"'],\n",
       " [17, '\"iv\"'],\n",
       " [15, '\"iv drip\"'],\n",
       " [180, '\"ntg100pm\"'],\n",
       " [183, '\"nitroglycerin\"'],\n",
       " [96, '\"100mg\"'],\n",
       " [389, '\"cara1\"'],\n",
       " [44, '\"ng\"'],\n",
       " [509, '\"1gm\"'],\n",
       " [1151, '\"sucralfate\"'],\n",
       " [138, '\"acetaminophen\"'],\n",
       " [384, '\"acet650l\"'],\n",
       " [135, '\"650mg\"'],\n",
       " [265, '\"81mg\"'],\n",
       " [25, '\"asa81ec\"'],\n",
       " [490, '\"aspirin ec\"'],\n",
       " [17, '\"iv\"'],\n",
       " [169, '\"vancobase\"'],\n",
       " [71, '\"200ml\"'],\n",
       " [24, '\"base\"'],\n",
       " [20, '\"atorvastatin\"'],\n",
       " [43, '\"20mg\"'],\n",
       " [576, '\"ator20\"'],\n",
       " [17, '\"iv\"'],\n",
       " [99, '\"glyco4i\"'],\n",
       " [571, '\"0.6mg\"'],\n",
       " [312, '\"glycopyrrolate\"'],\n",
       " [457, '\"tram50\"'],\n",
       " [306, '\"50mg\"'],\n",
       " [335, '\"tramadol (ultram)\"'],\n",
       " [125, '\"syr60ml\"'],\n",
       " [15, '\"iv drip\"'],\n",
       " [208, '\"1syr\"'],\n",
       " [337, '\"syringe\"'],\n",
       " [24, '\"base\"'],\n",
       " [219, '\"docu100l\"'],\n",
       " [44, '\"ng\"'],\n",
       " [96, '\"100mg\"'],\n",
       " [158, '\"docusate sodium (liquid)\"'],\n",
       " [275, '\"0.5-4mg\"'],\n",
       " [521, '\"morp4i\"'],\n",
       " [177, '\"morphine sulfate\"'],\n",
       " [17, '\"iv\"'],\n",
       " [68, '\"meto25\"'],\n",
       " [235, '\"metoprolol\"'],\n",
       " [115, '\"25mg\"'],\n",
       " [3248, '\"penicillin v potassium\"'],\n",
       " [29, '\"250mg\"'],\n",
       " [3637, '\"penv250\"'],\n",
       " [281, '\"150mg\"'],\n",
       " [328, '\"ranitidine\"'],\n",
       " [44, '\"ng\"'],\n",
       " [771, '\"rani150l\"'],\n",
       " [1001, '\"epinephrine\"'],\n",
       " [15, '\"iv drip\"'],\n",
       " [181, '\"2mg\"'],\n",
       " [641, '\"epi1i\"'],\n",
       " [17, '\"iv\"'],\n",
       " [368, '\"sw\"'],\n",
       " [57, '\"50ml\"'],\n",
       " [24, '\"base\"'],\n",
       " [81, '\"kclbase2\"'],\n",
       " [1023, '\"50meq\"'],\n",
       " [397, '\"nabc50s\"'],\n",
       " [226, '\"sodium bicarbonate\"'],\n",
       " [17, '\"iv\"'],\n",
       " [978, '\"hydrochlorothiazide\"'],\n",
       " [94, '\"12.5mg\"'],\n",
       " [775, '\"hctz25\"'],\n",
       " [561, '\"metoclopramide\"'],\n",
       " [162, '\"5mg\"'],\n",
       " [489, '\"meto10i\"'],\n",
       " [17, '\"iv\"'],\n",
       " [40, '\"ns100\"'],\n",
       " [240, '\"100ml\"'],\n",
       " [188, '\"ns\"'],\n",
       " [15, '\"iv drip\"'],\n",
       " [24, '\"base\"'],\n",
       " [269, '\"60mg\"'],\n",
       " [15, '\"iv drip\"'],\n",
       " [234, '\"phen10i\"'],\n",
       " [810, '\"phenylephrine hcl\"'],\n",
       " [26, '\"3ml\"'],\n",
       " [17, '\"iv\"'],\n",
       " [101, '\"naclflush\"'],\n",
       " [32, '\"sodium chloride 0.9%  flush\"'],\n",
       " [17, '\"iv\"'],\n",
       " [24, '\"base\"'],\n",
       " [71, '\"200ml\"'],\n",
       " [169, '\"vancobase\"'],\n",
       " [17, '\"iv\"'],\n",
       " [223, '\"morp2i\"'],\n",
       " [275, '\"0.5-4mg\"'],\n",
       " [177, '\"morphine sulfate\"'],\n",
       " [43, '\"20mg\"'],\n",
       " [576, '\"ator20\"'],\n",
       " [20, '\"atorvastatin\"'],\n",
       " [125, '\"syr60ml\"'],\n",
       " [337, '\"syringe\"'],\n",
       " [15, '\"iv drip\"'],\n",
       " [24, '\"base\"'],\n",
       " [208, '\"1syr\"'],\n",
       " [336, '\"amid200\"'],\n",
       " [1057, '\"amiodarone hcl\"'],\n",
       " [186, '\"400mg\"'],\n",
       " [135, '\"650mg\"'],\n",
       " [138, '\"acetaminophen\"'],\n",
       " [106, '\"acet325\"'],\n",
       " [44, '\"ng\"'],\n",
       " [147, '\"asa81\"'],\n",
       " [194, '\"aspirin\"'],\n",
       " [265, '\"81mg\"'],\n",
       " [43, '\"20mg\"'],\n",
       " [17, '\"iv\"'],\n",
       " [49, '\"furosemide\"'],\n",
       " [70, '\"furo40i\"'],\n",
       " [477, '\"ferrous sulfate\"'],\n",
       " [364, '\"325mg\"'],\n",
       " [798, '\"ferr325\"'],\n",
       " [3248, '\"penicillin v potassium\"'],\n",
       " [29, '\"250mg\"'],\n",
       " [3637, '\"penv250\"'],\n",
       " [315, '\"amio150i\"'],\n",
       " [1057, '\"amiodarone hcl\"'],\n",
       " [15, '\"iv drip\"'],\n",
       " [228, '\"600mg\"'],\n",
       " [1042, '\"12mg\"'],\n",
       " [15, '\"iv drip\"'],\n",
       " [345, '\"phen12syr\"'],\n",
       " [810, '\"phenylephrine hcl\"'],\n",
       " [76, '\"levothyroxine sodium\"'],\n",
       " [299, '\"100mcg\"'],\n",
       " [1270, '\"levo100\"'],\n",
       " [1852, '\"400mcg\"'],\n",
       " [1001, '\"epinephrine\"'],\n",
       " [1880, '\"epi400syr\"'],\n",
       " [15, '\"iv drip\"'],\n",
       " [468, '\"ntgbase\"'],\n",
       " [24, '\"base\"'],\n",
       " [14, '\"d5w\"'],\n",
       " [35, '\"250ml\"'],\n",
       " [15, '\"iv drip\"'],\n",
       " [311, '\"oxycodone-acetaminophen\"'],\n",
       " [151, '\"perc\"'],\n",
       " [118, '\"1-2tab\"'],\n",
       " [321, '\"d5w250\"'],\n",
       " [35, '\"250ml\"'],\n",
       " [15, '\"iv drip\"'],\n",
       " [14, '\"d5w\"'],\n",
       " [24, '\"base\"'],\n",
       " [49, '\"furosemide\"'],\n",
       " [266, '\"furo20\"'],\n",
       " [43, '\"20mg\"'],\n",
       " [49, '\"furosemide\"'],\n",
       " [43, '\"20mg\"'],\n",
       " [17, '\"iv\"'],\n",
       " [70, '\"furo40i\"'],\n",
       " [457, '\"tram50\"'],\n",
       " [306, '\"50mg\"'],\n",
       " [335, '\"tramadol (ultram)\"'],\n",
       " [364, '\"325mg\"'],\n",
       " [490, '\"aspirin ec\"'],\n",
       " [396, '\"asaec325\"'],\n",
       " [28, '\"2gm\"'],\n",
       " [17, '\"iv\"'],\n",
       " [342, '\"calcium gluconate\"'],\n",
       " [225, '\"calg1i\"'],\n",
       " [94, '\"12.5mg\"'],\n",
       " [235, '\"metoprolol\"'],\n",
       " [68, '\"meto25\"'],\n",
       " [76, '\"levothyroxine sodium\"'],\n",
       " [299, '\"100mcg\"'],\n",
       " [1270, '\"levo100\"'],\n",
       " [106, '\"acet325\"'],\n",
       " [138, '\"acetaminophen\"'],\n",
       " [135, '\"650mg\"'],\n",
       " [68, '\"meto25\"'],\n",
       " [94, '\"12.5mg\"'],\n",
       " [235, '\"metoprolol\"']]"
      ]
     },
     "execution_count": 76,
     "metadata": {},
     "output_type": "execute_result"
    }
   ],
   "source": [
    "# [[t.item(),id2node[t.item()]] for t in sample['kg_input_ids'][0] if t > 0]\n",
    "[[t.item(), id2node[t.item()]] for t in sample['kg_input_ids'][0] if t > config.num_relations]"
   ]
  },
  {
   "cell_type": "markdown",
   "id": "entitled-combine",
   "metadata": {},
   "source": [
    "original text"
   ]
  },
  {
   "cell_type": "code",
   "execution_count": 77,
   "id": "binding-scholarship",
   "metadata": {},
   "outputs": [
    {
     "data": {
      "text/plain": [
       "\"[CLS] 1. docusate sodium 100 mg capsule sig : one ( 1 ) capsule po bid ( 2 times a day ). 2. ranitidine hcl 150 mg tablet sig : one ( 1 ) tablet po once a day. 3. aspirin 81 mg tablet, delayed release ( e. c. ) sig : one ( 1 ) tablet, delayed release ( e. c. ) po daily ( daily ). 4. ferrous sulfate 325 ( 65 ) mg tablet sig : one ( 1 ) tablet po daily ( daily ). 5. levothyroxine 100 mcg tablet sig : one ( 1 ) tablet po daily ( daily ). 6. atorvastatin 20 mg tablet sig : one ( 1 ) tablet po daily ( daily ). 7. ezetimibe 10 mg tablet sig : one ( 1 ) tablet po daily ( daily ). 8. tramadol 50 mg tablet sig : one ( 1 ) tablet po q4 - 6h ( every 4 to 6 hours ) as needed. 9. amiodarone 200 mg tablet sig : two ( 2 ) tablet po once a day : 400 mg daily x 1 week, then 200 mg daily ongoing ( until dc'd by cardiologist ). 10. penicillin v potassium 250 mg tablet sig : one ( 1 ) tablet po q6h ( every 6 hours ). disp : * 120 tablet ( s ) * refills : * 2 * 11. warfarin 1 mg tablet sig : as directed tablet po daily ( daily ) : target inr 1. 5 - 2. pt received 2. 5 mg and 1 mg. 12. furosemide 40 mg tablet sig : one ( 1 ) tablet po bid ( 2 times a day ) : x 1 week then qd. 13. metoprolol tartrate 25 mg tablet sig : 0. 5 tablet po bid ( 2 times a day ). 14. lisinopril 2. 5 mg tablet sig : one ( 1 ) tablet po once a day. [SEP]\""
      ]
     },
     "execution_count": 77,
     "metadata": {},
     "output_type": "execute_result"
    }
   ],
   "source": [
    "temp = results[2][0]\n",
    "tokenizer.decode(temp[:sum(temp.not_equal(0))])"
   ]
  },
  {
   "cell_type": "markdown",
   "id": "established-conspiracy",
   "metadata": {},
   "source": [
    "generation output"
   ]
  },
  {
   "cell_type": "code",
   "execution_count": 78,
   "id": "elegant-norwegian",
   "metadata": {
    "scrolled": true
   },
   "outputs": [
    {
     "data": {
      "text/plain": [
       "'[CLS] 1. docusate sodium 100 mg capsule sig : one ( 1 ) capsule po bid ( 2 times a day ). disp : * 60 capsule ( s ) * refills : * 0 * 2. aspirin 81 mg tablet, delayed release ( e release ( e c. c. ) sig : one ( 1 ) tablet, delayed release ( e. c. ) po daily ( daily daily ). disp : * tablet delayed release ( e. c. ) ( s ) * ref refills : * 0 * ref refills : * 0 * 2 * 2. atorvastatin 20 mg tablet sig : one ( 1 ) tablet po daily ( daily ( ). disp : * 30 30 tablet ( s ) * refills : * 2 * * 2 3. atorvastatin 20 mg tablet sig : one ( 1 ) tablet po daily ( daily ). disp : * 30 tablet ( s ) * refills : * 2 * 4 4. atorvastatin 20 mg tablet sig : one ( 1 ) tablet po daily ( daily ). disp : * 30 tablet ( s ) * refills : * 2 2 * 5. ox hydrocodone - acetaminophen 5 - 500 mg tablet sig : 1 2 tablets po q4h ( every 4 hours ) as needed. disp : * 50 50 tablet ( s ) * refills : 0 * * 6. metopoprolol tartrate 25 mg tablet sig : one ( 1 ) tablet po bid ( 2 times a day ). disp : * 60 tablet ( s ) * ref refills : * 2 * * * refills : * * 2 * 7. furosemide 20 mg tablet sig : one ( ) tablet po once a day. disp : * 30 tablet ( ( s ) * * * * * * * 2 * * 8 * * 0 8. potassium chloride chloride 20 meq tab sust.. re. 5 5 tab tab sust. rel.'"
      ]
     },
     "execution_count": 78,
     "metadata": {},
     "output_type": "execute_result"
    }
   ],
   "source": [
    "temp = results[0][0]\n",
    "tokenizer.decode(temp[:sum(temp.not_equal(0))])"
   ]
  },
  {
   "cell_type": "markdown",
   "id": "ancient-evaluation",
   "metadata": {},
   "source": [
    "<br/>\n",
    "<br/>\n",
    "<br/>\n",
    "<br/>\n",
    "<br/>\n",
    "<br/>\n",
    "<br/>\n",
    "<br/>\n",
    "<br/>"
   ]
  },
  {
   "cell_type": "markdown",
   "id": "stretch-calcium",
   "metadata": {},
   "source": [
    "## sample3: eval_dataset, idx=777"
   ]
  },
  {
   "cell_type": "code",
   "execution_count": 110,
   "id": "preceding-spencer",
   "metadata": {},
   "outputs": [],
   "source": [
    "base_idx = 777\n",
    "sample = data_collator(eval_dataset[base_idx:base_idx+1])"
   ]
  },
  {
   "cell_type": "code",
   "execution_count": 111,
   "id": "auburn-monitor",
   "metadata": {},
   "outputs": [],
   "source": [
    "device = 'cuda' if torch.cuda.is_available() else 'cpu'\n",
    "sample = _prepare_inputs(sample, device)\n",
    "model = _prepare_model(model, device)"
   ]
  },
  {
   "cell_type": "markdown",
   "id": "binding-alcohol",
   "metadata": {},
   "source": [
    "### normal case"
   ]
  },
  {
   "cell_type": "code",
   "execution_count": 112,
   "id": "secondary-language",
   "metadata": {},
   "outputs": [],
   "source": [
    "results = model(**sample, given_lang_tokens=1, know_gt_leng=False)"
   ]
  },
  {
   "cell_type": "markdown",
   "id": "convenient-button",
   "metadata": {},
   "source": [
    "original graph"
   ]
  },
  {
   "cell_type": "code",
   "execution_count": 113,
   "id": "talented-burden",
   "metadata": {
    "scrolled": true
   },
   "outputs": [
    {
     "data": {
      "text/plain": [
       "[[1970, '\"minx25\"'],\n",
       " [162, '\"5mg\"'],\n",
       " [2219, '\"minoxidil\"'],\n",
       " [57, '\"50ml\"'],\n",
       " [24, '\"base\"'],\n",
       " [300, '\"frbd50\"'],\n",
       " [17, '\"iv\"'],\n",
       " [127, '\"1000mg\"'],\n",
       " [50, '\"vancomycin\"'],\n",
       " [233, '\"vanc1f\"'],\n",
       " [17, '\"iv\"'],\n",
       " [737, '\"metr500pm\"'],\n",
       " [17, '\"iv\"'],\n",
       " [241, '\"metronidazole (flagyl)\"'],\n",
       " [154, '\"500mg\"'],\n",
       " [17, '\"iv\"'],\n",
       " [285, '\"dextrose 50%\"'],\n",
       " [774, '\"25gm\"'],\n",
       " [264, '\"dex50sy\"'],\n",
       " [448, '\"senn187\"'],\n",
       " [248, '\"1tab\"'],\n",
       " [255, '\"senna\"'],\n",
       " [59, '\"40mg\"'],\n",
       " [164, '\"pantoprazole\"'],\n",
       " [701, '\"pant40\"'],\n",
       " [17, '\"iv\"'],\n",
       " [363, '\"cefepime\"'],\n",
       " [629, '\"1g\"'],\n",
       " [140, '\"cefe1i\"'],\n",
       " [117, '\"500ml\"'],\n",
       " [17, '\"iv\"'],\n",
       " [483, '\"d5w500\"'],\n",
       " [24, '\"base\"'],\n",
       " [89, '\"5% dextrose\"'],\n",
       " [17, '\"iv\"'],\n",
       " [122, '\"ns/mbp100i\"'],\n",
       " [240, '\"100ml\"'],\n",
       " [176, '\"0.9% sodium chloride (mini bag plus)\"'],\n",
       " [24, '\"base\"'],\n",
       " [121, '\"piperacillin-tazobactam\"'],\n",
       " [17, '\"iv\"'],\n",
       " [630, '\"zosy2.25i\"'],\n",
       " [635, '\"2.25g\"'],\n",
       " [159, '\"10mg\"'],\n",
       " [17, '\"iv\"'],\n",
       " [344, '\"hydralazine\"'],\n",
       " [461, '\"hydz20i\"'],\n",
       " [552, '\"amlodipine\"'],\n",
       " [245, '\"amlo5\"'],\n",
       " [159, '\"10mg\"'],\n",
       " [13, '\"po/ng\"'],\n",
       " [484, '\"sw50\"'],\n",
       " [368, '\"sw\"'],\n",
       " [24, '\"base\"'],\n",
       " [17, '\"iv\"'],\n",
       " [57, '\"50ml\"'],\n",
       " [541, '\"levo500pm\"'],\n",
       " [17, '\"iv\"'],\n",
       " [154, '\"500mg\"'],\n",
       " [432, '\"levofloxacin\"'],\n",
       " [197, '\"olanzapine (disintegrating tablet)\"'],\n",
       " [791, '\"olan5dtb\"'],\n",
       " [162, '\"5mg\"'],\n",
       " [26, '\"3ml\"'],\n",
       " [32, '\"sodium chloride 0.9%  flush\"'],\n",
       " [17, '\"iv\"'],\n",
       " [101, '\"naclflush\"'],\n",
       " [33, '\"sc\"'],\n",
       " [112, '\"5000unit\"'],\n",
       " [391, '\"hepa5i\"'],\n",
       " [263, '\"heparin\"'],\n",
       " [17, '\"iv\"'],\n",
       " [280, '\"hald5i\"'],\n",
       " [72, '\"0.5mg\"'],\n",
       " [522, '\"haloperidol\"'],\n",
       " [188, '\"ns\"'],\n",
       " [182, '\"metrbase\"'],\n",
       " [24, '\"base\"'],\n",
       " [17, '\"iv\"'],\n",
       " [240, '\"100ml\"'],\n",
       " [17, '\"iv\"'],\n",
       " [127, '\"1000mg\"'],\n",
       " [50, '\"vancomycin\"'],\n",
       " [233, '\"vanc1f\"'],\n",
       " [17, '\"iv\"'],\n",
       " [169, '\"vancobase\"'],\n",
       " [24, '\"base\"'],\n",
       " [71, '\"200ml\"'],\n",
       " [240, '\"100ml\"'],\n",
       " [906, '\"ciprobase\"'],\n",
       " [17, '\"iv\"'],\n",
       " [24, '\"base\"'],\n",
       " [89, '\"5% dextrose\"'],\n",
       " [17, '\"iv\"'],\n",
       " [121, '\"piperacillin-tazobactam\"'],\n",
       " [630, '\"zosy2.25i\"'],\n",
       " [635, '\"2.25g\"'],\n",
       " [71, '\"200ml\"'],\n",
       " [24, '\"base\"'],\n",
       " [17, '\"iv\"'],\n",
       " [169, '\"vancobase\"'],\n",
       " [522, '\"haloperidol\"'],\n",
       " [17, '\"iv\"'],\n",
       " [72, '\"0.5mg\"'],\n",
       " [280, '\"hald5i\"'],\n",
       " [657, '\"neph1\"'],\n",
       " [831, '\"nephrocaps\"'],\n",
       " [1002, '\"1cap\"'],\n",
       " [35, '\"250ml\"'],\n",
       " [24, '\"base\"'],\n",
       " [89, '\"5% dextrose\"'],\n",
       " [17, '\"iv\"'],\n",
       " [321, '\"d5w250\"'],\n",
       " [607, '\"dextrose 5%\"'],\n",
       " [24, '\"base\"'],\n",
       " [17, '\"iv\"'],\n",
       " [677, '\"levobase2\"'],\n",
       " [240, '\"100ml\"'],\n",
       " [159, '\"10mg\"'],\n",
       " [87, '\"bisacodyl\"'],\n",
       " [107, '\"bisa5\"'],\n",
       " [188, '\"ns\"'],\n",
       " [182, '\"metrbase\"'],\n",
       " [24, '\"base\"'],\n",
       " [17, '\"iv\"'],\n",
       " [240, '\"100ml\"'],\n",
       " [1182, '\"quetiapine fumarate\"'],\n",
       " [398, '\"quet25\"'],\n",
       " [115, '\"25mg\"'],\n",
       " [13, '\"po/ng\"'],\n",
       " [86, '\"metoprolol tartrate\"'],\n",
       " [306, '\"50mg\"'],\n",
       " [13, '\"po/ng\"'],\n",
       " [133, '\"meto50\"'],\n",
       " [253, '\"lansoprazole oral disintegrating tab\"'],\n",
       " [469, '\"lans30st\"'],\n",
       " [13, '\"po/ng\"'],\n",
       " [37, '\"30mg\"'],\n",
       " [1223, '\"simv40\"'],\n",
       " [59, '\"40mg\"'],\n",
       " [382, '\"simvastatin\"'],\n",
       " [13, '\"po/ng\"'],\n",
       " [24, '\"base\"'],\n",
       " [327, '\"1/2 ns\"'],\n",
       " [16, '\"1000ml\"'],\n",
       " [17, '\"iv\"'],\n",
       " [51, '\"ns451000\"'],\n",
       " [28, '\"2gm\"'],\n",
       " [17, '\"iv\"'],\n",
       " [58, '\"magnesium sulfate\"'],\n",
       " [46, '\"mag2pm\"'],\n",
       " [300, '\"frbd50\"'],\n",
       " [17, '\"iv\"'],\n",
       " [24, '\"base\"'],\n",
       " [57, '\"50ml\"'],\n",
       " [241, '\"metronidazole (flagyl)\"'],\n",
       " [154, '\"500mg\"'],\n",
       " [737, '\"metr500pm\"'],\n",
       " [17, '\"iv\"'],\n",
       " [17, '\"iv\"'],\n",
       " [522, '\"haloperidol\"'],\n",
       " [162, '\"5mg\"'],\n",
       " [280, '\"hald5i\"'],\n",
       " [13, '\"po/ng\"'],\n",
       " [43, '\"20mg\"'],\n",
       " [515, '\"lisi20\"'],\n",
       " [530, '\"lisinopril\"'],\n",
       " [147, '\"asa81\"'],\n",
       " [194, '\"aspirin\"'],\n",
       " [265, '\"81mg\"'],\n",
       " [13, '\"po/ng\"'],\n",
       " [17, '\"iv\"'],\n",
       " [518, '\"200mg\"'],\n",
       " [2414, '\"cipr200pm\"'],\n",
       " [870, '\"ciprofloxacin iv\"'],\n",
       " [1901, '\"mema5\"'],\n",
       " [167, '\"oral\"'],\n",
       " [162, '\"5mg\"'],\n",
       " [3099, '\"memantine\"'],\n",
       " [13, '\"po/ng\"'],\n",
       " [983, '\"mult5l\"'],\n",
       " [248, '\"1tab\"'],\n",
       " [67, '\"multivitamins\"'],\n",
       " [1322, '\"calcium acetate\"'],\n",
       " [687, '\"1334mg\"'],\n",
       " [351, '\"calc667\"'],\n",
       " [33, '\"sc\"'],\n",
       " [31, '\"inrhi\"'],\n",
       " [1272, '\"2unit\"'],\n",
       " [62, '\"insulin\"'],\n",
       " [87, '\"bisacodyl\"'],\n",
       " [126, '\"bisa10r\"'],\n",
       " [352, '\"pr\"'],\n",
       " [159, '\"10mg\"']]"
      ]
     },
     "execution_count": 113,
     "metadata": {},
     "output_type": "execute_result"
    }
   ],
   "source": [
    "# [[t.item(),id2node[t.item()]] for t in sample['kg_input_ids'][0] if t > 0]\n",
    "[[t.item(), id2node[t.item()]] for t in sample['kg_input_ids'][0] if t > config.num_relations]"
   ]
  },
  {
   "cell_type": "markdown",
   "id": "accredited-moscow",
   "metadata": {},
   "source": [
    "original text"
   ]
  },
  {
   "cell_type": "code",
   "execution_count": 114,
   "id": "capable-lambda",
   "metadata": {},
   "outputs": [
    {
     "data": {
      "text/plain": [
       "'[CLS] 1. bisacodyl 5 mg tablet, delayed release ( e. c. ) : two ( 2 ) tablet, delayed release ( e. c. ) po daily ( daily ) as needed for constipation. 2. senna 8. 6 mg tablet : one ( 1 ) tablet po bid prn as needed for constipation. 3. amlodipine 5 mg tablet : two ( 2 ) tablet po daily ( daily ). 4. simvastatin 40 mg tablet : one ( 1 ) tablet po daily ( daily ). 5. metoprolol tartrate 50 mg tablet : one ( 1 ) tablet po bid ( 2 times a day ). 6. lisinopril 20 mg tablet : one ( 1 ) tablet po daily ( daily ). 7. minoxidil 2. 5 mg tablet : two ( 2 ) tablet po bid ( 2 times a day ). 8. lansoprazole 30 mg tablet, rapid dissolve, dr : one ( 1 ) tablet, rapid dissolve, dr daily ( daily ). 9. aspirin 81 mg tablet, chewable : one ( 1 ) tablet, chewable po daily ( daily ). 10. calcium acetate 667 mg capsule : two ( 2 ) capsule po tid w / meals ( 3 times a day with meals ). 11. memantine 5 mg tablet : one ( 1 ) tablet po qhs ( once a day ( at bedtime ) ). 12. docusate sodium 100 mg tablet : 1 - 2 tablets po once a day. 13. therapeutic multivitamin liquid : one ( 1 ) tablet po daily ( daily ). [SEP]'"
      ]
     },
     "execution_count": 114,
     "metadata": {},
     "output_type": "execute_result"
    }
   ],
   "source": [
    "temp = results[2][0]\n",
    "tokenizer.decode(temp[:sum(temp.not_equal(0))])"
   ]
  },
  {
   "cell_type": "markdown",
   "id": "detailed-vampire",
   "metadata": {},
   "source": [
    "generation output"
   ]
  },
  {
   "cell_type": "code",
   "execution_count": 115,
   "id": "mysterious-lewis",
   "metadata": {},
   "outputs": [
    {
     "data": {
      "text/plain": [
       "'[CLS] 1. amlodipine 5 mg tablet : one ( 1 ) tablet po daily ( daily ). 2. amlodipine 5 mg tablet : one ( 1 ) po daily ( daily ). 2. amlodipine 5 mg tablet : one ( 1 ) tablet po daily ( daily ( daily ). 3. amlodipine 5 mg tablet : one ( 1 ) tablet po daily daily ( daily ). 4. 4. amlodipine 5 mg tablet : one 1 ) tablet po daily ( daily ). 5. 5. am 5. amlodipine 5 mg tablet po daily ( daily ) 6. amlodipine 5 mg : one ( 1 ) tablet po daily ( daily ). 6. amlodipine 5 mg tablet : ( 5 tablets po daily ( daily ). 7. metoprolol tartrate 25 mg : 1. tablet po bid ( ). 8. amlodipine 5 mg : 1 5. 9. amlodipine 5 mg tablet : po daily 10. 9. amlodipine 5 mg tablet po daily 10. am. amdipine 5 mg tablet : one ( ) po daily ( daily ( daily ) 10.. metoprolol tartrate 25 mg po bid 12. 5 mg po bid 12. am.. 5 mg tablet : ( 5 mg tablet po bid ( 2xx week ( ).'"
      ]
     },
     "execution_count": 115,
     "metadata": {},
     "output_type": "execute_result"
    }
   ],
   "source": [
    "temp = results[0][0]\n",
    "tokenizer.decode(temp[:sum(temp.not_equal(0))])"
   ]
  },
  {
   "cell_type": "markdown",
   "id": "unlimited-history",
   "metadata": {},
   "source": [
    "### random init"
   ]
  },
  {
   "cell_type": "code",
   "execution_count": 116,
   "id": "theoretical-collector",
   "metadata": {},
   "outputs": [],
   "source": [
    "results = model(**sample, given_lang_tokens=1, perturb_type='init_all', know_gt_leng=False)"
   ]
  },
  {
   "cell_type": "markdown",
   "id": "entire-think",
   "metadata": {},
   "source": [
    "generation output"
   ]
  },
  {
   "cell_type": "code",
   "execution_count": 117,
   "id": "limiting-ranch",
   "metadata": {
    "scrolled": true
   },
   "outputs": [
    {
     "data": {
      "text/plain": [
       "'[CLS] 1. fluticasone propionate 110 mcg / actuation aerosol sig : two ( 2 ) puff inhalation inhalation ( 2 times a day. ). 2. fluticasone propate 110 mcg / dose disk with device sig si : sig : one ( 1 ) inhalation ( 2 ) inhalation ( 2 times a day ). 3. 4. 5 mg capsule sig : one ( 1 ) capsule inhalation twice a day. 4. oxcocet 5 - 5 mg capsule sig : one ( ) capsule po twice a day. 5. oxcocet 5 mg capsule sig : one ( 1 ) capsule po twice a day. 5. 5 - 6. trodone 50 mg tablet sig one ( 1 ) tablet po hs as needed for insomn.'"
      ]
     },
     "execution_count": 117,
     "metadata": {},
     "output_type": "execute_result"
    }
   ],
   "source": [
    "temp = results[0][0]\n",
    "tokenizer.decode(temp[:sum(temp.not_equal(0))])"
   ]
  },
  {
   "cell_type": "markdown",
   "id": "unlike-civilian",
   "metadata": {},
   "source": [
    "### use only pre-training model"
   ]
  },
  {
   "cell_type": "code",
   "execution_count": 118,
   "id": "going-minneapolis",
   "metadata": {},
   "outputs": [
    {
     "name": "stderr",
     "output_type": "stream",
     "text": [
      "Some weights of the model checkpoint at /home/ssbae/bae/kg_txt_multimodal/lxmert/pretrained_models/pretrain/px/KGenc_LMinit_H128_L2,2,4_Unified1000 were not used when initializing LxmertForGeneration: ['classifier.weight', 'classifier.bias', 'edge_classifier.0.weight', 'edge_classifier.0.bias', 'edge_classifier.2.weight', 'edge_classifier.2.bias']\n",
      "- This IS expected if you are initializing LxmertForGeneration from the checkpoint of a model trained on another task or with another architecture (e.g. initializing a BertForSequenceClassification model from a BertForPreTraining model).\n",
      "- This IS NOT expected if you are initializing LxmertForGeneration from the checkpoint of a model that you expect to be exactly identical (initializing a BertForSequenceClassification model from a BertForSequenceClassification model).\n",
      "Some weights of LxmertForGeneration were not initialized from the model checkpoint at /home/ssbae/bae/kg_txt_multimodal/lxmert/pretrained_models/pretrain/px/KGenc_LMinit_H128_L2,2,4_Unified1000 and are newly initialized: ['lxmert.pooler.pooler.0.weight', 'lxmert.pooler.pooler.0.bias', 'lxmert.pooler.pooler.2.weight', 'lxmert.pooler.pooler.2.bias', 'lxmert.pooler.ce_pooler.0.weight', 'lxmert.pooler.ce_pooler.0.bias', 'lxmert.pooler.ce_pooler.2.weight', 'lxmert.pooler.ce_pooler.2.bias', 'rand_embeds.weight']\n",
      "You should probably TRAIN this model on a down-stream task to be able to use it for predictions and inference.\n"
     ]
    }
   ],
   "source": [
    "model_pt = LxmertForGeneration.from_pretrained(\n",
    "    config._name_or_path,\n",
    "    tokenizer=tokenizer\n",
    ")\n",
    "model_pt = _prepare_model(model_pt, device)"
   ]
  },
  {
   "cell_type": "code",
   "execution_count": 119,
   "id": "dated-wagner",
   "metadata": {},
   "outputs": [],
   "source": [
    "results = model_pt(**sample, given_lang_tokens=1, perturb_type=None, know_gt_leng=False)"
   ]
  },
  {
   "cell_type": "markdown",
   "id": "applicable-archive",
   "metadata": {},
   "source": [
    "generation output"
   ]
  },
  {
   "cell_type": "code",
   "execution_count": 120,
   "id": "alien-health",
   "metadata": {
    "scrolled": false
   },
   "outputs": [
    {
     "data": {
      "text/plain": [
       "'[CLS]xy oxcodone 5 mg po q4h4 - 6 - 6h 2 mg po q4 - 6h4 - 6h4 6 -4 6 -4 q4 - 4 6 - 44 -4 - 64h 6 mg 6 q mg po q44 - 64 - 6h4 - 6h 6 -4 6 - 64 q4 - 64 - 6 - 6h4 - 64 -4 qh -4 q4 - 6h 4 - 6 4 - 6 - 6 -4 6 - 6 4 - 6 hours 6 4 hours - 6 6 every 4 - 6 - 6 every 6 - 64 - 6 - 6 6 - 6 - 6 every 4 - 6 - 6 - 6 every 4 - 6 - 6 - 64 6 - 6 every 4 - 6 - 64h 6 - 64 - 6 - 64 - 6 hours 6 hours 6 hours hours to 4 every 6 to 6 6 6 to 4 6 - 6 every 4 6 - 6 6 - 64 6 - 6 - 64 6 - 6 - 6 6 - 6 6 every 6 - 6 hours 6 hours 6 to 6 hours to 6 6 to 6 - 6 - 6 everyh4 - 6 - 6en 4 - 64 - 64 - 6 - 64 - 6h 6 - 6 q4 q 6 - 6 - 64 - 6 - 6 - 64 - 6 - every 4h 6 -4 qh4 - 6 - 64 - 6 6 - 6 4 - 64 -h 64 - 6h4 - 64 - 6 every 6 - 6 6 - 64 - 64 6 - 6'"
      ]
     },
     "execution_count": 120,
     "metadata": {},
     "output_type": "execute_result"
    }
   ],
   "source": [
    "temp = results[0][0]\n",
    "tokenizer.decode(temp[:sum(temp.not_equal(0))])"
   ]
  },
  {
   "cell_type": "markdown",
   "id": "deadly-purse",
   "metadata": {},
   "source": [
    "<br/>\n",
    "<br/>\n",
    "<br/>\n",
    "<br/>\n",
    "<br/>\n",
    "<br/>\n",
    "<br/>\n",
    "<br/>\n",
    "<br/>"
   ]
  },
  {
   "cell_type": "markdown",
   "id": "secondary-scotland",
   "metadata": {},
   "source": [
    "## sample4: eval_dataset, idx=938"
   ]
  },
  {
   "cell_type": "code",
   "execution_count": 79,
   "id": "victorian-detective",
   "metadata": {},
   "outputs": [],
   "source": [
    "base_idx = 938\n",
    "sample = data_collator(eval_dataset[base_idx:base_idx+1])"
   ]
  },
  {
   "cell_type": "code",
   "execution_count": 80,
   "id": "primary-teacher",
   "metadata": {},
   "outputs": [],
   "source": [
    "device = 'cuda' if torch.cuda.is_available() else 'cpu'\n",
    "sample = _prepare_inputs(sample, device)\n",
    "model = _prepare_model(model, device)"
   ]
  },
  {
   "cell_type": "markdown",
   "id": "forward-review",
   "metadata": {},
   "source": [
    "### normal case"
   ]
  },
  {
   "cell_type": "code",
   "execution_count": 81,
   "id": "described-michigan",
   "metadata": {},
   "outputs": [],
   "source": [
    "results = model(**sample, given_lang_tokens=1, know_gt_leng=False)"
   ]
  },
  {
   "cell_type": "markdown",
   "id": "amber-planet",
   "metadata": {},
   "source": [
    "original graph"
   ]
  },
  {
   "cell_type": "code",
   "execution_count": 82,
   "id": "behavioral-centre",
   "metadata": {},
   "outputs": [
    {
     "data": {
      "text/plain": [
       "[[348, '\"kcl40i\"'],\n",
       " [85, '\"40meq\"'],\n",
       " [157, '\"potassium chloride\"'],\n",
       " [17, '\"iv\"'],\n",
       " [263, '\"heparin\"'],\n",
       " [33, '\"sc\"'],\n",
       " [112, '\"5000unit\"'],\n",
       " [391, '\"hepa5i\"'],\n",
       " [1571, '\"liepi20i\"'],\n",
       " [33, '\"sc\"'],\n",
       " [254, '\"1ml\"'],\n",
       " [2519, '\"lidocaine 1%/epinephrine 1:100000\"'],\n",
       " [527, '\"dila100\"'],\n",
       " [96, '\"100mg\"'],\n",
       " [712, '\"phenytoin\"'],\n",
       " [57, '\"50ml\"'],\n",
       " [17, '\"iv\"'],\n",
       " [484, '\"sw50\"'],\n",
       " [368, '\"sw\"'],\n",
       " [24, '\"base\"'],\n",
       " [17, '\"iv\"'],\n",
       " [85, '\"40meq\"'],\n",
       " [157, '\"potassium chloride\"'],\n",
       " [348, '\"kcl40i\"'],\n",
       " [23, '\"ondansetron\"'],\n",
       " [17, '\"iv\"'],\n",
       " [119, '\"ondan4i\"'],\n",
       " [92, '\"4mg\"'],\n",
       " [157, '\"potassium chloride\"'],\n",
       " [85, '\"40meq\"'],\n",
       " [204, '\"pota20\"'],\n",
       " [75, '\"300mg\"'],\n",
       " [527, '\"dila100\"'],\n",
       " [712, '\"phenytoin\"'],\n",
       " [518, '\"200mg\"'],\n",
       " [527, '\"dila100\"'],\n",
       " [712, '\"phenytoin\"'],\n",
       " [262, '\"neut\"'],\n",
       " [66, '\"neutra-phos\"'],\n",
       " [757, '\"1pkt\"'],\n",
       " [712, '\"phenytoin\"'],\n",
       " [527, '\"dila100\"'],\n",
       " [96, '\"100mg\"'],\n",
       " [24, '\"base\"'],\n",
       " [483, '\"d5w500\"'],\n",
       " [117, '\"500ml\"'],\n",
       " [14, '\"d5w\"'],\n",
       " [17, '\"iv\"'],\n",
       " [157, '\"potassium chloride\"'],\n",
       " [129, '\"kcl20p\"'],\n",
       " [82, '\"60meq\"'],\n",
       " [415, '\"diaz5\"'],\n",
       " [358, '\"diazepam\"'],\n",
       " [162, '\"5mg\"'],\n",
       " [1708, '\"potassium chl 40 meq / 1000 ml d5ns\"'],\n",
       " [1983, '\"kcl40/1000d5ns\"'],\n",
       " [16, '\"1000ml\"'],\n",
       " [17, '\"iv\"'],\n",
       " [24, '\"base\"'],\n",
       " [348, '\"kcl40i\"'],\n",
       " [17, '\"iv\"'],\n",
       " [85, '\"40meq\"'],\n",
       " [157, '\"potassium chloride\"'],\n",
       " [24, '\"base\"'],\n",
       " [97, '\"ns500\"'],\n",
       " [117, '\"500ml\"'],\n",
       " [17, '\"iv\"'],\n",
       " [188, '\"ns\"'],\n",
       " [518, '\"200mg\"'],\n",
       " [527, '\"dila100\"'],\n",
       " [712, '\"phenytoin\"'],\n",
       " [129, '\"kcl20p\"'],\n",
       " [157, '\"potassium chloride\"'],\n",
       " [82, '\"60meq\"'],\n",
       " [85, '\"40meq\"'],\n",
       " [348, '\"kcl40i\"'],\n",
       " [157, '\"potassium chloride\"'],\n",
       " [17, '\"iv\"'],\n",
       " [46, '\"mag2pm\"'],\n",
       " [17, '\"iv\"'],\n",
       " [58, '\"magnesium sulfate\"'],\n",
       " [338, '\"4gm\"'],\n",
       " [24, '\"base\"'],\n",
       " [117, '\"500ml\"'],\n",
       " [17, '\"iv\"'],\n",
       " [188, '\"ns\"'],\n",
       " [97, '\"ns500\"'],\n",
       " [484, '\"sw50\"'],\n",
       " [368, '\"sw\"'],\n",
       " [24, '\"base\"'],\n",
       " [17, '\"iv\"'],\n",
       " [240, '\"100ml\"'],\n",
       " [17, '\"iv\"'],\n",
       " [26, '\"3ml\"'],\n",
       " [101, '\"naclflush\"'],\n",
       " [32, '\"sodium chloride 0.9%  flush\"'],\n",
       " [188, '\"ns\"'],\n",
       " [117, '\"500ml\"'],\n",
       " [24, '\"base\"'],\n",
       " [97, '\"ns500\"'],\n",
       " [17, '\"iv\"'],\n",
       " [32, '\"sodium chloride 0.9%  flush\"'],\n",
       " [26, '\"3ml\"'],\n",
       " [101, '\"naclflush\"'],\n",
       " [17, '\"iv\"'],\n",
       " [28, '\"2gm\"'],\n",
       " [58, '\"magnesium sulfate\"'],\n",
       " [46, '\"mag2pm\"'],\n",
       " [17, '\"iv\"']]"
      ]
     },
     "execution_count": 82,
     "metadata": {},
     "output_type": "execute_result"
    }
   ],
   "source": [
    "# [[t.item(),id2node[t.item()]] for t in sample['kg_input_ids'][0] if t > 0]\n",
    "[[t.item(), id2node[t.item()]] for t in sample['kg_input_ids'][0] if t > config.num_relations]"
   ]
  },
  {
   "cell_type": "markdown",
   "id": "radio-disco",
   "metadata": {},
   "source": [
    "original text"
   ]
  },
  {
   "cell_type": "code",
   "execution_count": 83,
   "id": "amino-shipping",
   "metadata": {},
   "outputs": [
    {
     "data": {
      "text/plain": [
       "'[CLS] 1. phenytoin sodium extended 100 mg capsule sig : three ( 3 ) take 2 capsules in the morning and 1 capsule at night. disp : * 90 capsule ( s ) * refills : * 2 * [SEP]'"
      ]
     },
     "execution_count": 83,
     "metadata": {},
     "output_type": "execute_result"
    }
   ],
   "source": [
    "temp = results[2][0]\n",
    "tokenizer.decode(temp[:sum(temp.not_equal(0))])"
   ]
  },
  {
   "cell_type": "markdown",
   "id": "identified-cycle",
   "metadata": {},
   "source": [
    "generation output"
   ]
  },
  {
   "cell_type": "code",
   "execution_count": 84,
   "id": "micro-broadcast",
   "metadata": {},
   "outputs": [
    {
     "data": {
      "text/plain": [
       "'[CLS] 1. phenytoin sodium extended 100 mg capsule sig : one ( 1 ) capsule po tid ( 3 times a day ). disp : * 60 capsule ( s ) * refills : * 0 *'"
      ]
     },
     "execution_count": 84,
     "metadata": {},
     "output_type": "execute_result"
    }
   ],
   "source": [
    "temp = results[0][0]\n",
    "tokenizer.decode(temp[:sum(temp.not_equal(0))])"
   ]
  },
  {
   "cell_type": "markdown",
   "id": "boolean-remedy",
   "metadata": {},
   "source": [
    "### random init"
   ]
  },
  {
   "cell_type": "code",
   "execution_count": 85,
   "id": "julian-physiology",
   "metadata": {},
   "outputs": [],
   "source": [
    "results = model(**sample, given_lang_tokens=1, perturb_type='init_all', know_gt_leng=False)"
   ]
  },
  {
   "cell_type": "markdown",
   "id": "blond-adoption",
   "metadata": {},
   "source": [
    "generation output"
   ]
  },
  {
   "cell_type": "code",
   "execution_count": 86,
   "id": "super-royal",
   "metadata": {
    "scrolled": true
   },
   "outputs": [
    {
     "data": {
      "text/plain": [
       "'[CLS] 1. fluticasone propionate 110 mcg / actuation aerosol sig : one ( 1 ) inhalation inhalation ( 2 times a day.. disp : * 1 1 bottle * refills :'"
      ]
     },
     "execution_count": 86,
     "metadata": {},
     "output_type": "execute_result"
    }
   ],
   "source": [
    "temp = results[0][0]\n",
    "tokenizer.decode(temp[:sum(temp.not_equal(0))])"
   ]
  },
  {
   "cell_type": "markdown",
   "id": "published-hearts",
   "metadata": {},
   "source": [
    "### use only pre-training model"
   ]
  },
  {
   "cell_type": "code",
   "execution_count": 87,
   "id": "dressed-background",
   "metadata": {},
   "outputs": [
    {
     "name": "stderr",
     "output_type": "stream",
     "text": [
      "Some weights of the model checkpoint at /home/ssbae/bae/kg_txt_multimodal/lxmert/pretrained_models/pretrain/px/KGenc_LMinit_H128_L2,2,4_Unified1000 were not used when initializing LxmertForGeneration: ['classifier.weight', 'classifier.bias', 'edge_classifier.0.weight', 'edge_classifier.0.bias', 'edge_classifier.2.weight', 'edge_classifier.2.bias']\n",
      "- This IS expected if you are initializing LxmertForGeneration from the checkpoint of a model trained on another task or with another architecture (e.g. initializing a BertForSequenceClassification model from a BertForPreTraining model).\n",
      "- This IS NOT expected if you are initializing LxmertForGeneration from the checkpoint of a model that you expect to be exactly identical (initializing a BertForSequenceClassification model from a BertForSequenceClassification model).\n",
      "Some weights of LxmertForGeneration were not initialized from the model checkpoint at /home/ssbae/bae/kg_txt_multimodal/lxmert/pretrained_models/pretrain/px/KGenc_LMinit_H128_L2,2,4_Unified1000 and are newly initialized: ['lxmert.pooler.pooler.0.weight', 'lxmert.pooler.pooler.0.bias', 'lxmert.pooler.pooler.2.weight', 'lxmert.pooler.pooler.2.bias', 'lxmert.pooler.ce_pooler.0.weight', 'lxmert.pooler.ce_pooler.0.bias', 'lxmert.pooler.ce_pooler.2.weight', 'lxmert.pooler.ce_pooler.2.bias', 'rand_embeds.weight']\n",
      "You should probably TRAIN this model on a down-stream task to be able to use it for predictions and inference.\n"
     ]
    }
   ],
   "source": [
    "model_pt = LxmertForGeneration.from_pretrained(\n",
    "    config._name_or_path,\n",
    "    tokenizer=tokenizer\n",
    ")\n",
    "model_pt = _prepare_model(model_pt, device)"
   ]
  },
  {
   "cell_type": "code",
   "execution_count": 88,
   "id": "limited-belgium",
   "metadata": {},
   "outputs": [],
   "source": [
    "results = model_pt(**sample, given_lang_tokens=1, perturb_type=None, know_gt_leng=False)"
   ]
  },
  {
   "cell_type": "markdown",
   "id": "removable-lincoln",
   "metadata": {},
   "source": [
    "generation output"
   ]
  },
  {
   "cell_type": "code",
   "execution_count": 89,
   "id": "structural-cooperation",
   "metadata": {
    "scrolled": true
   },
   "outputs": [
    {
     "data": {
      "text/plain": [
       "'[CLS]xy oxcodone 5 mg po q4h4 - 6 -4h 6 - 6h every 6 to 4 to 6 -4 6h 6 to 4 to 4 to 4 to 6 6 to 4 6 to 6h4'"
      ]
     },
     "execution_count": 89,
     "metadata": {},
     "output_type": "execute_result"
    }
   ],
   "source": [
    "temp = results[0][0]\n",
    "tokenizer.decode(temp[:sum(temp.not_equal(0))])"
   ]
  },
  {
   "cell_type": "markdown",
   "id": "powerful-soccer",
   "metadata": {},
   "source": [
    "### perturbation"
   ]
  },
  {
   "cell_type": "markdown",
   "id": "minus-domestic",
   "metadata": {},
   "source": [
    "perturb a node of graph"
   ]
  },
  {
   "cell_type": "code",
   "execution_count": 90,
   "id": "drawn-continuity",
   "metadata": {},
   "outputs": [],
   "source": [
    "sample_perturb = sample.copy()"
   ]
  },
  {
   "cell_type": "code",
   "execution_count": 91,
   "id": "nutritional-uniform",
   "metadata": {},
   "outputs": [
    {
     "data": {
      "text/plain": [
       "[[348, '\"kcl40i\"'],\n",
       " [85, '\"40meq\"'],\n",
       " [157, '\"potassium chloride\"'],\n",
       " [17, '\"iv\"'],\n",
       " [263, '\"heparin\"'],\n",
       " [33, '\"sc\"'],\n",
       " [112, '\"5000unit\"'],\n",
       " [391, '\"hepa5i\"'],\n",
       " [1571, '\"liepi20i\"'],\n",
       " [33, '\"sc\"'],\n",
       " [254, '\"1ml\"'],\n",
       " [2519, '\"lidocaine 1%/epinephrine 1:100000\"'],\n",
       " [527, '\"dila100\"'],\n",
       " [96, '\"100mg\"'],\n",
       " [712, '\"phenytoin\"'],\n",
       " [57, '\"50ml\"'],\n",
       " [17, '\"iv\"'],\n",
       " [484, '\"sw50\"'],\n",
       " [368, '\"sw\"'],\n",
       " [24, '\"base\"'],\n",
       " [17, '\"iv\"'],\n",
       " [85, '\"40meq\"'],\n",
       " [157, '\"potassium chloride\"'],\n",
       " [348, '\"kcl40i\"'],\n",
       " [23, '\"ondansetron\"'],\n",
       " [17, '\"iv\"'],\n",
       " [119, '\"ondan4i\"'],\n",
       " [92, '\"4mg\"'],\n",
       " [157, '\"potassium chloride\"'],\n",
       " [85, '\"40meq\"'],\n",
       " [204, '\"pota20\"'],\n",
       " [75, '\"300mg\"'],\n",
       " [527, '\"dila100\"'],\n",
       " [712, '\"phenytoin\"'],\n",
       " [518, '\"200mg\"'],\n",
       " [527, '\"dila100\"'],\n",
       " [712, '\"phenytoin\"'],\n",
       " [262, '\"neut\"'],\n",
       " [66, '\"neutra-phos\"'],\n",
       " [757, '\"1pkt\"'],\n",
       " [712, '\"phenytoin\"'],\n",
       " [527, '\"dila100\"'],\n",
       " [96, '\"100mg\"'],\n",
       " [24, '\"base\"'],\n",
       " [483, '\"d5w500\"'],\n",
       " [117, '\"500ml\"'],\n",
       " [14, '\"d5w\"'],\n",
       " [17, '\"iv\"'],\n",
       " [157, '\"potassium chloride\"'],\n",
       " [129, '\"kcl20p\"'],\n",
       " [82, '\"60meq\"'],\n",
       " [415, '\"diaz5\"'],\n",
       " [358, '\"diazepam\"'],\n",
       " [162, '\"5mg\"'],\n",
       " [1708, '\"potassium chl 40 meq / 1000 ml d5ns\"'],\n",
       " [1983, '\"kcl40/1000d5ns\"'],\n",
       " [16, '\"1000ml\"'],\n",
       " [17, '\"iv\"'],\n",
       " [24, '\"base\"'],\n",
       " [348, '\"kcl40i\"'],\n",
       " [17, '\"iv\"'],\n",
       " [85, '\"40meq\"'],\n",
       " [157, '\"potassium chloride\"'],\n",
       " [24, '\"base\"'],\n",
       " [97, '\"ns500\"'],\n",
       " [117, '\"500ml\"'],\n",
       " [17, '\"iv\"'],\n",
       " [188, '\"ns\"'],\n",
       " [518, '\"200mg\"'],\n",
       " [527, '\"dila100\"'],\n",
       " [712, '\"phenytoin\"'],\n",
       " [129, '\"kcl20p\"'],\n",
       " [157, '\"potassium chloride\"'],\n",
       " [82, '\"60meq\"'],\n",
       " [85, '\"40meq\"'],\n",
       " [348, '\"kcl40i\"'],\n",
       " [157, '\"potassium chloride\"'],\n",
       " [17, '\"iv\"'],\n",
       " [46, '\"mag2pm\"'],\n",
       " [17, '\"iv\"'],\n",
       " [58, '\"magnesium sulfate\"'],\n",
       " [338, '\"4gm\"'],\n",
       " [24, '\"base\"'],\n",
       " [117, '\"500ml\"'],\n",
       " [17, '\"iv\"'],\n",
       " [188, '\"ns\"'],\n",
       " [97, '\"ns500\"'],\n",
       " [484, '\"sw50\"'],\n",
       " [368, '\"sw\"'],\n",
       " [24, '\"base\"'],\n",
       " [17, '\"iv\"'],\n",
       " [240, '\"100ml\"'],\n",
       " [17, '\"iv\"'],\n",
       " [26, '\"3ml\"'],\n",
       " [101, '\"naclflush\"'],\n",
       " [32, '\"sodium chloride 0.9%  flush\"'],\n",
       " [188, '\"ns\"'],\n",
       " [117, '\"500ml\"'],\n",
       " [24, '\"base\"'],\n",
       " [97, '\"ns500\"'],\n",
       " [17, '\"iv\"'],\n",
       " [32, '\"sodium chloride 0.9%  flush\"'],\n",
       " [26, '\"3ml\"'],\n",
       " [101, '\"naclflush\"'],\n",
       " [17, '\"iv\"'],\n",
       " [28, '\"2gm\"'],\n",
       " [58, '\"magnesium sulfate\"'],\n",
       " [46, '\"mag2pm\"'],\n",
       " [17, '\"iv\"']]"
      ]
     },
     "execution_count": 91,
     "metadata": {},
     "output_type": "execute_result"
    }
   ],
   "source": [
    "# original graph\n",
    "[[t.item(), id2node[t.item()]] for t in sample['kg_input_ids'][0] if t > config.num_relations]"
   ]
  },
  {
   "cell_type": "code",
   "execution_count": 104,
   "id": "previous-proposition",
   "metadata": {},
   "outputs": [],
   "source": [
    "sample_perturb['kg_input_ids'] = sample_perturb['kg_input_ids'].not_equal(712) * sample_perturb['kg_input_ids']\n",
    "sample_perturb['kg_input_ids'] = sample_perturb['kg_input_ids'].not_equal(32) * sample_perturb['kg_input_ids']"
   ]
  },
  {
   "cell_type": "code",
   "execution_count": 105,
   "id": "portable-sensitivity",
   "metadata": {
    "scrolled": true
   },
   "outputs": [
    {
     "data": {
      "text/plain": [
       "[[348, '\"kcl40i\"'],\n",
       " [85, '\"40meq\"'],\n",
       " [157, '\"potassium chloride\"'],\n",
       " [17, '\"iv\"'],\n",
       " [263, '\"heparin\"'],\n",
       " [33, '\"sc\"'],\n",
       " [112, '\"5000unit\"'],\n",
       " [391, '\"hepa5i\"'],\n",
       " [1571, '\"liepi20i\"'],\n",
       " [33, '\"sc\"'],\n",
       " [254, '\"1ml\"'],\n",
       " [2519, '\"lidocaine 1%/epinephrine 1:100000\"'],\n",
       " [527, '\"dila100\"'],\n",
       " [96, '\"100mg\"'],\n",
       " [57, '\"50ml\"'],\n",
       " [17, '\"iv\"'],\n",
       " [484, '\"sw50\"'],\n",
       " [368, '\"sw\"'],\n",
       " [24, '\"base\"'],\n",
       " [17, '\"iv\"'],\n",
       " [85, '\"40meq\"'],\n",
       " [157, '\"potassium chloride\"'],\n",
       " [348, '\"kcl40i\"'],\n",
       " [23, '\"ondansetron\"'],\n",
       " [17, '\"iv\"'],\n",
       " [119, '\"ondan4i\"'],\n",
       " [92, '\"4mg\"'],\n",
       " [157, '\"potassium chloride\"'],\n",
       " [85, '\"40meq\"'],\n",
       " [204, '\"pota20\"'],\n",
       " [75, '\"300mg\"'],\n",
       " [527, '\"dila100\"'],\n",
       " [518, '\"200mg\"'],\n",
       " [527, '\"dila100\"'],\n",
       " [262, '\"neut\"'],\n",
       " [66, '\"neutra-phos\"'],\n",
       " [757, '\"1pkt\"'],\n",
       " [527, '\"dila100\"'],\n",
       " [96, '\"100mg\"'],\n",
       " [24, '\"base\"'],\n",
       " [483, '\"d5w500\"'],\n",
       " [117, '\"500ml\"'],\n",
       " [14, '\"d5w\"'],\n",
       " [17, '\"iv\"'],\n",
       " [157, '\"potassium chloride\"'],\n",
       " [129, '\"kcl20p\"'],\n",
       " [82, '\"60meq\"'],\n",
       " [415, '\"diaz5\"'],\n",
       " [358, '\"diazepam\"'],\n",
       " [162, '\"5mg\"'],\n",
       " [1708, '\"potassium chl 40 meq / 1000 ml d5ns\"'],\n",
       " [1983, '\"kcl40/1000d5ns\"'],\n",
       " [16, '\"1000ml\"'],\n",
       " [17, '\"iv\"'],\n",
       " [24, '\"base\"'],\n",
       " [348, '\"kcl40i\"'],\n",
       " [17, '\"iv\"'],\n",
       " [85, '\"40meq\"'],\n",
       " [157, '\"potassium chloride\"'],\n",
       " [24, '\"base\"'],\n",
       " [97, '\"ns500\"'],\n",
       " [117, '\"500ml\"'],\n",
       " [17, '\"iv\"'],\n",
       " [188, '\"ns\"'],\n",
       " [518, '\"200mg\"'],\n",
       " [527, '\"dila100\"'],\n",
       " [129, '\"kcl20p\"'],\n",
       " [157, '\"potassium chloride\"'],\n",
       " [82, '\"60meq\"'],\n",
       " [85, '\"40meq\"'],\n",
       " [348, '\"kcl40i\"'],\n",
       " [157, '\"potassium chloride\"'],\n",
       " [17, '\"iv\"'],\n",
       " [46, '\"mag2pm\"'],\n",
       " [17, '\"iv\"'],\n",
       " [58, '\"magnesium sulfate\"'],\n",
       " [338, '\"4gm\"'],\n",
       " [24, '\"base\"'],\n",
       " [117, '\"500ml\"'],\n",
       " [17, '\"iv\"'],\n",
       " [188, '\"ns\"'],\n",
       " [97, '\"ns500\"'],\n",
       " [484, '\"sw50\"'],\n",
       " [368, '\"sw\"'],\n",
       " [24, '\"base\"'],\n",
       " [17, '\"iv\"'],\n",
       " [240, '\"100ml\"'],\n",
       " [17, '\"iv\"'],\n",
       " [26, '\"3ml\"'],\n",
       " [101, '\"naclflush\"'],\n",
       " [188, '\"ns\"'],\n",
       " [117, '\"500ml\"'],\n",
       " [24, '\"base\"'],\n",
       " [97, '\"ns500\"'],\n",
       " [17, '\"iv\"'],\n",
       " [26, '\"3ml\"'],\n",
       " [101, '\"naclflush\"'],\n",
       " [17, '\"iv\"'],\n",
       " [28, '\"2gm\"'],\n",
       " [58, '\"magnesium sulfate\"'],\n",
       " [46, '\"mag2pm\"'],\n",
       " [17, '\"iv\"']]"
      ]
     },
     "execution_count": 105,
     "metadata": {},
     "output_type": "execute_result"
    }
   ],
   "source": [
    "# perturbed graph\n",
    "[[t.item(), id2node[t.item()]] for t in sample_perturb['kg_input_ids'][0] if t > config.num_relations]"
   ]
  },
  {
   "cell_type": "code",
   "execution_count": 106,
   "id": "mounted-amount",
   "metadata": {},
   "outputs": [],
   "source": [
    "results = model(**sample, given_lang_tokens=1, know_gt_leng=False)\n",
    "results_perturb = model(**sample_perturb, given_lang_tokens=1, know_gt_leng=False)"
   ]
  },
  {
   "cell_type": "code",
   "execution_count": 107,
   "id": "outstanding-figure",
   "metadata": {},
   "outputs": [
    {
     "data": {
      "text/plain": [
       "'[CLS] 1. phenytoin sodium extended 100 mg capsule sig : one ( 1 ) capsule po tid ( 3 times a day ). disp : * 60 capsule ( s ) * refills : * 0 *'"
      ]
     },
     "execution_count": 107,
     "metadata": {},
     "output_type": "execute_result"
    }
   ],
   "source": [
    "# generate text given an original graph\n",
    "temp = results[0][0]\n",
    "tokenizer.decode(temp[:sum(temp.not_equal(0))])"
   ]
  },
  {
   "cell_type": "code",
   "execution_count": 108,
   "id": "accredited-morocco",
   "metadata": {},
   "outputs": [
    {
     "data": {
      "text/plain": [
       "'[CLS] 1. phenytoin sodium extended 100 mg capsule sig : one ( 1 ) capsule po tid ( 3 times a day ). disp : * 60 capsule ( s ) * refills : * 0 *'"
      ]
     },
     "execution_count": 108,
     "metadata": {},
     "output_type": "execute_result"
    }
   ],
   "source": [
    "# generate text given a perturbed graph\n",
    "temp = results_perturb[0][0]\n",
    "tokenizer.decode(temp[:sum(temp.not_equal(0))])"
   ]
  },
  {
   "cell_type": "code",
   "execution_count": 109,
   "id": "married-account",
   "metadata": {
    "scrolled": true
   },
   "outputs": [
    {
     "data": {
      "text/plain": [
       "'[CLS] 1. phenytoin sodium extended 100 mg capsule sig : three ( 3 ) take 2 capsules in the morning and 1 capsule at night. disp : * 90 capsule ( s ) * refills : * 2 * [SEP]'"
      ]
     },
     "execution_count": 109,
     "metadata": {},
     "output_type": "execute_result"
    }
   ],
   "source": [
    "# ground truth text\n",
    "temp = results[2][0]\n",
    "tokenizer.decode(temp[:sum(temp.not_equal(0))])"
   ]
  }
 ],
 "metadata": {
  "kernelspec": {
   "display_name": "Python 3",
   "language": "python",
   "name": "python3"
  },
  "language_info": {
   "codemirror_mode": {
    "name": "ipython",
    "version": 3
   },
   "file_extension": ".py",
   "mimetype": "text/x-python",
   "name": "python",
   "nbconvert_exporter": "python",
   "pygments_lexer": "ipython3",
   "version": "3.7.9"
  }
 },
 "nbformat": 4,
 "nbformat_minor": 5
}
