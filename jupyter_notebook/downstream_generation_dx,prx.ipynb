{
 "cells": [
  {
   "cell_type": "code",
   "execution_count": 28,
   "id": "paperback-light",
   "metadata": {},
   "outputs": [],
   "source": [
    "import subprocess\n",
    "import json\n",
    "import os\n",
    "\n",
    "import torch"
   ]
  },
  {
   "cell_type": "code",
   "execution_count": 31,
   "id": "plain-aquatic",
   "metadata": {},
   "outputs": [],
   "source": [
    "os.chdir('/home/ssbae/bae/kg_txt_multimodal/lxmert/src/')\n",
    "EXP_PATH = os.path.abspath('..')"
   ]
  },
  {
   "cell_type": "markdown",
   "id": "stylish-video",
   "metadata": {},
   "source": [
    "# diagnosis, procedures"
   ]
  },
  {
   "cell_type": "code",
   "execution_count": 33,
   "id": "awful-extension",
   "metadata": {},
   "outputs": [],
   "source": [
    "# ======================= CONFIG ==================== #\n",
    "## GPU setting\n",
    "os.environ[\"CUDA_VISIBLE_DEVICES\"] = '0'\n",
    "## TASK & DB\n",
    "TASK_NAME = 'generation'\n",
    "DB = 'dx,prx'\n",
    "DB_size = 2000\n",
    "MODEL_TYPE = 'both'\n",
    "Unified = True\n",
    "Align = False\n",
    "Relation_Classification = False\n",
    "Scratch_Downstream = False\n",
    "## Important Model Config\n",
    "Dim_Hidden = 128\n",
    "NUM_Layers = {'lang':2, 'kg':2, 'cross':4}\n",
    "Dropout = 0.1\n",
    "Num_Negatives = 1\n",
    "Margin = 1.0\n",
    "# ======================= CONFIG ==================== #\n",
    "# Variables\n",
    "Var_TASK = {}\n",
    "Var_MODEL = {'both':'KGenc_LMinit', 'lm':'LMinit', 'kg':'KGenc', 'rand':'Randinit'}\n",
    "Var_Unified = 'Unified' if Unified else ''\n",
    "Var_Align = 'Align_' if Align else ''\n",
    "Var_RC = 'RC_' if Relation_Classification else ''\n",
    "assert MODEL_TYPE in Var_MODEL, \"Model not supported\"\n",
    "assert DB in ['px','dx,prx'], \"DB not supported\"\n",
    "assert TASK_NAME in ['pretrain', 'binary_retrieval', 'generation', 'single_pretrain', 'single_binary_retrieval', 'single_generation'], \"Task not supported\"\n",
    "if Scratch_Downstream is True:\n",
    "    assert Align is False and Relation_Classification is False, \"Scratch start downstream task must turn off alignment prediction & relation classification\"\n",
    "\n",
    "# Model Name\n",
    "## <LMinit & KGenc> : both, <LMinit only> : lm, <KGenc only> : kg, <RandomInit> : rand\n",
    "## Unified(Placeholder) for Abstract Node : True or False\n",
    "MODEL_NAME = f'{DB}_{Var_Unified}{\"Uni\" if MODEL_TYPE in [\"both\",\"kg\"] else \"No\"}KGenc'\n",
    "RUN_NAME = f'{DB}/{Var_MODEL[MODEL_TYPE]}_H{Dim_Hidden}_L{NUM_Layers[\"lang\"]},{NUM_Layers[\"kg\"]},{NUM_Layers[\"cross\"]}_{Var_Align}{Var_RC}{Var_Unified}{DB_size}'"
   ]
  },
  {
   "cell_type": "code",
   "execution_count": 34,
   "id": "cellular-vocabulary",
   "metadata": {},
   "outputs": [],
   "source": [
    "TRAINING_CONFIG = {\n",
    "    \"seed\":1234,\n",
    "    \"model_type\":\"lxmert\",\n",
    "    \"do_train\": True,\n",
    "    \"evaluate_during_training\": True,\n",
    "    \"do_eval\": True,\n",
    "    \"edge_cls\": Relation_Classification,\n",
    "    \"align\": Align,\n",
    "    \"n_negatives\": Num_Negatives,\n",
    "    \"prediction_loss_only\": False,\n",
    "    \"overwrite_output_dir\": False,\n",
    "    \"mlm_probability\": 0.15,\n",
    "    \"block_size\": 512,\n",
    "    \"per_device_train_batch_size\": 1,\n",
    "    \"per_device_eval_batch_size\": 1,\n",
    "    \"learning_rate\": 1e-4,\n",
    "    \"num_train_epochs\": 40,\n",
    "    \"num_log_per_epoch\": 20,\n",
    "    \"num_save_per_epoch\": -1,\n",
    "    \"num_eval_per_epoch\": 2,\n",
    "    \"task\" : TASK_NAME,\n",
    "    \"train_data_file\":os.path.join(EXP_PATH,f\"data/{DB}_{DB_size}/{MODEL_NAME}/train\"),\n",
    "    \"eval_data_file\": os.path.join(EXP_PATH,f\"data/{DB}_{DB_size}/{MODEL_NAME}/valid\"),\n",
    "    \"test_data_file\": os.path.join(EXP_PATH,f\"data/{DB}_{DB_size}/{MODEL_NAME}/test\"),\n",
    "    \"run_name\": f\"{TASK_NAME}_{RUN_NAME}\"\n",
    "}"
   ]
  },
  {
   "cell_type": "code",
   "execution_count": 35,
   "id": "meaningful-corruption",
   "metadata": {},
   "outputs": [],
   "source": [
    "import easydict\n",
    "args = easydict.EasyDict(TRAINING_CONFIG)"
   ]
  },
  {
   "cell_type": "code",
   "execution_count": 36,
   "id": "pursuant-uncertainty",
   "metadata": {},
   "outputs": [],
   "source": [
    "temp_model_name_or_path = '/home/ssbae/bae/kg_txt_multimodal/lxmert/pretrained_models/\\\n",
    "generation/dx,prx/KGenc_LMinit_H128_L2,2,4_Unified2000'"
   ]
  },
  {
   "cell_type": "code",
   "execution_count": 40,
   "id": "urban-equipment",
   "metadata": {},
   "outputs": [
    {
     "name": "stderr",
     "output_type": "stream",
     "text": [
      "Some weights of the model checkpoint at /home/ssbae/bae/kg_txt_multimodal/lxmert/pretrained_models/generation/dx,prx/KGenc_LMinit_H128_L2,2,4_Unified2000 were not used when initializing LxmertForGeneration: ['classifier.weight', 'classifier.bias', 'edge_classifier.0.weight', 'edge_classifier.0.bias', 'edge_classifier.2.weight', 'edge_classifier.2.bias']\n",
      "- This IS expected if you are initializing LxmertForGeneration from the checkpoint of a model trained on another task or with another architecture (e.g. initializing a BertForSequenceClassification model from a BertForPreTraining model).\n",
      "- This IS NOT expected if you are initializing LxmertForGeneration from the checkpoint of a model that you expect to be exactly identical (initializing a BertForSequenceClassification model from a BertForSequenceClassification model).\n",
      "Some weights of LxmertForGeneration were not initialized from the model checkpoint at /home/ssbae/bae/kg_txt_multimodal/lxmert/pretrained_models/generation/dx,prx/KGenc_LMinit_H128_L2,2,4_Unified2000 and are newly initialized: ['rand_embeds.weight']\n",
      "You should probably TRAIN this model on a down-stream task to be able to use it for predictions and inference.\n"
     ]
    }
   ],
   "source": [
    "from transformers import AutoTokenizer\n",
    "tokenizer = AutoTokenizer.from_pretrained(temp_model_name_or_path)\n",
    "\n",
    "from transformers import AutoConfig\n",
    "config = AutoConfig.from_pretrained(temp_model_name_or_path)\n",
    "\n",
    "from model import LxmertForGeneration\n",
    "model = LxmertForGeneration.from_pretrained(\n",
    "    temp_model_name_or_path,\n",
    "    tokenizer=tokenizer\n",
    ")"
   ]
  },
  {
   "cell_type": "code",
   "execution_count": 41,
   "id": "charitable-pizza",
   "metadata": {},
   "outputs": [],
   "source": [
    "from utils.dataset import get_dataset\n",
    "\n",
    "# Get datasets\n",
    "# train_dataset = get_dataset(args,\n",
    "#                             tokenizer=tokenizer,\n",
    "#                             token_type_vocab=config.token_type_vocab,\n",
    "#                             )\n",
    "eval_dataset = get_dataset(args,\n",
    "                           tokenizer=tokenizer,\n",
    "                           token_type_vocab=config.token_type_vocab,\n",
    "                           evaluate=True\n",
    "                           )\n",
    "# test_dataset = get_dataset(args,\n",
    "#                            tokenizer=tokenizer,\n",
    "#                            token_type_vocab=config.token_type_vocab,\n",
    "#                            test=True\n",
    "#                            ) if training_args.do_eval else None"
   ]
  },
  {
   "cell_type": "code",
   "execution_count": 42,
   "id": "going-monster",
   "metadata": {},
   "outputs": [],
   "source": [
    "from utils.data_collator import UniLM_DataCollator\n",
    "\n",
    "data_collator = UniLM_DataCollator(tokenizer=tokenizer,\n",
    "                                       kg_special_token_ids=config.kg_special_token_ids,\n",
    "                                       prediction=True)"
   ]
  },
  {
   "cell_type": "code",
   "execution_count": 49,
   "id": "hired-variance",
   "metadata": {},
   "outputs": [],
   "source": [
    "node2id = torch.load(os.path.join(args.eval_data_file.replace('/valid',''), 'unified_node'))\n",
    "id2node = {v:k.split('^^')[0] for k,v in node2id.items()}"
   ]
  },
  {
   "cell_type": "markdown",
   "id": "numerous-vision",
   "metadata": {},
   "source": [
    "# generation"
   ]
  },
  {
   "cell_type": "code",
   "execution_count": 60,
   "id": "stone-ground",
   "metadata": {},
   "outputs": [],
   "source": [
    "def _prepare_inputs(inputs, device):\n",
    "    if isinstance(inputs, dict):\n",
    "        for k,v in inputs.items():\n",
    "            if isinstance(v, torch.Tensor):\n",
    "                inputs[k] = v.to(device)\n",
    "    return inputs\n",
    "\n",
    "def _prepare_model(model, device):\n",
    "    model.to(device)\n",
    "    return model"
   ]
  },
  {
   "cell_type": "markdown",
   "id": "mysterious-essay",
   "metadata": {},
   "source": [
    "<br/>\n",
    "<br/>\n",
    "<br/>\n",
    "<br/>\n",
    "<br/>\n",
    "<br/>\n",
    "<br/>\n",
    "<br/>\n",
    "<br/>"
   ]
  },
  {
   "cell_type": "markdown",
   "id": "rental-rally",
   "metadata": {},
   "source": [
    "## sample1: eval_dataset, idx=21"
   ]
  },
  {
   "cell_type": "code",
   "execution_count": 160,
   "id": "enabling-secretariat",
   "metadata": {},
   "outputs": [],
   "source": [
    "base_idx = 21\n",
    "sample = data_collator(eval_dataset[base_idx:base_idx+1])"
   ]
  },
  {
   "cell_type": "code",
   "execution_count": 161,
   "id": "moderate-rally",
   "metadata": {},
   "outputs": [],
   "source": [
    "device = 'cuda' if torch.cuda.is_available() else 'cpu'\n",
    "sample = _prepare_inputs(sample, device)\n",
    "model = _prepare_model(model, device)"
   ]
  },
  {
   "cell_type": "markdown",
   "id": "constitutional-remainder",
   "metadata": {},
   "source": [
    "### normal case"
   ]
  },
  {
   "cell_type": "code",
   "execution_count": 146,
   "id": "colonial-scottish",
   "metadata": {},
   "outputs": [],
   "source": [
    "results = model(**sample, given_lang_tokens=1, know_gt_leng=False)"
   ]
  },
  {
   "cell_type": "markdown",
   "id": "complex-midwest",
   "metadata": {},
   "source": [
    "original graph"
   ]
  },
  {
   "cell_type": "code",
   "execution_count": 147,
   "id": "civil-saskatchewan",
   "metadata": {},
   "outputs": [
    {
     "data": {
      "text/plain": [
       "[[2057, '\"intestinal infection due to clostridium difficile\"'],\n",
       " [478, '\"injection or infusion of oxazolidinone class of antibiotics\"'],\n",
       " [7089, '\"atrial fibrillation\"'],\n",
       " [1722, '\"edema\"'],\n",
       " [7443, '\"parenteral infusion of concentrated nutritional substances\"'],\n",
       " [2690, '\"arterial catheterization\"'],\n",
       " [3183, '\"venous catheterization, not elsewhere classified\"'],\n",
       " [5809, '\"unspecified septicemia\"'],\n",
       " [119, '\"unspecified protein-calorie malnutrition\"'],\n",
       " [947, '\"other bipolar disorders\"'],\n",
       " [6138, '\"sepsis\"'],\n",
       " [7000, '\"other disorders of plasma protein metabolism\"'],\n",
       " [275, '\"pneumonia, organism unspecified\"']]"
      ]
     },
     "execution_count": 147,
     "metadata": {},
     "output_type": "execute_result"
    }
   ],
   "source": [
    "# [[t.item(),id2node[t.item()]] for t in sample['kg_input_ids'][0] if t > 0]\n",
    "[[t.item(), id2node[t.item()]] for t in sample['kg_input_ids'][0] if t > config.num_relations]"
   ]
  },
  {
   "cell_type": "markdown",
   "id": "quick-sixth",
   "metadata": {},
   "source": [
    "original text"
   ]
  },
  {
   "cell_type": "code",
   "execution_count": 148,
   "id": "polish-speaking",
   "metadata": {},
   "outputs": [
    {
     "data": {
      "text/plain": [
       "'[CLS] pna c diff colitis paroxysmal a fib pancytopenia bipolar disorder [SEP] none [SEP]'"
      ]
     },
     "execution_count": 148,
     "metadata": {},
     "output_type": "execute_result"
    }
   ],
   "source": [
    "temp = results[2][0]\n",
    "tokenizer.decode(temp[:sum(temp.not_equal(0))])"
   ]
  },
  {
   "cell_type": "markdown",
   "id": "inappropriate-mobile",
   "metadata": {},
   "source": [
    "generation output"
   ]
  },
  {
   "cell_type": "code",
   "execution_count": 149,
   "id": "clean-elite",
   "metadata": {},
   "outputs": [
    {
     "data": {
      "text/plain": [
       "'[CLS] 1. pneumonia 2. c. difficile colitis 3. atrial fibrillation 4. central'"
      ]
     },
     "execution_count": 149,
     "metadata": {},
     "output_type": "execute_result"
    }
   ],
   "source": [
    "temp = results[0][0]\n",
    "tokenizer.decode(temp[:sum(temp.not_equal(0))])"
   ]
  },
  {
   "cell_type": "markdown",
   "id": "adjusted-arizona",
   "metadata": {},
   "source": [
    "### random init"
   ]
  },
  {
   "cell_type": "code",
   "execution_count": 150,
   "id": "marked-venture",
   "metadata": {},
   "outputs": [],
   "source": [
    "results = model(**sample, given_lang_tokens=1, perturb_type='init_all', know_gt_leng=False)"
   ]
  },
  {
   "cell_type": "markdown",
   "id": "dynamic-hamilton",
   "metadata": {},
   "source": [
    "generation output"
   ]
  },
  {
   "cell_type": "code",
   "execution_count": 151,
   "id": "round-innocent",
   "metadata": {
    "scrolled": true
   },
   "outputs": [
    {
     "data": {
      "text/plain": [
       "'[CLS] 1. left lower extremity 2. left lower extremity thrombosis 3. left lower ex'"
      ]
     },
     "execution_count": 151,
     "metadata": {},
     "output_type": "execute_result"
    }
   ],
   "source": [
    "temp = results[0][0]\n",
    "tokenizer.decode(temp[:sum(temp.not_equal(0))])"
   ]
  },
  {
   "cell_type": "markdown",
   "id": "sitting-spider",
   "metadata": {},
   "source": [
    "### use only pre-training model"
   ]
  },
  {
   "cell_type": "code",
   "execution_count": 164,
   "id": "ancient-friendly",
   "metadata": {},
   "outputs": [
    {
     "name": "stderr",
     "output_type": "stream",
     "text": [
      "Some weights of the model checkpoint at /home/ssbae/bae/kg_txt_multimodal/lxmert/pretrained_models/pretrain/dx,prx/KGenc_LMinit_H128_L2,2,4_Unified2000 were not used when initializing LxmertForGeneration: ['classifier.weight', 'classifier.bias', 'edge_classifier.0.weight', 'edge_classifier.0.bias', 'edge_classifier.2.weight', 'edge_classifier.2.bias']\n",
      "- This IS expected if you are initializing LxmertForGeneration from the checkpoint of a model trained on another task or with another architecture (e.g. initializing a BertForSequenceClassification model from a BertForPreTraining model).\n",
      "- This IS NOT expected if you are initializing LxmertForGeneration from the checkpoint of a model that you expect to be exactly identical (initializing a BertForSequenceClassification model from a BertForSequenceClassification model).\n",
      "Some weights of LxmertForGeneration were not initialized from the model checkpoint at /home/ssbae/bae/kg_txt_multimodal/lxmert/pretrained_models/pretrain/dx,prx/KGenc_LMinit_H128_L2,2,4_Unified2000 and are newly initialized: ['lxmert.pooler.pooler.0.weight', 'lxmert.pooler.pooler.0.bias', 'lxmert.pooler.pooler.2.weight', 'lxmert.pooler.pooler.2.bias', 'lxmert.pooler.ce_pooler.0.weight', 'lxmert.pooler.ce_pooler.0.bias', 'lxmert.pooler.ce_pooler.2.weight', 'lxmert.pooler.ce_pooler.2.bias', 'rand_embeds.weight']\n",
      "You should probably TRAIN this model on a down-stream task to be able to use it for predictions and inference.\n"
     ]
    }
   ],
   "source": [
    "model_pt = LxmertForGeneration.from_pretrained(\n",
    "    config._name_or_path,\n",
    "    tokenizer=tokenizer\n",
    ")\n",
    "model_pt = _prepare_model(model_pt, device)"
   ]
  },
  {
   "cell_type": "code",
   "execution_count": 165,
   "id": "veterinary-footwear",
   "metadata": {},
   "outputs": [],
   "source": [
    "results = model_pt(**sample, given_lang_tokens=1, perturb_type=None, know_gt_leng=False)"
   ]
  },
  {
   "cell_type": "markdown",
   "id": "laughing-henry",
   "metadata": {},
   "source": [
    "generation output"
   ]
  },
  {
   "cell_type": "code",
   "execution_count": 166,
   "id": "compliant-decimal",
   "metadata": {
    "scrolled": true
   },
   "outputs": [
    {
     "data": {
      "text/plain": [
       "'[CLS] sepsis sepsis sepsis sepsis sepsis sepsis sepsis sepsis sepsis sepsis sepsis sep'"
      ]
     },
     "execution_count": 166,
     "metadata": {},
     "output_type": "execute_result"
    }
   ],
   "source": [
    "temp = results[0][0]\n",
    "tokenizer.decode(temp[:sum(temp.not_equal(0))])"
   ]
  },
  {
   "cell_type": "markdown",
   "id": "chief-drive",
   "metadata": {},
   "source": [
    "### perturbation"
   ]
  },
  {
   "cell_type": "markdown",
   "id": "quantitative-lemon",
   "metadata": {},
   "source": [
    "perturb a node of graph"
   ]
  },
  {
   "cell_type": "code",
   "execution_count": 171,
   "id": "polar-accounting",
   "metadata": {},
   "outputs": [],
   "source": [
    "sample_perturb = sample.copy()"
   ]
  },
  {
   "cell_type": "code",
   "execution_count": 172,
   "id": "stable-hardwood",
   "metadata": {},
   "outputs": [
    {
     "data": {
      "text/plain": [
       "[[2057, '\"intestinal infection due to clostridium difficile\"'],\n",
       " [478, '\"injection or infusion of oxazolidinone class of antibiotics\"'],\n",
       " [7089, '\"atrial fibrillation\"'],\n",
       " [1722, '\"edema\"'],\n",
       " [7443, '\"parenteral infusion of concentrated nutritional substances\"'],\n",
       " [2690, '\"arterial catheterization\"'],\n",
       " [3183, '\"venous catheterization, not elsewhere classified\"'],\n",
       " [5809, '\"unspecified septicemia\"'],\n",
       " [119, '\"unspecified protein-calorie malnutrition\"'],\n",
       " [947, '\"other bipolar disorders\"'],\n",
       " [6138, '\"sepsis\"'],\n",
       " [7000, '\"other disorders of plasma protein metabolism\"'],\n",
       " [275, '\"pneumonia, organism unspecified\"']]"
      ]
     },
     "execution_count": 172,
     "metadata": {},
     "output_type": "execute_result"
    }
   ],
   "source": [
    "# original graph\n",
    "[[t.item(), id2node[t.item()]] for t in sample['kg_input_ids'][0] if t > config.num_relations]"
   ]
  },
  {
   "cell_type": "code",
   "execution_count": 174,
   "id": "judicial-teaching",
   "metadata": {},
   "outputs": [],
   "source": [
    "sample_perturb['kg_input_ids'] = sample_perturb['kg_input_ids'].not_equal(275) * sample_perturb['kg_input_ids']"
   ]
  },
  {
   "cell_type": "code",
   "execution_count": 182,
   "id": "resistant-currency",
   "metadata": {},
   "outputs": [
    {
     "data": {
      "text/plain": [
       "[[2057, '\"intestinal infection due to clostridium difficile\"'],\n",
       " [478, '\"injection or infusion of oxazolidinone class of antibiotics\"'],\n",
       " [7089, '\"atrial fibrillation\"'],\n",
       " [1722, '\"edema\"'],\n",
       " [7443, '\"parenteral infusion of concentrated nutritional substances\"'],\n",
       " [2690, '\"arterial catheterization\"'],\n",
       " [3183, '\"venous catheterization, not elsewhere classified\"'],\n",
       " [5809, '\"unspecified septicemia\"'],\n",
       " [119, '\"unspecified protein-calorie malnutrition\"'],\n",
       " [947, '\"other bipolar disorders\"'],\n",
       " [6138, '\"sepsis\"'],\n",
       " [7000, '\"other disorders of plasma protein metabolism\"']]"
      ]
     },
     "execution_count": 182,
     "metadata": {},
     "output_type": "execute_result"
    }
   ],
   "source": [
    "# perturbed graph\n",
    "[[t.item(), id2node[t.item()]] for t in sample_perturb['kg_input_ids'][0] if t > config.num_relations]"
   ]
  },
  {
   "cell_type": "code",
   "execution_count": 185,
   "id": "english-montreal",
   "metadata": {},
   "outputs": [],
   "source": [
    "results = model(**sample, given_lang_tokens=1, know_gt_leng=False)\n",
    "results_perturb = model(**sample_perturb, given_lang_tokens=1, know_gt_leng=False)"
   ]
  },
  {
   "cell_type": "code",
   "execution_count": 189,
   "id": "quality-cleaners",
   "metadata": {},
   "outputs": [
    {
     "data": {
      "text/plain": [
       "'[CLS] 1. pneumonia 2. c. difficile colitis 3. atrial fibrillation 4. central'"
      ]
     },
     "execution_count": 189,
     "metadata": {},
     "output_type": "execute_result"
    }
   ],
   "source": [
    "# generate text given an original graph\n",
    "temp = results[0][0]\n",
    "tokenizer.decode(temp[:sum(temp.not_equal(0))])"
   ]
  },
  {
   "cell_type": "code",
   "execution_count": 190,
   "id": "sunrise-parade",
   "metadata": {},
   "outputs": [
    {
     "data": {
      "text/plain": [
       "'[CLS] 1. c. difficile colitis 2. atrial fibrillation 3. difficile'"
      ]
     },
     "execution_count": 190,
     "metadata": {},
     "output_type": "execute_result"
    }
   ],
   "source": [
    "# generate text given a perturbed graph\n",
    "temp = results_perturb[0][0]\n",
    "tokenizer.decode(temp[:sum(temp.not_equal(0))])"
   ]
  },
  {
   "cell_type": "code",
   "execution_count": 192,
   "id": "changing-mustang",
   "metadata": {},
   "outputs": [
    {
     "data": {
      "text/plain": [
       "'[CLS] pna c diff colitis paroxysmal a fib pancytopenia bipolar disorder [SEP] none [SEP]'"
      ]
     },
     "execution_count": 192,
     "metadata": {},
     "output_type": "execute_result"
    }
   ],
   "source": [
    "# ground truth text\n",
    "temp = results[2][0]\n",
    "tokenizer.decode(temp[:sum(temp.not_equal(0))])"
   ]
  },
  {
   "cell_type": "markdown",
   "id": "expressed-belfast",
   "metadata": {},
   "source": [
    "<br/>\n",
    "<br/>\n",
    "<br/>\n",
    "<br/>\n",
    "<br/>\n",
    "<br/>\n",
    "<br/>\n",
    "<br/>\n",
    "<br/>"
   ]
  },
  {
   "cell_type": "markdown",
   "id": "liked-shower",
   "metadata": {},
   "source": [
    "## sample2: eval_dataset, idx=1822"
   ]
  },
  {
   "cell_type": "code",
   "execution_count": 453,
   "id": "curious-clause",
   "metadata": {},
   "outputs": [],
   "source": [
    "base_idx = 1822\n",
    "sample = data_collator(eval_dataset[base_idx:base_idx+1])"
   ]
  },
  {
   "cell_type": "code",
   "execution_count": 454,
   "id": "worse-fields",
   "metadata": {},
   "outputs": [],
   "source": [
    "device = 'cuda' if torch.cuda.is_available() else 'cpu'\n",
    "sample = _prepare_inputs(sample, device)\n",
    "model = _prepare_model(model, device)"
   ]
  },
  {
   "cell_type": "markdown",
   "id": "checked-vacation",
   "metadata": {},
   "source": [
    "### normal case"
   ]
  },
  {
   "cell_type": "code",
   "execution_count": 455,
   "id": "stock-accordance",
   "metadata": {},
   "outputs": [],
   "source": [
    "results = model(**sample, given_lang_tokens=1, know_gt_leng=False)"
   ]
  },
  {
   "cell_type": "markdown",
   "id": "noble-fight",
   "metadata": {},
   "source": [
    "original graph"
   ]
  },
  {
   "cell_type": "code",
   "execution_count": 456,
   "id": "still-bacon",
   "metadata": {},
   "outputs": [
    {
     "data": {
      "text/plain": [
       "[[3886, '\"closed fracture of shaft of humerus\"'],\n",
       " [1255, '\"open reduction of fracture with internal fixation, humerus\"'],\n",
       " [5449, '\"other incision of cranial and peripheral nerves\"'],\n",
       " [536, '\"unspecified fall\"'],\n",
       " [5815, '\"alcohol withdrawal delirium\"'],\n",
       " [6781, '\"alcohol abuse, continuous\"'],\n",
       " [2325, '\"acute posthemorrhagic anemia\"']]"
      ]
     },
     "execution_count": 456,
     "metadata": {},
     "output_type": "execute_result"
    }
   ],
   "source": [
    "# [[t.item(),id2node[t.item()]] for t in sample['kg_input_ids'][0] if t > 0]\n",
    "[[t.item(), id2node[t.item()]] for t in sample['kg_input_ids'][0] if t > config.num_relations]"
   ]
  },
  {
   "cell_type": "markdown",
   "id": "entitled-combine",
   "metadata": {},
   "source": [
    "original text"
   ]
  },
  {
   "cell_type": "code",
   "execution_count": 304,
   "id": "binding-scholarship",
   "metadata": {},
   "outputs": [
    {
     "data": {
      "text/plain": [
       "'[CLS] 1. right humerus fracture 2. alcohol withdrawal [SEP] 1. orif of right humerus and radial nerve neuroplasty [SEP]'"
      ]
     },
     "execution_count": 304,
     "metadata": {},
     "output_type": "execute_result"
    }
   ],
   "source": [
    "temp = results[2][0]\n",
    "tokenizer.decode(temp[:sum(temp.not_equal(0))])"
   ]
  },
  {
   "cell_type": "markdown",
   "id": "established-conspiracy",
   "metadata": {},
   "source": [
    "generation output"
   ]
  },
  {
   "cell_type": "code",
   "execution_count": 305,
   "id": "elegant-norwegian",
   "metadata": {},
   "outputs": [
    {
     "data": {
      "text/plain": [
       "'[CLS] 1. alcohol withdrawal 2. alcohol withdrawal 3. alcohol 1. orif right humerus fracture [SEP]'"
      ]
     },
     "execution_count": 305,
     "metadata": {},
     "output_type": "execute_result"
    }
   ],
   "source": [
    "temp = results[0][0]\n",
    "tokenizer.decode(temp[:sum(temp.not_equal(0))])"
   ]
  },
  {
   "cell_type": "markdown",
   "id": "square-apartment",
   "metadata": {},
   "source": [
    "### random init"
   ]
  },
  {
   "cell_type": "code",
   "execution_count": 306,
   "id": "perceived-situation",
   "metadata": {},
   "outputs": [],
   "source": [
    "results = model(**sample, given_lang_tokens=1, perturb_type='init_all', know_gt_leng=False)"
   ]
  },
  {
   "cell_type": "markdown",
   "id": "german-pontiac",
   "metadata": {},
   "source": [
    "generation output"
   ]
  },
  {
   "cell_type": "code",
   "execution_count": 307,
   "id": "amber-contents",
   "metadata": {
    "scrolled": true
   },
   "outputs": [
    {
     "data": {
      "text/plain": [
       "'[CLS] 1. acute on chronic systolic heart failure 2. none [SEP]'"
      ]
     },
     "execution_count": 307,
     "metadata": {},
     "output_type": "execute_result"
    }
   ],
   "source": [
    "temp = results[0][0]\n",
    "tokenizer.decode(temp[:sum(temp.not_equal(0))])"
   ]
  },
  {
   "cell_type": "markdown",
   "id": "durable-bosnia",
   "metadata": {},
   "source": [
    "### use only pre-training model"
   ]
  },
  {
   "cell_type": "code",
   "execution_count": 308,
   "id": "useful-usage",
   "metadata": {},
   "outputs": [
    {
     "name": "stderr",
     "output_type": "stream",
     "text": [
      "Some weights of the model checkpoint at /home/ssbae/bae/kg_txt_multimodal/lxmert/pretrained_models/pretrain/dx,prx/KGenc_LMinit_H128_L2,2,4_Unified2000 were not used when initializing LxmertForGeneration: ['classifier.weight', 'classifier.bias', 'edge_classifier.0.weight', 'edge_classifier.0.bias', 'edge_classifier.2.weight', 'edge_classifier.2.bias']\n",
      "- This IS expected if you are initializing LxmertForGeneration from the checkpoint of a model trained on another task or with another architecture (e.g. initializing a BertForSequenceClassification model from a BertForPreTraining model).\n",
      "- This IS NOT expected if you are initializing LxmertForGeneration from the checkpoint of a model that you expect to be exactly identical (initializing a BertForSequenceClassification model from a BertForSequenceClassification model).\n",
      "Some weights of LxmertForGeneration were not initialized from the model checkpoint at /home/ssbae/bae/kg_txt_multimodal/lxmert/pretrained_models/pretrain/dx,prx/KGenc_LMinit_H128_L2,2,4_Unified2000 and are newly initialized: ['lxmert.pooler.pooler.0.weight', 'lxmert.pooler.pooler.0.bias', 'lxmert.pooler.pooler.2.weight', 'lxmert.pooler.pooler.2.bias', 'lxmert.pooler.ce_pooler.0.weight', 'lxmert.pooler.ce_pooler.0.bias', 'lxmert.pooler.ce_pooler.2.weight', 'lxmert.pooler.ce_pooler.2.bias', 'rand_embeds.weight']\n",
      "You should probably TRAIN this model on a down-stream task to be able to use it for predictions and inference.\n"
     ]
    }
   ],
   "source": [
    "model_pt = LxmertForGeneration.from_pretrained(\n",
    "    config._name_or_path,\n",
    "    tokenizer=tokenizer\n",
    ")\n",
    "model_pt = _prepare_model(model_pt, device)"
   ]
  },
  {
   "cell_type": "code",
   "execution_count": 309,
   "id": "located-practitioner",
   "metadata": {},
   "outputs": [],
   "source": [
    "results = model_pt(**sample, given_lang_tokens=1, perturb_type=None, know_gt_leng=False)"
   ]
  },
  {
   "cell_type": "markdown",
   "id": "elect-lover",
   "metadata": {},
   "source": [
    "generation output"
   ]
  },
  {
   "cell_type": "code",
   "execution_count": 310,
   "id": "constant-variable",
   "metadata": {
    "scrolled": true
   },
   "outputs": [
    {
     "data": {
      "text/plain": [
       "'[CLS] left hip fracture left hip fracture left hip fracture left hip fracture left hip fracture left hip fracture left hip fracture left hip fracture left hip fracture left'"
      ]
     },
     "execution_count": 310,
     "metadata": {},
     "output_type": "execute_result"
    }
   ],
   "source": [
    "temp = results[0][0]\n",
    "tokenizer.decode(temp[:sum(temp.not_equal(0))])"
   ]
  },
  {
   "cell_type": "markdown",
   "id": "heard-accident",
   "metadata": {},
   "source": [
    "### perturbation"
   ]
  },
  {
   "cell_type": "markdown",
   "id": "digital-tuning",
   "metadata": {},
   "source": [
    "perturb a node of graph"
   ]
  },
  {
   "cell_type": "code",
   "execution_count": 311,
   "id": "limiting-orlando",
   "metadata": {},
   "outputs": [],
   "source": [
    "sample_perturb = sample.copy()"
   ]
  },
  {
   "cell_type": "code",
   "execution_count": 321,
   "id": "dominant-modification",
   "metadata": {},
   "outputs": [
    {
     "data": {
      "text/plain": [
       "[[3886, '\"closed fracture of shaft of humerus\"'],\n",
       " [1255, '\"open reduction of fracture with internal fixation, humerus\"'],\n",
       " [5449, '\"other incision of cranial and peripheral nerves\"'],\n",
       " [536, '\"unspecified fall\"'],\n",
       " [5815, '\"alcohol withdrawal delirium\"'],\n",
       " [6781, '\"alcohol abuse, continuous\"'],\n",
       " [2325, '\"acute posthemorrhagic anemia\"']]"
      ]
     },
     "execution_count": 321,
     "metadata": {},
     "output_type": "execute_result"
    }
   ],
   "source": [
    "# original graph\n",
    "[[t.item(), id2node[t.item()]] for t in sample['kg_input_ids'][0] if t > config.num_relations]"
   ]
  },
  {
   "cell_type": "code",
   "execution_count": 333,
   "id": "sized-exchange",
   "metadata": {},
   "outputs": [],
   "source": [
    "sample_perturb['kg_input_ids'] = sample_perturb['kg_input_ids'].not_equal(5815) * sample_perturb['kg_input_ids']\n",
    "sample_perturb['kg_input_ids'] = sample_perturb['kg_input_ids'].not_equal(6781) * sample_perturb['kg_input_ids']"
   ]
  },
  {
   "cell_type": "code",
   "execution_count": 334,
   "id": "spiritual-stocks",
   "metadata": {},
   "outputs": [
    {
     "data": {
      "text/plain": [
       "[[3886, '\"closed fracture of shaft of humerus\"'],\n",
       " [5449, '\"other incision of cranial and peripheral nerves\"'],\n",
       " [536, '\"unspecified fall\"'],\n",
       " [2325, '\"acute posthemorrhagic anemia\"']]"
      ]
     },
     "execution_count": 334,
     "metadata": {},
     "output_type": "execute_result"
    }
   ],
   "source": [
    "# perturbed graph\n",
    "[[t.item(), id2node[t.item()]] for t in sample_perturb['kg_input_ids'][0] if t > config.num_relations]"
   ]
  },
  {
   "cell_type": "code",
   "execution_count": 335,
   "id": "expensive-trader",
   "metadata": {},
   "outputs": [],
   "source": [
    "results = model(**sample, given_lang_tokens=1, know_gt_leng=False)\n",
    "results_perturb = model(**sample_perturb, given_lang_tokens=1, know_gt_leng=False)"
   ]
  },
  {
   "cell_type": "code",
   "execution_count": 336,
   "id": "applied-program",
   "metadata": {},
   "outputs": [
    {
     "data": {
      "text/plain": [
       "'[CLS] 1. alcohol withdrawal 2. right humerus fracture [SEP]'"
      ]
     },
     "execution_count": 336,
     "metadata": {},
     "output_type": "execute_result"
    }
   ],
   "source": [
    "# generate text given an original graph\n",
    "temp = results[0][0]\n",
    "tokenizer.decode(temp[:sum(temp.not_equal(0))])"
   ]
  },
  {
   "cell_type": "code",
   "execution_count": 337,
   "id": "fifteen-priority",
   "metadata": {},
   "outputs": [
    {
     "data": {
      "text/plain": [
       "'[CLS] s / p motor vehicle crash left inguinal hernia [SEP]'"
      ]
     },
     "execution_count": 337,
     "metadata": {},
     "output_type": "execute_result"
    }
   ],
   "source": [
    "# generate text given a perturbed graph\n",
    "temp = results_perturb[0][0]\n",
    "tokenizer.decode(temp[:sum(temp.not_equal(0))])"
   ]
  },
  {
   "cell_type": "code",
   "execution_count": 338,
   "id": "precise-chosen",
   "metadata": {},
   "outputs": [
    {
     "data": {
      "text/plain": [
       "'[CLS] 1. right humerus fracture 2. alcohol withdrawal [SEP] 1. orif of right humerus and radial nerve neuroplasty [SEP]'"
      ]
     },
     "execution_count": 338,
     "metadata": {},
     "output_type": "execute_result"
    }
   ],
   "source": [
    "# ground truth text\n",
    "temp = results[2][0]\n",
    "tokenizer.decode(temp[:sum(temp.not_equal(0))])"
   ]
  },
  {
   "cell_type": "markdown",
   "id": "ancient-evaluation",
   "metadata": {},
   "source": [
    "<br/>\n",
    "<br/>\n",
    "<br/>\n",
    "<br/>\n",
    "<br/>\n",
    "<br/>\n",
    "<br/>\n",
    "<br/>\n",
    "<br/>"
   ]
  },
  {
   "cell_type": "markdown",
   "id": "amateur-paint",
   "metadata": {},
   "source": [
    "## sample3: eval_dataset, idx=788"
   ]
  },
  {
   "cell_type": "code",
   "execution_count": 350,
   "id": "lesbian-netscape",
   "metadata": {},
   "outputs": [],
   "source": [
    "base_idx = 788\n",
    "sample = data_collator(eval_dataset[base_idx:base_idx+1])"
   ]
  },
  {
   "cell_type": "code",
   "execution_count": 351,
   "id": "neural-table",
   "metadata": {},
   "outputs": [],
   "source": [
    "device = 'cuda' if torch.cuda.is_available() else 'cpu'\n",
    "sample = _prepare_inputs(sample, device)\n",
    "model = _prepare_model(model, device)"
   ]
  },
  {
   "cell_type": "markdown",
   "id": "sublime-short",
   "metadata": {},
   "source": [
    "### normal case"
   ]
  },
  {
   "cell_type": "code",
   "execution_count": 352,
   "id": "injured-exchange",
   "metadata": {},
   "outputs": [],
   "source": [
    "results = model(**sample, given_lang_tokens=1, know_gt_leng=False)"
   ]
  },
  {
   "cell_type": "markdown",
   "id": "forward-tractor",
   "metadata": {},
   "source": [
    "original graph"
   ]
  },
  {
   "cell_type": "code",
   "execution_count": 356,
   "id": "animal-projection",
   "metadata": {},
   "outputs": [
    {
     "data": {
      "text/plain": [
       "[[4270, '\"closed fracture of orbital floor (blow-out)\"'],\n",
       " [4439, '\"pneumonitis due to inhalation of food or vomitus\"'],\n",
       " [261, '\"toxic encephalopathy\"'],\n",
       " [2341, '\"temporary tracheostomy\"'],\n",
       " [4626,\n",
       "  '\"chronic viral hepatitis b without mention of hepatic coma without mention of hepatitis delta\"'],\n",
       " [4314,\n",
       "  '\"continuous invasive mechanical ventilation for less than 96 consecutive hours\"'],\n",
       " [5603, '\"closed [endoscopic] biopsy of bronchus\"'],\n",
       " [1764,\n",
       "  '\"closed fracture of base of skull with subarachnoid, subdural, and extradural hemorrhage, with no loss of consciousness\"'],\n",
       " [3176,\n",
       "  '\"continuous invasive mechanical ventilation for 96 consecutive hours or more\"'],\n",
       " [6274, '\"chronic hepatitis c without mention of hepatic coma\"'],\n",
       " [4865,\n",
       "  '\"pseudomonas infection in conditions classified elsewhere and of unspecified site\"'],\n",
       " [5066, '\"fiber-optic bronchoscopy\"'],\n",
       " [2431, '\"insertion of endotracheal tube\"'],\n",
       " [570, '\"acute alcoholic hepatitis\"'],\n",
       " [5815, '\"alcohol withdrawal delirium\"'],\n",
       " [2190, '\"closed fracture of other facial bones\"'],\n",
       " [3502, '\"ventilator associated pneumonia\"'],\n",
       " [3178, '\"unarmed fight or brawl\"'],\n",
       " [6047, '\"percutaneous [endoscopic] gastrostomy [peg]\"'],\n",
       " [5345, '\"physical restraints status\"'],\n",
       " [4051, '\"central venous catheter placement with guidance\"'],\n",
       " [5348, '\"acute alcoholic intoxication in alcoholism, unspecified\"'],\n",
       " [2431, '\"insertion of endotracheal tube\"'],\n",
       " [7240, '\"systemic lupus erythematosus\"'],\n",
       " [4459, '\"compression of brain\"'],\n",
       " [7443, '\"parenteral infusion of concentrated nutritional substances\"']]"
      ]
     },
     "execution_count": 356,
     "metadata": {},
     "output_type": "execute_result"
    }
   ],
   "source": [
    "# [[t.item(),id2node[t.item()]] for t in sample['kg_input_ids'][0] if t > 0]\n",
    "[[t.item(), id2node[t.item()]] for t in sample['kg_input_ids'][0] if t > config.num_relations]"
   ]
  },
  {
   "cell_type": "markdown",
   "id": "known-electronics",
   "metadata": {},
   "source": [
    "original text"
   ]
  },
  {
   "cell_type": "code",
   "execution_count": 359,
   "id": "removed-sponsorship",
   "metadata": {},
   "outputs": [
    {
     "data": {
      "text/plain": [
       "'[CLS] [SEP] percutaneous tracheostomy percutaneous gastric tube placement [SEP]'"
      ]
     },
     "execution_count": 359,
     "metadata": {},
     "output_type": "execute_result"
    }
   ],
   "source": [
    "temp = results[2][0]\n",
    "tokenizer.decode(temp[:sum(temp.not_equal(0))])"
   ]
  },
  {
   "cell_type": "markdown",
   "id": "sunset-calcium",
   "metadata": {},
   "source": [
    "generation output"
   ]
  },
  {
   "cell_type": "code",
   "execution_count": 360,
   "id": "champion-sentence",
   "metadata": {},
   "outputs": [
    {
     "data": {
      "text/plain": [
       "'[CLS] s / p tracheostomy peg placement [SEP]'"
      ]
     },
     "execution_count": 360,
     "metadata": {},
     "output_type": "execute_result"
    }
   ],
   "source": [
    "temp = results[0][0]\n",
    "tokenizer.decode(temp[:sum(temp.not_equal(0))])"
   ]
  },
  {
   "cell_type": "markdown",
   "id": "brief-board",
   "metadata": {},
   "source": [
    "### random init"
   ]
  },
  {
   "cell_type": "code",
   "execution_count": 361,
   "id": "thick-encounter",
   "metadata": {},
   "outputs": [],
   "source": [
    "results = model(**sample, given_lang_tokens=1, perturb_type='init_all', know_gt_leng=False)"
   ]
  },
  {
   "cell_type": "markdown",
   "id": "velvet-headquarters",
   "metadata": {},
   "source": [
    "generation output"
   ]
  },
  {
   "cell_type": "code",
   "execution_count": 362,
   "id": "therapeutic-relaxation",
   "metadata": {
    "scrolled": true
   },
   "outputs": [
    {
     "data": {
      "text/plain": [
       "'[CLS] 1. 1. left subclavian central venous catheter placement 2'"
      ]
     },
     "execution_count": 362,
     "metadata": {},
     "output_type": "execute_result"
    }
   ],
   "source": [
    "temp = results[0][0]\n",
    "tokenizer.decode(temp[:sum(temp.not_equal(0))])"
   ]
  },
  {
   "cell_type": "markdown",
   "id": "concrete-alarm",
   "metadata": {},
   "source": [
    "### use only pre-training model"
   ]
  },
  {
   "cell_type": "code",
   "execution_count": 363,
   "id": "transsexual-blanket",
   "metadata": {},
   "outputs": [
    {
     "name": "stderr",
     "output_type": "stream",
     "text": [
      "Some weights of the model checkpoint at /home/ssbae/bae/kg_txt_multimodal/lxmert/pretrained_models/pretrain/dx,prx/KGenc_LMinit_H128_L2,2,4_Unified2000 were not used when initializing LxmertForGeneration: ['classifier.weight', 'classifier.bias', 'edge_classifier.0.weight', 'edge_classifier.0.bias', 'edge_classifier.2.weight', 'edge_classifier.2.bias']\n",
      "- This IS expected if you are initializing LxmertForGeneration from the checkpoint of a model trained on another task or with another architecture (e.g. initializing a BertForSequenceClassification model from a BertForPreTraining model).\n",
      "- This IS NOT expected if you are initializing LxmertForGeneration from the checkpoint of a model that you expect to be exactly identical (initializing a BertForSequenceClassification model from a BertForSequenceClassification model).\n",
      "Some weights of LxmertForGeneration were not initialized from the model checkpoint at /home/ssbae/bae/kg_txt_multimodal/lxmert/pretrained_models/pretrain/dx,prx/KGenc_LMinit_H128_L2,2,4_Unified2000 and are newly initialized: ['lxmert.pooler.pooler.0.weight', 'lxmert.pooler.pooler.0.bias', 'lxmert.pooler.pooler.2.weight', 'lxmert.pooler.pooler.2.bias', 'lxmert.pooler.ce_pooler.0.weight', 'lxmert.pooler.ce_pooler.0.bias', 'lxmert.pooler.ce_pooler.2.weight', 'lxmert.pooler.ce_pooler.2.bias', 'rand_embeds.weight']\n",
      "You should probably TRAIN this model on a down-stream task to be able to use it for predictions and inference.\n"
     ]
    }
   ],
   "source": [
    "model_pt = LxmertForGeneration.from_pretrained(\n",
    "    config._name_or_path,\n",
    "    tokenizer=tokenizer\n",
    ")\n",
    "model_pt = _prepare_model(model_pt, device)"
   ]
  },
  {
   "cell_type": "code",
   "execution_count": 364,
   "id": "demanding-patient",
   "metadata": {},
   "outputs": [],
   "source": [
    "results = model_pt(**sample, given_lang_tokens=1, perturb_type=None, know_gt_leng=False)"
   ]
  },
  {
   "cell_type": "markdown",
   "id": "unknown-canon",
   "metadata": {},
   "source": [
    "generation output"
   ]
  },
  {
   "cell_type": "code",
   "execution_count": 365,
   "id": "czech-tourist",
   "metadata": {
    "scrolled": true
   },
   "outputs": [
    {
     "data": {
      "text/plain": [
       "'[CLS] pneumonia aspiration aspiration aspiration aspiration aspiration aspiration aspiration as'"
      ]
     },
     "execution_count": 365,
     "metadata": {},
     "output_type": "execute_result"
    }
   ],
   "source": [
    "temp = results[0][0]\n",
    "tokenizer.decode(temp[:sum(temp.not_equal(0))])"
   ]
  },
  {
   "cell_type": "markdown",
   "id": "inappropriate-korea",
   "metadata": {},
   "source": [
    "### perturbation"
   ]
  },
  {
   "cell_type": "markdown",
   "id": "suitable-olive",
   "metadata": {},
   "source": [
    "perturb a node of graph"
   ]
  },
  {
   "cell_type": "code",
   "execution_count": 366,
   "id": "gorgeous-adult",
   "metadata": {},
   "outputs": [],
   "source": [
    "sample_perturb = sample.copy()"
   ]
  },
  {
   "cell_type": "code",
   "execution_count": 367,
   "id": "cardiovascular-alexander",
   "metadata": {},
   "outputs": [
    {
     "data": {
      "text/plain": [
       "[[4270, '\"closed fracture of orbital floor (blow-out)\"'],\n",
       " [4439, '\"pneumonitis due to inhalation of food or vomitus\"'],\n",
       " [261, '\"toxic encephalopathy\"'],\n",
       " [2341, '\"temporary tracheostomy\"'],\n",
       " [4626,\n",
       "  '\"chronic viral hepatitis b without mention of hepatic coma without mention of hepatitis delta\"'],\n",
       " [4314,\n",
       "  '\"continuous invasive mechanical ventilation for less than 96 consecutive hours\"'],\n",
       " [5603, '\"closed [endoscopic] biopsy of bronchus\"'],\n",
       " [1764,\n",
       "  '\"closed fracture of base of skull with subarachnoid, subdural, and extradural hemorrhage, with no loss of consciousness\"'],\n",
       " [3176,\n",
       "  '\"continuous invasive mechanical ventilation for 96 consecutive hours or more\"'],\n",
       " [6274, '\"chronic hepatitis c without mention of hepatic coma\"'],\n",
       " [4865,\n",
       "  '\"pseudomonas infection in conditions classified elsewhere and of unspecified site\"'],\n",
       " [5066, '\"fiber-optic bronchoscopy\"'],\n",
       " [2431, '\"insertion of endotracheal tube\"'],\n",
       " [570, '\"acute alcoholic hepatitis\"'],\n",
       " [5815, '\"alcohol withdrawal delirium\"'],\n",
       " [2190, '\"closed fracture of other facial bones\"'],\n",
       " [3502, '\"ventilator associated pneumonia\"'],\n",
       " [3178, '\"unarmed fight or brawl\"'],\n",
       " [6047, '\"percutaneous [endoscopic] gastrostomy [peg]\"'],\n",
       " [5345, '\"physical restraints status\"'],\n",
       " [4051, '\"central venous catheter placement with guidance\"'],\n",
       " [5348, '\"acute alcoholic intoxication in alcoholism, unspecified\"'],\n",
       " [2431, '\"insertion of endotracheal tube\"'],\n",
       " [7240, '\"systemic lupus erythematosus\"'],\n",
       " [4459, '\"compression of brain\"'],\n",
       " [7443, '\"parenteral infusion of concentrated nutritional substances\"']]"
      ]
     },
     "execution_count": 367,
     "metadata": {},
     "output_type": "execute_result"
    }
   ],
   "source": [
    "# original graph\n",
    "[[t.item(), id2node[t.item()]] for t in sample['kg_input_ids'][0] if t > config.num_relations]"
   ]
  },
  {
   "cell_type": "code",
   "execution_count": 374,
   "id": "sharing-longer",
   "metadata": {},
   "outputs": [],
   "source": [
    "sample_perturb['kg_input_ids'] = sample_perturb['kg_input_ids'].not_equal(6047) * sample_perturb['kg_input_ids']"
   ]
  },
  {
   "cell_type": "code",
   "execution_count": 375,
   "id": "decent-amazon",
   "metadata": {},
   "outputs": [
    {
     "data": {
      "text/plain": [
       "[[4270, '\"closed fracture of orbital floor (blow-out)\"'],\n",
       " [4439, '\"pneumonitis due to inhalation of food or vomitus\"'],\n",
       " [261, '\"toxic encephalopathy\"'],\n",
       " [2341, '\"temporary tracheostomy\"'],\n",
       " [4626,\n",
       "  '\"chronic viral hepatitis b without mention of hepatic coma without mention of hepatitis delta\"'],\n",
       " [4314,\n",
       "  '\"continuous invasive mechanical ventilation for less than 96 consecutive hours\"'],\n",
       " [5603, '\"closed [endoscopic] biopsy of bronchus\"'],\n",
       " [1764,\n",
       "  '\"closed fracture of base of skull with subarachnoid, subdural, and extradural hemorrhage, with no loss of consciousness\"'],\n",
       " [3176,\n",
       "  '\"continuous invasive mechanical ventilation for 96 consecutive hours or more\"'],\n",
       " [6274, '\"chronic hepatitis c without mention of hepatic coma\"'],\n",
       " [4865,\n",
       "  '\"pseudomonas infection in conditions classified elsewhere and of unspecified site\"'],\n",
       " [5066, '\"fiber-optic bronchoscopy\"'],\n",
       " [2431, '\"insertion of endotracheal tube\"'],\n",
       " [570, '\"acute alcoholic hepatitis\"'],\n",
       " [5815, '\"alcohol withdrawal delirium\"'],\n",
       " [2190, '\"closed fracture of other facial bones\"'],\n",
       " [3502, '\"ventilator associated pneumonia\"'],\n",
       " [3178, '\"unarmed fight or brawl\"'],\n",
       " [5345, '\"physical restraints status\"'],\n",
       " [4051, '\"central venous catheter placement with guidance\"'],\n",
       " [5348, '\"acute alcoholic intoxication in alcoholism, unspecified\"'],\n",
       " [2431, '\"insertion of endotracheal tube\"'],\n",
       " [7240, '\"systemic lupus erythematosus\"'],\n",
       " [4459, '\"compression of brain\"'],\n",
       " [7443, '\"parenteral infusion of concentrated nutritional substances\"']]"
      ]
     },
     "execution_count": 375,
     "metadata": {},
     "output_type": "execute_result"
    }
   ],
   "source": [
    "# perturbed graph\n",
    "[[t.item(), id2node[t.item()]] for t in sample_perturb['kg_input_ids'][0] if t > config.num_relations]"
   ]
  },
  {
   "cell_type": "code",
   "execution_count": 376,
   "id": "latest-document",
   "metadata": {},
   "outputs": [],
   "source": [
    "results = model(**sample, given_lang_tokens=1, know_gt_leng=False)\n",
    "results_perturb = model(**sample_perturb, given_lang_tokens=1, know_gt_leng=False)"
   ]
  },
  {
   "cell_type": "code",
   "execution_count": 377,
   "id": "happy-people",
   "metadata": {},
   "outputs": [
    {
     "data": {
      "text/plain": [
       "'[CLS] s / p tracheostomy peg placement [SEP]'"
      ]
     },
     "execution_count": 377,
     "metadata": {},
     "output_type": "execute_result"
    }
   ],
   "source": [
    "# generate text given an original graph\n",
    "temp = results[0][0]\n",
    "tokenizer.decode(temp[:sum(temp.not_equal(0))])"
   ]
  },
  {
   "cell_type": "code",
   "execution_count": 378,
   "id": "quiet-beginning",
   "metadata": {},
   "outputs": [
    {
     "data": {
      "text/plain": [
       "'[CLS] s / p tracheostomy [SEP]'"
      ]
     },
     "execution_count": 378,
     "metadata": {},
     "output_type": "execute_result"
    }
   ],
   "source": [
    "# generate text given a perturbed graph\n",
    "temp = results_perturb[0][0]\n",
    "tokenizer.decode(temp[:sum(temp.not_equal(0))])"
   ]
  },
  {
   "cell_type": "code",
   "execution_count": 379,
   "id": "geological-blank",
   "metadata": {
    "scrolled": true
   },
   "outputs": [
    {
     "data": {
      "text/plain": [
       "'[CLS] [SEP] percutaneous tracheostomy percutaneous gastric tube placement [SEP]'"
      ]
     },
     "execution_count": 379,
     "metadata": {},
     "output_type": "execute_result"
    }
   ],
   "source": [
    "# ground truth text\n",
    "temp = results[2][0]\n",
    "tokenizer.decode(temp[:sum(temp.not_equal(0))])"
   ]
  },
  {
   "cell_type": "markdown",
   "id": "rental-environment",
   "metadata": {},
   "source": [
    "<br/>\n",
    "<br/>\n",
    "<br/>\n",
    "<br/>\n",
    "<br/>\n",
    "<br/>\n",
    "<br/>\n",
    "<br/>\n",
    "<br/>"
   ]
  },
  {
   "cell_type": "markdown",
   "id": "stretch-calcium",
   "metadata": {},
   "source": [
    "## sample4: eval_dataset, idx=325"
   ]
  },
  {
   "cell_type": "code",
   "execution_count": 458,
   "id": "preceding-spencer",
   "metadata": {},
   "outputs": [],
   "source": [
    "base_idx = 325\n",
    "sample = data_collator(eval_dataset[base_idx:base_idx+1])"
   ]
  },
  {
   "cell_type": "code",
   "execution_count": 459,
   "id": "auburn-monitor",
   "metadata": {},
   "outputs": [],
   "source": [
    "device = 'cuda' if torch.cuda.is_available() else 'cpu'\n",
    "sample = _prepare_inputs(sample, device)\n",
    "model = _prepare_model(model, device)"
   ]
  },
  {
   "cell_type": "markdown",
   "id": "binding-alcohol",
   "metadata": {},
   "source": [
    "### normal case"
   ]
  },
  {
   "cell_type": "code",
   "execution_count": 460,
   "id": "secondary-language",
   "metadata": {},
   "outputs": [],
   "source": [
    "results = model(**sample, given_lang_tokens=1, know_gt_leng=False)"
   ]
  },
  {
   "cell_type": "markdown",
   "id": "convenient-button",
   "metadata": {},
   "source": [
    "original graph"
   ]
  },
  {
   "cell_type": "code",
   "execution_count": 461,
   "id": "talented-burden",
   "metadata": {},
   "outputs": [
    {
     "data": {
      "text/plain": [
       "[[6202, '\"old myocardial infarction\"'],\n",
       " [5909, '\"hematoma complicating a procedure\"'],\n",
       " [256, '\"hypovolemia\"'],\n",
       " [5806, '\"personal history of malignant neoplasm of large intestine\"'],\n",
       " [1849, '\"graft of muscle or fascia\"'],\n",
       " [7790, '\"pyogenic arthritis, lower leg\"'],\n",
       " [1821, '\"attachment of pedicle or flap graft to other sites\"'],\n",
       " [2559, '\"personal history of malignant neoplasm of cervix uteri\"'],\n",
       " [4239, '\"transfusion of packed cells\"'],\n",
       " [3183, '\"venous catheterization, not elsewhere classified\"'],\n",
       " [2483, '\"other iatrogenic hypotension\"'],\n",
       " [7431,\n",
       "  '\"other specified bacterial infections in conditions classified elsewhere and of unspecified site, other specified bacteria\"'],\n",
       " [3183, '\"venous catheterization, not elsewhere classified\"'],\n",
       " [6207, '\"transfusion of other serum\"'],\n",
       " [7135, '\"other arthrotomy, knee\"'],\n",
       " [553,\n",
       "  '\"other specified surgical operations and procedures causing abnormal patient reaction, or later complication, without mention of misadventure at time of operation\"'],\n",
       " [463, '\"urge incontinence\"'],\n",
       " [5323, '\"coronary atherosclerosis of native coronary artery\"'],\n",
       " [1310, '\"hemarthrosis, lower leg\"'],\n",
       " [4644, '\"unspecified essential hypertension\"']]"
      ]
     },
     "execution_count": 461,
     "metadata": {},
     "output_type": "execute_result"
    }
   ],
   "source": [
    "# [[t.item(),id2node[t.item()]] for t in sample['kg_input_ids'][0] if t > 0]\n",
    "[[t.item(), id2node[t.item()]] for t in sample['kg_input_ids'][0] if t > config.num_relations]"
   ]
  },
  {
   "cell_type": "markdown",
   "id": "accredited-moscow",
   "metadata": {},
   "source": [
    "original text"
   ]
  },
  {
   "cell_type": "code",
   "execution_count": 462,
   "id": "capable-lambda",
   "metadata": {},
   "outputs": [
    {
     "data": {
      "text/plain": [
       "'[CLS] r knee effusion, bleeding, hypotension, exposed hardware r knee [SEP] [SEP]'"
      ]
     },
     "execution_count": 462,
     "metadata": {},
     "output_type": "execute_result"
    }
   ],
   "source": [
    "temp = results[2][0]\n",
    "tokenizer.decode(temp[:sum(temp.not_equal(0))])"
   ]
  },
  {
   "cell_type": "markdown",
   "id": "detailed-vampire",
   "metadata": {},
   "source": [
    "generation output"
   ]
  },
  {
   "cell_type": "code",
   "execution_count": 463,
   "id": "mysterious-lewis",
   "metadata": {},
   "outputs": [
    {
     "data": {
      "text/plain": [
       "'[CLS] 1. left knee arthroplasty 2. left knee arthroplasty 3.'"
      ]
     },
     "execution_count": 463,
     "metadata": {},
     "output_type": "execute_result"
    }
   ],
   "source": [
    "temp = results[0][0]\n",
    "tokenizer.decode(temp[:sum(temp.not_equal(0))])"
   ]
  },
  {
   "cell_type": "markdown",
   "id": "unlimited-history",
   "metadata": {},
   "source": [
    "### random init"
   ]
  },
  {
   "cell_type": "code",
   "execution_count": 464,
   "id": "theoretical-collector",
   "metadata": {},
   "outputs": [],
   "source": [
    "results = model(**sample, given_lang_tokens=1, perturb_type='init_all', know_gt_leng=False)"
   ]
  },
  {
   "cell_type": "markdown",
   "id": "entire-think",
   "metadata": {},
   "source": [
    "generation output"
   ]
  },
  {
   "cell_type": "code",
   "execution_count": 465,
   "id": "limiting-ranch",
   "metadata": {
    "scrolled": true
   },
   "outputs": [
    {
     "data": {
      "text/plain": [
       "'[CLS] 1. acute on chronic systolic heart failure 2. pulmonary edema 3. pulmonary ed none'"
      ]
     },
     "execution_count": 465,
     "metadata": {},
     "output_type": "execute_result"
    }
   ],
   "source": [
    "temp = results[0][0]\n",
    "tokenizer.decode(temp[:sum(temp.not_equal(0))])"
   ]
  },
  {
   "cell_type": "markdown",
   "id": "unlike-civilian",
   "metadata": {},
   "source": [
    "### use only pre-training model"
   ]
  },
  {
   "cell_type": "code",
   "execution_count": 466,
   "id": "going-minneapolis",
   "metadata": {},
   "outputs": [
    {
     "name": "stderr",
     "output_type": "stream",
     "text": [
      "Some weights of the model checkpoint at /home/ssbae/bae/kg_txt_multimodal/lxmert/pretrained_models/pretrain/dx,prx/KGenc_LMinit_H128_L2,2,4_Unified2000 were not used when initializing LxmertForGeneration: ['classifier.weight', 'classifier.bias', 'edge_classifier.0.weight', 'edge_classifier.0.bias', 'edge_classifier.2.weight', 'edge_classifier.2.bias']\n",
      "- This IS expected if you are initializing LxmertForGeneration from the checkpoint of a model trained on another task or with another architecture (e.g. initializing a BertForSequenceClassification model from a BertForPreTraining model).\n",
      "- This IS NOT expected if you are initializing LxmertForGeneration from the checkpoint of a model that you expect to be exactly identical (initializing a BertForSequenceClassification model from a BertForSequenceClassification model).\n",
      "Some weights of LxmertForGeneration were not initialized from the model checkpoint at /home/ssbae/bae/kg_txt_multimodal/lxmert/pretrained_models/pretrain/dx,prx/KGenc_LMinit_H128_L2,2,4_Unified2000 and are newly initialized: ['lxmert.pooler.pooler.0.weight', 'lxmert.pooler.pooler.0.bias', 'lxmert.pooler.pooler.2.weight', 'lxmert.pooler.pooler.2.bias', 'lxmert.pooler.ce_pooler.0.weight', 'lxmert.pooler.ce_pooler.0.bias', 'lxmert.pooler.ce_pooler.2.weight', 'lxmert.pooler.ce_pooler.2.bias', 'rand_embeds.weight']\n",
      "You should probably TRAIN this model on a down-stream task to be able to use it for predictions and inference.\n"
     ]
    }
   ],
   "source": [
    "model_pt = LxmertForGeneration.from_pretrained(\n",
    "    config._name_or_path,\n",
    "    tokenizer=tokenizer\n",
    ")\n",
    "model_pt = _prepare_model(model_pt, device)"
   ]
  },
  {
   "cell_type": "code",
   "execution_count": 467,
   "id": "dated-wagner",
   "metadata": {},
   "outputs": [],
   "source": [
    "results = model_pt(**sample, given_lang_tokens=1, perturb_type=None, know_gt_leng=False)"
   ]
  },
  {
   "cell_type": "markdown",
   "id": "applicable-archive",
   "metadata": {},
   "source": [
    "generation output"
   ]
  },
  {
   "cell_type": "code",
   "execution_count": 468,
   "id": "alien-health",
   "metadata": {
    "scrolled": true
   },
   "outputs": [
    {
     "data": {
      "text/plain": [
       "'[CLS] cad cad hypertension diabetes type 2 type 2 type 2 diabetes type 2 type 2 diabetes type 2 type'"
      ]
     },
     "execution_count": 468,
     "metadata": {},
     "output_type": "execute_result"
    }
   ],
   "source": [
    "temp = results[0][0]\n",
    "tokenizer.decode(temp[:sum(temp.not_equal(0))])"
   ]
  },
  {
   "cell_type": "markdown",
   "id": "hybrid-foster",
   "metadata": {},
   "source": [
    "### perturbation"
   ]
  },
  {
   "cell_type": "markdown",
   "id": "increasing-initial",
   "metadata": {},
   "source": [
    "perturb a node of graph"
   ]
  },
  {
   "cell_type": "code",
   "execution_count": 469,
   "id": "reliable-assets",
   "metadata": {},
   "outputs": [],
   "source": [
    "sample_perturb = sample.copy()"
   ]
  },
  {
   "cell_type": "code",
   "execution_count": 470,
   "id": "acute-philippines",
   "metadata": {},
   "outputs": [
    {
     "data": {
      "text/plain": [
       "[[6202, '\"old myocardial infarction\"'],\n",
       " [5909, '\"hematoma complicating a procedure\"'],\n",
       " [256, '\"hypovolemia\"'],\n",
       " [5806, '\"personal history of malignant neoplasm of large intestine\"'],\n",
       " [1849, '\"graft of muscle or fascia\"'],\n",
       " [7790, '\"pyogenic arthritis, lower leg\"'],\n",
       " [1821, '\"attachment of pedicle or flap graft to other sites\"'],\n",
       " [2559, '\"personal history of malignant neoplasm of cervix uteri\"'],\n",
       " [4239, '\"transfusion of packed cells\"'],\n",
       " [3183, '\"venous catheterization, not elsewhere classified\"'],\n",
       " [2483, '\"other iatrogenic hypotension\"'],\n",
       " [7431,\n",
       "  '\"other specified bacterial infections in conditions classified elsewhere and of unspecified site, other specified bacteria\"'],\n",
       " [3183, '\"venous catheterization, not elsewhere classified\"'],\n",
       " [6207, '\"transfusion of other serum\"'],\n",
       " [7135, '\"other arthrotomy, knee\"'],\n",
       " [553,\n",
       "  '\"other specified surgical operations and procedures causing abnormal patient reaction, or later complication, without mention of misadventure at time of operation\"'],\n",
       " [463, '\"urge incontinence\"'],\n",
       " [5323, '\"coronary atherosclerosis of native coronary artery\"'],\n",
       " [1310, '\"hemarthrosis, lower leg\"'],\n",
       " [4644, '\"unspecified essential hypertension\"']]"
      ]
     },
     "execution_count": 470,
     "metadata": {},
     "output_type": "execute_result"
    }
   ],
   "source": [
    "# original graph\n",
    "[[t.item(), id2node[t.item()]] for t in sample['kg_input_ids'][0] if t > config.num_relations]"
   ]
  },
  {
   "cell_type": "code",
   "execution_count": 477,
   "id": "accredited-findings",
   "metadata": {},
   "outputs": [],
   "source": [
    "sample_perturb['kg_input_ids'] = sample_perturb['kg_input_ids'].not_equal(7135) * sample_perturb['kg_input_ids']"
   ]
  },
  {
   "cell_type": "code",
   "execution_count": 478,
   "id": "referenced-logic",
   "metadata": {},
   "outputs": [
    {
     "data": {
      "text/plain": [
       "[[6202, '\"old myocardial infarction\"'],\n",
       " [5909, '\"hematoma complicating a procedure\"'],\n",
       " [256, '\"hypovolemia\"'],\n",
       " [5806, '\"personal history of malignant neoplasm of large intestine\"'],\n",
       " [1849, '\"graft of muscle or fascia\"'],\n",
       " [7790, '\"pyogenic arthritis, lower leg\"'],\n",
       " [1821, '\"attachment of pedicle or flap graft to other sites\"'],\n",
       " [2559, '\"personal history of malignant neoplasm of cervix uteri\"'],\n",
       " [4239, '\"transfusion of packed cells\"'],\n",
       " [3183, '\"venous catheterization, not elsewhere classified\"'],\n",
       " [2483, '\"other iatrogenic hypotension\"'],\n",
       " [7431,\n",
       "  '\"other specified bacterial infections in conditions classified elsewhere and of unspecified site, other specified bacteria\"'],\n",
       " [3183, '\"venous catheterization, not elsewhere classified\"'],\n",
       " [6207, '\"transfusion of other serum\"'],\n",
       " [553,\n",
       "  '\"other specified surgical operations and procedures causing abnormal patient reaction, or later complication, without mention of misadventure at time of operation\"'],\n",
       " [463, '\"urge incontinence\"'],\n",
       " [5323, '\"coronary atherosclerosis of native coronary artery\"'],\n",
       " [1310, '\"hemarthrosis, lower leg\"'],\n",
       " [4644, '\"unspecified essential hypertension\"']]"
      ]
     },
     "execution_count": 478,
     "metadata": {},
     "output_type": "execute_result"
    }
   ],
   "source": [
    "# perturbed graph\n",
    "[[t.item(), id2node[t.item()]] for t in sample_perturb['kg_input_ids'][0] if t > config.num_relations]"
   ]
  },
  {
   "cell_type": "code",
   "execution_count": 479,
   "id": "innocent-sacrifice",
   "metadata": {},
   "outputs": [],
   "source": [
    "results = model(**sample, given_lang_tokens=1, know_gt_leng=False)\n",
    "results_perturb = model(**sample_perturb, given_lang_tokens=1, know_gt_leng=False)"
   ]
  },
  {
   "cell_type": "code",
   "execution_count": 480,
   "id": "pointed-musician",
   "metadata": {},
   "outputs": [
    {
     "data": {
      "text/plain": [
       "'[CLS] 1. left knee arthroplasty 2. left knee arthroplasty 3.'"
      ]
     },
     "execution_count": 480,
     "metadata": {},
     "output_type": "execute_result"
    }
   ],
   "source": [
    "# generate text given an original graph\n",
    "temp = results[0][0]\n",
    "tokenizer.decode(temp[:sum(temp.not_equal(0))])"
   ]
  },
  {
   "cell_type": "code",
   "execution_count": 481,
   "id": "executive-discrimination",
   "metadata": {},
   "outputs": [
    {
     "data": {
      "text/plain": [
       "'[CLS] 1. left lateral wall wall 2. left lateral wall wall 3. left lateral wall wall wall 1'"
      ]
     },
     "execution_count": 481,
     "metadata": {},
     "output_type": "execute_result"
    }
   ],
   "source": [
    "# generate text given a perturbed graph\n",
    "temp = results_perturb[0][0]\n",
    "tokenizer.decode(temp[:sum(temp.not_equal(0))])"
   ]
  },
  {
   "cell_type": "code",
   "execution_count": 482,
   "id": "gothic-bibliography",
   "metadata": {},
   "outputs": [
    {
     "data": {
      "text/plain": [
       "'[CLS] r knee effusion, bleeding, hypotension, exposed hardware r knee [SEP] [SEP]'"
      ]
     },
     "execution_count": 482,
     "metadata": {},
     "output_type": "execute_result"
    }
   ],
   "source": [
    "# ground truth text\n",
    "temp = results[2][0]\n",
    "tokenizer.decode(temp[:sum(temp.not_equal(0))])"
   ]
  }
 ],
 "metadata": {
  "kernelspec": {
   "display_name": "Python 3",
   "language": "python",
   "name": "python3"
  },
  "language_info": {
   "codemirror_mode": {
    "name": "ipython",
    "version": 3
   },
   "file_extension": ".py",
   "mimetype": "text/x-python",
   "name": "python",
   "nbconvert_exporter": "python",
   "pygments_lexer": "ipython3",
   "version": "3.7.9"
  }
 },
 "nbformat": 4,
 "nbformat_minor": 5
}
