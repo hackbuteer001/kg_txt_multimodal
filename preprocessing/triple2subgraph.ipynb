{
 "cells": [
  {
   "cell_type": "markdown",
   "metadata": {
    "id": "UCzMtobduJtf"
   },
   "source": [
    "# **1. Run Depth First Search on KG (Node only)** \n",
    "\n",
    "Root is an admission node."
   ]
  },
  {
   "cell_type": "code",
   "execution_count": 1,
   "metadata": {},
   "outputs": [],
   "source": [
    "ROOT_DIR = 'px'"
   ]
  },
  {
   "cell_type": "code",
   "execution_count": 2,
   "metadata": {
    "colab": {
     "base_uri": "https://localhost:8080/"
    },
    "executionInfo": {
     "elapsed": 119438,
     "status": "ok",
     "timestamp": 1604240640911,
     "user": {
      "displayName": "Park Sungjin",
      "photoUrl": "",
      "userId": "10892187777297360592"
     },
     "user_tz": -540
    },
    "id": "M6P8d-FytHkS",
    "outputId": "535c80ac-9331-4297-9e8c-49ce8dbb5bf1"
   },
   "outputs": [
    {
     "name": "stderr",
     "output_type": "stream",
     "text": [
      "  0%|          | 75321/19499414 [00:00<00:25, 753208.92it/s]"
     ]
    },
    {
     "name": "stdout",
     "output_type": "stream",
     "text": [
      "start preprocessing\n",
      "level:0\n"
     ]
    },
    {
     "name": "stderr",
     "output_type": "stream",
     "text": [
      "100%|██████████| 19499414/19499414 [00:14<00:00, 1373368.82it/s]\n"
     ]
    },
    {
     "name": "stdout",
     "output_type": "stream",
     "text": [
      "16561968/19499414\n"
     ]
    },
    {
     "name": "stderr",
     "output_type": "stream",
     "text": [
      "  0%|          | 40451/16561968 [00:00<00:40, 404502.67it/s]"
     ]
    },
    {
     "name": "stdout",
     "output_type": "stream",
     "text": [
      "level:1\n"
     ]
    },
    {
     "name": "stderr",
     "output_type": "stream",
     "text": [
      "100%|██████████| 16561968/16561968 [00:29<00:00, 553861.96it/s]\n"
     ]
    },
    {
     "name": "stdout",
     "output_type": "stream",
     "text": [
      "0/16561968\n"
     ]
    },
    {
     "name": "stderr",
     "output_type": "stream",
     "text": [
      "100%|██████████| 33425/33425 [00:08<00:00, 4089.93it/s]\n"
     ]
    },
    {
     "name": "stdout",
     "output_type": "stream",
     "text": [
      "33684/33425\n",
      "33692\n",
      "26168\n",
      "768\n"
     ]
    }
   ],
   "source": [
    "from tqdm import tqdm\n",
    "import pickle\n",
    "import torch\n",
    "import numpy as np\n",
    "import os\n",
    "\n",
    "NUM_SPECIAL_TOKENS = 2\n",
    "\n",
    "def get_childs(subgraph, depth, heads):\n",
    "    temp_seq = list()\n",
    "    for head in heads:\n",
    "        temp_seq += subgraph[depth][head]\n",
    "    return temp_seq\n",
    "\n",
    "# Build dictionaries from file\n",
    "triples = [x.split() for x in open(os.path.join(ROOT_DIR,'train2id.txt')).read().splitlines()[1:]]\n",
    "node2edge = {(h,t):r for h,t,r in triples}\n",
    "nodes = {' '.join(x.split()[:-1]):x.split()[-1] for x in open(os.path.join(ROOT_DIR,'entity2id.txt')).read().splitlines()[1:]}\n",
    "literals = {k:int(v)+NUM_SPECIAL_TOKENS for (k,v) in list(nodes.items()) if '^^' in k}\n",
    "edges = {x.split()[0]:x.split()[1] for x in open(os.path.join(ROOT_DIR,'relation2id.txt')).read().splitlines()[1:]}\n",
    "\n",
    "# Extract Admission Nodes & Literals\n",
    "adm_node = list()\n",
    "for node in list(nodes.items()):\n",
    "    if 'hadm' in node[0]:\n",
    "        adm_node.append(node[1])\n",
    "        \n",
    "# Initialize subgraph\n",
    "subgraph_norel = [{node:list() for node in adm_node}]\n",
    "\n",
    "# Depth First Search\n",
    "print('start preprocessing')\n",
    "level = 0\n",
    "while len(triples)>0:\n",
    "    queue = list()\n",
    "    print('level:{}'.format(level))\n",
    "    for triple in tqdm(triples):\n",
    "        if triple[0] in subgraph_norel[level]:\n",
    "            subgraph_norel[level][triple[0]].append(triple[1])\n",
    "            flag = False\n",
    "        else:\n",
    "            flag = True\n",
    "        if flag:\n",
    "            queue.append(triple)\n",
    "    print('{}/{}'.format(len(queue),len(triples)))\n",
    "    new_head = list()\n",
    "    for heads in list(subgraph_norel[level].values()):\n",
    "        new_head+=heads\n",
    "    subgraph_norel.append({k:list() for k in new_head})\n",
    "    triples = queue\n",
    "    level += 1\n",
    "    if level > 30:\n",
    "        break\n",
    "\n",
    "# Build subgraph\n",
    "subgraphs = dict()\n",
    "max_len = 768\n",
    "cnt = 0\n",
    "for head in tqdm(list(subgraph_norel[0].keys())):\n",
    "    depth=0\n",
    "    seq = [head]\n",
    "    heads = [head]\n",
    "    while depth<level:\n",
    "        heads = get_childs(subgraph_norel,depth,heads)\n",
    "        seq += heads\n",
    "        depth+=1\n",
    "    if len(seq)>max_len:\n",
    "        continue\n",
    "    else:\n",
    "        subgraphs[head]=[int(x)+NUM_SPECIAL_TOKENS for x in seq]+[0]*(max_len-len(seq))\n",
    "\n",
    "# Align subgraph and note, remove unmathced samples\n",
    "aid = [nodes['</hadm_id/{}>'.format(x)] for x in open(os.path.join(ROOT_DIR,'p_hadm_ids.txt')).read().splitlines() if (len(x)>0) and ('</hadm_id/{}>'.format(x) in nodes)]\n",
    "note = [x for x in open(os.path.join(ROOT_DIR,'p_sections.txt')).read().splitlines() if (len(x)>0)]\n",
    "note_aid_pair = [(x,y) for (x,y) in zip(aid,note) if x in subgraphs]\n",
    "print('{}/{}'.format(len(aid),len(adm_node)))\n",
    "print(len(note))\n",
    "print(len(note_aid_pair))\n",
    "print(max(list(map(lambda x: len(x),list(subgraphs.values())))))\n",
    "print('num_literals : {}'.format(len(literals.items())))\n",
    "\n",
    "# Re-indexing nodes in current subgraph after filtering\n",
    "new_nodes = list()\n",
    "for head, note in note_aid_pair:\n",
    "    new_nodes += subgraphs[head]\n",
    "new_nodes = set(new_nodes)\n",
    "old2new = dict()\n"
   ]
  },
  {
   "cell_type": "code",
   "execution_count": 4,
   "metadata": {},
   "outputs": [
    {
     "name": "stdout",
     "output_type": "stream",
     "text": [
      "num_literals : 9291\n",
      "num_nodes : 3015342\n"
     ]
    }
   ],
   "source": [
    "print('num_literals : {}'.format(len(literals.items())))\n",
    "print('num_nodes : {}'.format(len(nodes.items())))"
   ]
  },
  {
   "cell_type": "markdown",
   "metadata": {},
   "source": [
    "# **2. Build DB**"
   ]
  },
  {
   "cell_type": "markdown",
   "metadata": {},
   "source": [
    "## 2-0. TVT split"
   ]
  },
  {
   "cell_type": "code",
   "execution_count": null,
   "metadata": {},
   "outputs": [],
   "source": [
    "# Build Input\n",
    "if not os.path.exists('{}.db'.format(ROOT_DIR)):\n",
    "    DB = {'train':[],'valid':[],'test':[]}\n",
    "    for sample in tqdm(note_aid_pair):\n",
    "        split = np.random.choice(list(DB.keys()),p=[0.8,0.1,0.1])\n",
    "        if (len(split)>0.1*len(note_aid_pair)) and (split in ['valid', 'test']):\n",
    "            split = 'train'\n",
    "        elif (len(split)>0.8*len(note_aid_pair)) and (split in ['train']):\n",
    "            split = np.random.choice(['valid','test'],p=[0.5,0.5])\n",
    "        DB[split].append(sample)\n",
    "    torch.save(DB,'{}.db'.format(ROOT_DIR))\n",
    "else:\n",
    "    DB = torch.load('{}.db'.format(ROOT_DIR))"
   ]
  },
  {
   "cell_type": "markdown",
   "metadata": {
    "id": "iIoqHq_nueia"
   },
   "source": [
    "## 2-1-(1). Masked Literal Prediction"
   ]
  },
  {
   "cell_type": "code",
   "execution_count": null,
   "metadata": {
    "colab": {
     "base_uri": "https://localhost:8080/"
    },
    "executionInfo": {
     "elapsed": 280336,
     "status": "ok",
     "timestamp": 1604241423375,
     "user": {
      "displayName": "Park Sungjin",
      "photoUrl": "",
      "userId": "10892187777297360592"
     },
     "user_tz": -540
    },
    "id": "T8yG81c8tHkW",
    "outputId": "2b36e7fd-a267-4346-d04c-fb5d0fe2b7b6"
   },
   "outputs": [],
   "source": [
    "task = '{}_NoKGenc'.format(ROOT_DIR)\n",
    "if not os.path.isdir(task):\n",
    "    os.mkdir(task)\n",
    "\n",
    "# Re-index literals for labeling\n",
    "literal_id2label = {k:v for (v,k) in enumerate(list(literals.values()))}\n",
    "torch.save(literal_id2label,'{}/id2label'.format(task))\n",
    "\n",
    "for split in DB:\n",
    "    print('[{}] set size : {}'.format(split, len(DB[split])))\n",
    "    if not os.path.isdir(os.path.join(task,split)):\n",
    "        os.mkdir(os.path.join(task,split))\n",
    "    inputs = list()\n",
    "    labels = list()\n",
    "    label_masks = list()\n",
    "    notes = list()\n",
    "    for head, note in DB[split]:\n",
    "        inputs.append(subgraphs[head])\n",
    "        labels.append(list(map(lambda x: literal_id2label[x] if x in literal_id2label else -100,subgraphs[head])))\n",
    "        label_masks.append(list(map(lambda x: 1 if x in literal_id2label else 0,subgraphs[head])))\n",
    "        notes.append(note)\n",
    "    torch.save({'input':inputs,\n",
    "                'label':labels,\n",
    "                'label_mask':label_masks,\n",
    "                'text':notes},\n",
    "                '{}/db'.format(os.path.join(task,split)))"
   ]
  },
  {
   "cell_type": "markdown",
   "metadata": {},
   "source": [
    "## 2-1-(2). Masked Literal Prediction, Graph Enc, Multi-relational"
   ]
  },
  {
   "cell_type": "code",
   "execution_count": null,
   "metadata": {},
   "outputs": [],
   "source": [
    "task = '{}_MultiKGenc'.format(ROOT_DIR)\n",
    "UniDirectional = False\n",
    "triples = [x.split() for x in open(os.path.join(ROOT_DIR,'train2id.txt')).read().splitlines()[1:]]\n",
    "node2edge = {(int(h)+2,int(t)+2):r for h,t,r in triples}\n",
    "\n",
    "if not os.path.isdir(task):\n",
    "    os.mkdir(task)\n",
    "\n",
    "# Re-index literals for labeling\n",
    "literal_id2label = {k:v for (v,k) in enumerate(list(literals.values()))}\n",
    "torch.save(literal_id2label,'{}/id2label'.format(task))\n",
    "\n",
    "for split in DB:\n",
    "    print('[{}] set size : {}'.format(split, len(DB[split])))\n",
    "    if not os.path.isdir(os.path.join(task,split)):\n",
    "        os.mkdir(os.path.join(task,split))\n",
    "    inputs = list()\n",
    "    masks = list()\n",
    "    labels = list()\n",
    "    label_masks = list()\n",
    "    notes = list()\n",
    "    \n",
    "    for head, note in tqdm(DB[split],total=len(DB[split])):\n",
    "        subgraph = subgraphs[head]\n",
    "        # Append input\n",
    "        inputs.append(subgraph)\n",
    "        # Append label\n",
    "        labels.append(list(map(lambda x: literal_id2label[x] if x in literal_id2label else -100,subgraph)))\n",
    "        label_masks.append(list(map(lambda x: 1 if x in literal_id2label else 0,subgraph)))\n",
    "        # Append attention mask for graph encoder\n",
    "        mask =  torch.stack([torch.eye(len(subgraph)) for _ in range(len(edges))],dim=2)\n",
    "        if UniDirectional:\n",
    "            for head_idx, head in enumerate(subgraph):\n",
    "                for tail_idx, tail in enumerate(subgraph):\n",
    "                    if head_idx>tail_idx:\n",
    "                        continue\n",
    "                    else:\n",
    "                        if (head,tail) in node2edge:\n",
    "                            mask[(head_idx, tail_idx, node2edge[(head,tail)])]=1.0\n",
    "        else:\n",
    "            for head_idx, head in enumerate(subgraph):\n",
    "                for tail_idx, tail in enumerate(subgraph):\n",
    "                    if head_idx>tail_idx:\n",
    "                        continue\n",
    "                    elif (head==0) or (tail==0):\n",
    "                        continue\n",
    "                    else:\n",
    "                        if (head,tail) in node2edge:\n",
    "                            mask[(head_idx, tail_idx, int(node2edge[(head,tail)]))]=1.0\n",
    "                            mask[(tail_idx, head_idx, int(node2edge[(head,tail)]))]=1.0\n",
    "        masks.append(mask)\n",
    "        notes.append(note)\n",
    "            \n",
    "    torch.save({'input':inputs,\n",
    "                'mask':masks,\n",
    "                'label':labels,\n",
    "                'label_mask':label_masks,\n",
    "                'text':notes},\n",
    "                '{}/db'.format(os.path.join(task,split)))"
   ]
  },
  {
   "cell_type": "markdown",
   "metadata": {},
   "source": [
    "## 2-1-(3). Masked Literal Prediction, Graph Enc, Homogeneous"
   ]
  },
  {
   "cell_type": "code",
   "execution_count": null,
   "metadata": {},
   "outputs": [],
   "source": [
    "task = '{}_UniKGenc'.format(ROOT_DIR)\n",
    "triples = [x.split() for x in open(os.path.join(ROOT_DIR,'train2id.txt')).read().splitlines()[1:]]\n",
    "node2edge = {(int(h)+2,int(t)+2):r for h,t,r in triples}\n",
    "\n",
    "if not os.path.isdir(task):\n",
    "    os.mkdir(task)\n",
    "\n",
    "# Re-index literals for labeling\n",
    "literal_id2label = {k:v for (v,k) in enumerate(list(literals.values()))}\n",
    "torch.save(literal_id2label,'{}/id2label'.format(task))\n",
    "\n",
    "for split in DB:\n",
    "    print('[{}] set size : {}'.format(split, len(DB[split])))\n",
    "    if not os.path.isdir(os.path.join(task,split)):\n",
    "        os.mkdir(os.path.join(task,split))\n",
    "    inputs = list()\n",
    "    masks = list()\n",
    "    labels = list()\n",
    "    label_masks = list()\n",
    "    notes = list()\n",
    "    \n",
    "    for head, note in tqdm(DB[split],total=len(DB[split])):\n",
    "        subgraph = subgraphs[head]\n",
    "        # Append input\n",
    "        inputs.append(subgraph)\n",
    "        # Append label\n",
    "        labels.append(list(map(lambda x: literal_id2label[x] if x in literal_id2label else -100,subgraph)))\n",
    "        label_masks.append(list(map(lambda x: 1 if x in literal_id2label else 0,subgraph)))\n",
    "        # Append attention mask for graph encoder\n",
    "        mask =  torch.eye(len(subgraph))\n",
    "        for head_idx, head in enumerate(subgraph):\n",
    "            for tail_idx, tail in enumerate(subgraph):\n",
    "                if head_idx>tail_idx:\n",
    "                    continue\n",
    "                elif (head==0) or (tail==0):\n",
    "                    continue\n",
    "                else:\n",
    "                    if (head,tail) in node2edge:\n",
    "                        mask[(head_idx, tail_idx)]=1.0\n",
    "                        mask[(tail_idx, head_idx)]=1.0\n",
    "        masks.append(mask)\n",
    "        notes.append(note)\n",
    "            \n",
    "    torch.save({'input':inputs,\n",
    "                'mask':masks,\n",
    "                'label':labels,\n",
    "                'label_mask':label_masks,\n",
    "                'text':notes},\n",
    "                '{}/db'.format(os.path.join(task,split)))"
   ]
  },
  {
   "cell_type": "markdown",
   "metadata": {},
   "source": [
    "**Sanity Check**"
   ]
  },
  {
   "cell_type": "code",
   "execution_count": null,
   "metadata": {},
   "outputs": [],
   "source": [
    "IDX = 0\n",
    "id2entity = {int(line.split('\\t')[1])+2:line.split('\\t')[0].split('^^')[0] for line in open(os.path.join(ROOT_DIR,'entity2id.txt')).read().splitlines()[1:]}\n",
    "print(notes[IDX])\n",
    "print([id2entity[x] for x in inputs[IDX] if x!=0])\n",
    "print(labels[IDX])\n",
    "print(label_masks[IDX])\n",
    "print(masks[IDX].shape)\n",
    "print(~torch.tensor(inputs[IDX]).eq(0))"
   ]
  },
  {
   "cell_type": "markdown",
   "metadata": {
    "id": "Xo4WacHCveOi"
   },
   "source": [
    "## 2-2. Literal Bucket Prediction _(ongoing..)_"
   ]
  },
  {
   "cell_type": "code",
   "execution_count": null,
   "metadata": {
    "id": "nUWX_Dxg1jCH"
   },
   "outputs": [],
   "source": [
    "task = 'masked_literal_prediction'\n",
    "if not os.path.isdir(task):\n",
    "    os.mkdir(task)\n",
    "# Build Input\n",
    "DB = {'train':[],'valid':[],'test':[]}\n",
    "for sample in note_aid_pair:\n",
    "    split = np.random.choice(list(DB.keys()),p=[0.8,0.1,0.1])\n",
    "    if (len(split)>0.1*len(note_aid_pair)) and (split in ['valid', 'test']):\n",
    "        split = 'train'\n",
    "    elif (len(split)>0.8*len(note_aid_pair)) and (split in ['train']):\n",
    "        split = np.random.choice(['valid','test'],p=[0.5,0.5])\n",
    "    DB[split].append(sample)\n",
    "\n",
    "# Load Bucket ID\n",
    "literalID2bucketID = torch.load('literalID2bucketID')\n",
    "\n",
    "for split in DB:\n",
    "    print('[{}] set size : {}'.format(split, len(DB[split])))\n",
    "    if not os.path.isdir(os.path.join(task,split)):\n",
    "        os.mkdir(os.path.join(task,split))\n",
    "    torch.save(literal_id2label,'{}/id2label'.format(os.path.join(task,split)))\n",
    "    torch.save([note for (head,note) in DB[split]],'{}/note'.format(os.path.join(task,split)))\n",
    "    torch.save({'input':[subgraphs[head] for (head,note) in DB[split]],\n",
    "                'mask':[(~np.isin(np.array(subgraphs[head]),list(literals.values()))).astype(np.int64).tolist() for (head,note) in DB[split]],\n",
    "                'label':[list(map(lambda x: literalID2bucketID[x] if x in literalID2bucketID else -100,subgraphs[head])) for (head,note) in DB[split]]},\n",
    "               '{}/{}/kg_norel'.format(task,split))"
   ]
  },
  {
   "cell_type": "markdown",
   "metadata": {
    "id": "Cl5zew0jvW75"
   },
   "source": [
    "## 2-3. Contrastive Learning _(ongoing..)_"
   ]
  },
  {
   "cell_type": "code",
   "execution_count": null,
   "metadata": {
    "id": "jNTHhbQZ1jaU"
   },
   "outputs": [],
   "source": [
    "def negative_sampling(input, mask):\n",
    "\n",
    "task = 'masked_literal_prediction'\n",
    "if not os.path.isdir(task):\n",
    "    os.mkdir(task)\n",
    "# Build Input\n",
    "DB = {'train':[],'valid':[],'test':[]}\n",
    "for sample in note_aid_pair:\n",
    "    split = np.random.choice(list(DB.keys()),p=[0.8,0.1,0.1])\n",
    "    if (len(split)>0.1*len(note_aid_pair)) and (split in ['valid', 'test']):\n",
    "        split = 'train'\n",
    "    elif (len(split)>0.8*len(note_aid_pair)) and (split in ['train']):\n",
    "        split = np.random.choice(['valid','test'],p=[0.5,0.5])\n",
    "    DB[split].append(sample)\n",
    "\n",
    "# Re-index literals for labeling\n",
    "literal_id2label = {k:v for (v,k) in enumerate(list(literals.values()))}\n",
    "\n",
    "for split in DB:\n",
    "    print('[{}] set size : {}'.format(split, len(DB[split])))\n",
    "    if not os.path.isdir(os.path.join(task,split)):\n",
    "        os.mkdir(os.path.join(task,split))\n",
    "    torch.save(literal_id2label,'{}/id2label'.format(os.path.join(task,split)))\n",
    "    torch.save([note for (head,note) in DB[split]],'{}/note'.format(os.path.join(task,split)))\n",
    "    torch.save({'input':[subgraphs[head] for (head,note) in DB[split]],\n",
    "                'mask':[(~np.isin(np.array(subgraphs[head]),list(literals.values()))).astype(np.int64).tolist() for (head,note) in DB[split]],\n",
    "                'label':[list(map(lambda x: literal_id2label[x] if x in literal_id2label else -100,subgraphs[head])) for (head,note) in DB[split]]},\n",
    "               '{}/{}/kg_norel'.format(task,split))"
   ]
  },
  {
   "cell_type": "markdown",
   "metadata": {
    "id": "p3z4_vqY2rzc"
   },
   "source": [
    "**Supp 1. Save DB in torch.tensor format**"
   ]
  },
  {
   "cell_type": "code",
   "execution_count": null,
   "metadata": {
    "id": "BwxPUhGr2ruw"
   },
   "outputs": [],
   "source": [
    "# Only for DB in tensor form\n",
    "# Get id sequence of notes\n",
    "\n",
    "print(subgraphs)\n",
    "tensorized_subgraphs = torch.LongTensor([x for x in subgraphs])\n",
    "print(max_len)\n",
    "print(len(subgraphs))\n",
    "print(tensorized_subgraphs[0,:20])\n",
    "print('Saving...')\n",
    "torch.save(tensorized_subgraphs,'subgraph_norel')\n",
    "print('Done')"
   ]
  },
  {
   "cell_type": "markdown",
   "metadata": {},
   "source": [
    "**Supp 2. Check input for debugging purpose**"
   ]
  },
  {
   "cell_type": "code",
   "execution_count": null,
   "metadata": {
    "colab": {
     "base_uri": "https://localhost:8080/"
    },
    "executionInfo": {
     "elapsed": 746,
     "status": "ok",
     "timestamp": 1604245224905,
     "user": {
      "displayName": "Park Sungjin",
      "photoUrl": "",
      "userId": "10892187777297360592"
     },
     "user_tz": -540
    },
    "id": "z6vOs_8HZCiy",
    "outputId": "3da879b2-d0e1-4b72-bfd1-8e6e3b63f6c6"
   },
   "outputs": [],
   "source": [
    "split = 'test'\n",
    "input = subgraphs[DB[split][0][0]]\n",
    "mask = (~np.isin(np.array(subgraphs[DB[split][0][0]]),list(literals.values()))).astype(np.int64).tolist() \n",
    "label = list(map(lambda x: literal_id2label[x] if x in literal_id2label else -100,subgraphs[DB[split][0][0]])) \n",
    "print(input)\n",
    "print(mask)\n",
    "print(label)\n",
    "#print(literals)\n",
    "print(len(literals))\n",
    "print(list(literals.items())[-1])\n",
    "print(list(literal_id2label.items())[-1])\n",
    "#list(literals.values())[:5]"
   ]
  },
  {
   "cell_type": "markdown",
   "metadata": {
    "id": "T7awNjSEwl9E"
   },
   "source": [
    "**Supp 3. Run Depth First Search on KG (Node & Relation)**\n",
    "\n",
    "Root is an admission node."
   ]
  },
  {
   "cell_type": "code",
   "execution_count": null,
   "metadata": {
    "id": "qME9ZZ1UwuSv"
   },
   "outputs": [],
   "source": [
    "from tqdm import tqdm\n",
    "import pickle\n",
    "import torch\n",
    "import numpy as np\n",
    "import os\n",
    "\n",
    "NUM_SPECIAL_TOKENS = 2\n",
    "\n",
    "def get_childs_withrel(subgraph, depth, heads,node2edge):\n",
    "    temp_seq = list()\n",
    "    temp_heads = list()\n",
    "    for head in heads:\n",
    "        node_set = [(head,tail) for tail in subgraph[depth][head]]\n",
    "        for node_pair in node_set:\n",
    "            temp_seq += ['r'+node2edge[node_pair],node_pair[1]]\n",
    "        temp_heads += subgraph[depth][head]\n",
    "    return temp_seq, temp_heads\n",
    "\n",
    "triples = [x.split() for x in open('train2id.txt').read().splitlines()[1:]]\n",
    "node2edge = {(h,t):r for h,t,r in triples}\n",
    "nodes = {' '.join(x.split()[:-1]):x.split()[-1] for x in open('entity2id.txt').read().splitlines()[1:]}\n",
    "literals = {k:int(v)+NUM_SPECIAL_TOKENS for (k,v) in list(nodes.items()) if '^^' in node[0]}\n",
    "edges = {x.split()[0]:x.split()[1] for x in open('relation2id.txt').read().splitlines()[1:]}\n",
    "\n",
    "# Extract Admission Nodes & Literals\n",
    "adm_node = list()\n",
    "for node in list(nodes.items()):\n",
    "    if 'hadm' in node[0]:\n",
    "        adm_node.append(node[1])   \n",
    "        \n",
    "# Initialize subgraph\n",
    "subgraph_norel = [{node:list() for node in adm_node}]\n",
    "\n",
    "#subgraph_rel = dict(adm_node)\n",
    "#node_dict = list(subgraph_norel.keys())\n",
    "\n",
    "# Depth First Search\n",
    "print('start preprocessing')\n",
    "level = 0\n",
    "while len(triples)>0:\n",
    "    queue = list()\n",
    "    print('level:{}'.format(level))\n",
    "    for triple in tqdm(triples):\n",
    "        if triple[0] in subgraph_norel[level]:\n",
    "            subgraph_norel[level][triple[0]].append(triple[1])\n",
    "            flag = False\n",
    "        else:\n",
    "            flag = True\n",
    "        if flag:\n",
    "            queue.append(triple)\n",
    "    print('{}/{}'.format(len(queue),len(triples)))\n",
    "    new_head = list()\n",
    "    for heads in list(subgraph_norel[level].values()):\n",
    "        new_head+=heads\n",
    "    subgraph_norel.append({k:list() for k in new_head})\n",
    "    triples = queue\n",
    "    level += 1\n",
    "\n",
    "# Build subgraph\n",
    "subgraphs = list()\n",
    "max_len = 0\n",
    "for head in tqdm(list(subgraph_norel[0].keys())):\n",
    "    depth=0\n",
    "    seq = [head]\n",
    "    heads = [head]\n",
    "    while depth<level:\n",
    "        seqs, heads = get_childs_withrel(subgraph_norel,depth,heads,node2edge)\n",
    "        seq += seqs\n",
    "        depth+=1\n",
    "    subgraphs.append(list(map(lambda x: int(x)+NUM_SPECIAL_TOKENS if 'r' not in x else -(int(x.split('r')[-1])+1),seq)))\n",
    "    if len(seq)>max_len:\n",
    "        max_len = len(seq)\n",
    "\n",
    "# Align subgraph and note\n",
    "aid = [nodes['</hadm_id/{}>'.format(x)] for x in open('p_hadm_ids.txt').read().splitlines() if (len(x)>0) and ('</hadm_id/{}>'.format(x) in nodes)]\n",
    "note = [x for x in open('p_sections.txt').read().splitlines() if (len(x)>0)]\n",
    "note_aid_pair = [(x,y) for (x,y) in zip(aid,note) if x in subgraphs]\n",
    "print('{}/{}'.format(len(aid),len(adm_node)))\n",
    "print(len(note))\n",
    "print(len(note_aid_pair))"
   ]
  }
 ],
 "metadata": {
  "colab": {
   "name": "triple2subgraph.ipynb",
   "provenance": []
  },
  "kernelspec": {
   "display_name": "Python 3",
   "language": "python",
   "name": "python3"
  },
  "language_info": {
   "codemirror_mode": {
    "name": "ipython",
    "version": 3
   },
   "file_extension": ".py",
   "mimetype": "text/x-python",
   "name": "python",
   "nbconvert_exporter": "python",
   "pygments_lexer": "ipython3",
   "version": "3.8.5"
  }
 },
 "nbformat": 4,
 "nbformat_minor": 1
}
